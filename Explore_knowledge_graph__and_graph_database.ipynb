{
  "cells": [
    {
      "cell_type": "markdown",
      "metadata": {
        "id": "view-in-github",
        "colab_type": "text"
      },
      "source": [
        "<a href=\"https://colab.research.google.com/github/tokyo8182/LLM-RAG/blob/main/Explore_knowledge_graph__and_graph_database.ipynb\" target=\"_parent\"><img src=\"https://colab.research.google.com/assets/colab-badge.svg\" alt=\"Open In Colab\"/></a>"
      ]
    },
    {
      "cell_type": "code",
      "execution_count": null,
      "metadata": {
        "id": "BJpAJ_HqtqRA",
        "colab": {
          "base_uri": "https://localhost:8080/"
        },
        "outputId": "8277b82c-ac88-4c48-dc1a-7580e9cb6e25"
      },
      "outputs": [
        {
          "output_type": "stream",
          "name": "stdout",
          "text": [
            "Mounted at /content/drive\n"
          ]
        }
      ],
      "source": [
        "#Mount google drive to access dataset on google drive\n",
        "from google.colab import drive\n",
        "drive.mount('/content/drive')"
      ]
    },
    {
      "cell_type": "code",
      "source": [
        "# Import python libraries that could be needed\n",
        "import pandas as pd\n",
        "import numpy as np\n",
        "import matplotlib.pyplot as plt\n",
        "import seaborn as sns"
      ],
      "metadata": {
        "id": "93dDru_h8Rmn"
      },
      "execution_count": null,
      "outputs": []
    },
    {
      "cell_type": "code",
      "execution_count": null,
      "metadata": {
        "collapsed": true,
        "id": "R1f5mtnevT5L",
        "colab": {
          "base_uri": "https://localhost:8080/"
        },
        "outputId": "35b0eea8-ba1c-4e3f-bd9e-21fd13f656c5"
      },
      "outputs": [
        {
          "output_type": "stream",
          "name": "stdout",
          "text": [
            "\u001b[2K   \u001b[90m━━━━━━━━━━━━━━━━━━━━━━━━━━━━━━━━━━━━━━━━\u001b[0m \u001b[32m2.4/2.4 MB\u001b[0m \u001b[31m26.7 MB/s\u001b[0m eta \u001b[36m0:00:00\u001b[0m\n",
            "\u001b[2K   \u001b[90m━━━━━━━━━━━━━━━━━━━━━━━━━━━━━━━━━━━━━━━━\u001b[0m \u001b[32m3.1/3.1 MB\u001b[0m \u001b[31m28.2 MB/s\u001b[0m eta \u001b[36m0:00:00\u001b[0m\n",
            "\u001b[2K   \u001b[90m━━━━━━━━━━━━━━━━━━━━━━━━━━━━━━━━━━━━━━━━\u001b[0m \u001b[32m49.5/49.5 kB\u001b[0m \u001b[31m2.6 MB/s\u001b[0m eta \u001b[36m0:00:00\u001b[0m\n",
            "\u001b[2K   \u001b[90m━━━━━━━━━━━━━━━━━━━━━━━━━━━━━━━━━━━━━━━━\u001b[0m \u001b[32m108.9/108.9 kB\u001b[0m \u001b[31m2.7 MB/s\u001b[0m eta \u001b[36m0:00:00\u001b[0m\n",
            "\u001b[2K   \u001b[90m━━━━━━━━━━━━━━━━━━━━━━━━━━━━━━━━━━━━━━━━\u001b[0m \u001b[32m209.0/209.0 kB\u001b[0m \u001b[31m3.5 MB/s\u001b[0m eta \u001b[36m0:00:00\u001b[0m\n",
            "\u001b[2K   \u001b[90m━━━━━━━━━━━━━━━━━━━━━━━━━━━━━━━━━━━━━━━━\u001b[0m \u001b[32m302.0/302.0 kB\u001b[0m \u001b[31m5.1 MB/s\u001b[0m eta \u001b[36m0:00:00\u001b[0m\n",
            "\u001b[?25h"
          ]
        }
      ],
      "source": [
        "# Install necessary langchain, groq and neo4j libraries. Langchain for LLM orchestration, groq\n",
        "# for LLM and neo4j for graph database\n",
        "!pip install -Uq langchain\n",
        "!pip install -Uq langchain-community\n",
        "!pip install -Uq langchain-groq\n",
        "!pip install -Uq langchain_experimental\n",
        "!pip install -Uq neo4j"
      ]
    },
    {
      "cell_type": "code",
      "execution_count": null,
      "metadata": {
        "id": "wQPiVN2GTdz0"
      },
      "outputs": [],
      "source": [
        "## Credentials for accessing neo4j graph database. An instance of neo4j database\n",
        "# needs to be created on-premise or on the cloud. For this notebook, cloud instance\n",
        "# has been created whose credentials are below. To run this notebook independently,\n",
        "# create a separate cloud instance of neo4j and use those credentials.\n",
        "NEO4J_URI=\"neo4j+s://51dd2678.databases.neo4j.io:7687\"\n",
        "NEO4J_USERNAME=\"neo4j\"\n",
        "NEO4J_PASSWORD=\"your neo4j api key\""
      ]
    },
    {
      "cell_type": "code",
      "execution_count": null,
      "metadata": {
        "id": "7qTRX37aTsar"
      },
      "outputs": [],
      "source": [
        "import os\n",
        "os.environ[\"NEO4J_URI\"]=NEO4J_URI\n",
        "os.environ[\"NEO4J_USERNAME\"]=NEO4J_USERNAME\n",
        "os.environ[\"NEO4J_PASSWORD\"]=NEO4J_PASSWORD"
      ]
    },
    {
      "cell_type": "code",
      "execution_count": null,
      "metadata": {
        "id": "YatEUsr0TxBL"
      },
      "outputs": [],
      "source": [
        "#Instantiate an instance of neo4j graph database\n",
        "from langchain_community.graphs import Neo4jGraph\n",
        "graph=Neo4jGraph(\n",
        "    url=NEO4J_URI,\n",
        "    username=NEO4J_USERNAME,\n",
        "    password=NEO4J_PASSWORD,\n",
        ")"
      ]
    },
    {
      "cell_type": "code",
      "execution_count": null,
      "metadata": {
        "id": "WnESw_KdVIif"
      },
      "outputs": [],
      "source": [
        "# API key for groq\n",
        "groq_api_key=\"your groq api key\""
      ]
    },
    {
      "cell_type": "code",
      "execution_count": null,
      "metadata": {
        "colab": {
          "base_uri": "https://localhost:8080/"
        },
        "id": "xtIBTAo5Ve5P",
        "outputId": "fd1afcb8-c844-431c-9791-98e049eeb618"
      },
      "outputs": [
        {
          "output_type": "execute_result",
          "data": {
            "text/plain": [
              "ChatGroq(client=<groq.resources.chat.completions.Completions object at 0x7e8ee7f0f850>, async_client=<groq.resources.chat.completions.AsyncCompletions object at 0x7e8ee7f0d540>, model_name='Gemma2-9b-It', model_kwargs={}, groq_api_key=SecretStr('**********'))"
            ]
          },
          "metadata": {},
          "execution_count": 8
        }
      ],
      "source": [
        "#Instantiate an instance of chatgroq (GROQ api). Use LLM model \"Gemma2-9b-It\"\n",
        "from langchain_groq import ChatGroq\n",
        "\n",
        "llm=ChatGroq(groq_api_key=groq_api_key,model_name=\"Gemma2-9b-It\")\n",
        "llm"
      ]
    },
    {
      "cell_type": "code",
      "execution_count": null,
      "metadata": {
        "id": "VtjYr03FWMAJ",
        "colab": {
          "base_uri": "https://localhost:8080/"
        },
        "outputId": "2880831f-b7d8-459d-8149-3f421e80c95a"
      },
      "outputs": [
        {
          "output_type": "execute_result",
          "data": {
            "text/plain": [
              "183"
            ]
          },
          "metadata": {},
          "execution_count": 9
        }
      ],
      "source": [
        "# REad csv file (our dataset) into dataframe. Find total num of documents that's in the dataset. This assumes csv\n",
        "# file is stored under /content/drive/MyDrive in google drive\n",
        "df = pd.DataFrame\n",
        "df = pd.read_csv(\"/content/drive/MyDrive/new_LK_tea_dataset_updated.csv\")\n",
        "len(df)"
      ]
    },
    {
      "cell_type": "code",
      "source": [
        "#Identify unique classes that exist\n",
        "df['class'].unique()"
      ],
      "metadata": {
        "colab": {
          "base_uri": "https://localhost:8080/"
        },
        "id": "uPjw6jTM3G6I",
        "outputId": "e76efd73-c19b-41e9-bc4c-d6cf4adf4866"
      },
      "execution_count": null,
      "outputs": [
        {
          "output_type": "execute_result",
          "data": {
            "text/plain": [
              "array(['ACT', 'Circulers', 'Guideline', 'Regulation'], dtype=object)"
            ]
          },
          "metadata": {},
          "execution_count": 10
        }
      ]
    },
    {
      "cell_type": "code",
      "execution_count": null,
      "metadata": {
        "colab": {
          "base_uri": "https://localhost:8080/"
        },
        "id": "mL8kPjzuX_Lp",
        "outputId": "f4cc061d-17e3-47e4-e258-2df101ea7dde"
      },
      "outputs": [
        {
          "output_type": "execute_result",
          "data": {
            "text/plain": [
              "18"
            ]
          },
          "metadata": {},
          "execution_count": 11
        }
      ],
      "source": [
        "# Find total number of documents that are of type/class 'Regulation'\n",
        "df_regulation = df[df['class'] == 'Regulation']\n",
        "len(df_regulation)"
      ]
    },
    {
      "cell_type": "code",
      "execution_count": null,
      "metadata": {
        "id": "aHm4Xme1caTh",
        "colab": {
          "base_uri": "https://localhost:8080/"
        },
        "outputId": "aa8e47a5-f04a-4262-a42f-792841d089ce"
      },
      "outputs": [
        {
          "output_type": "execute_result",
          "data": {
            "text/plain": [
              "35"
            ]
          },
          "metadata": {},
          "execution_count": 12
        }
      ],
      "source": [
        "# 'ACT'\n",
        "df_act = df[df[\"class\"] == 'ACT']\n",
        "len(df_act)"
      ]
    },
    {
      "cell_type": "code",
      "source": [
        "# 'Circular'\n",
        "df_circular = df[df['class'] == 'Circulers']\n",
        "len(df_circular)"
      ],
      "metadata": {
        "colab": {
          "base_uri": "https://localhost:8080/"
        },
        "id": "zN6jc_ZS1sn1",
        "outputId": "7c10e8f8-159d-4c32-ccb2-f50236ff971b"
      },
      "execution_count": null,
      "outputs": [
        {
          "output_type": "execute_result",
          "data": {
            "text/plain": [
              "120"
            ]
          },
          "metadata": {},
          "execution_count": 13
        }
      ]
    },
    {
      "cell_type": "code",
      "source": [
        "# 'Guideline'\n",
        "df_guideline = df[df['class']== 'Guideline']\n",
        "len(df_guideline)"
      ],
      "metadata": {
        "colab": {
          "base_uri": "https://localhost:8080/"
        },
        "id": "O872zL0R174D",
        "outputId": "c879d0e6-8b80-4743-8c9d-5c36e77192f5"
      },
      "execution_count": null,
      "outputs": [
        {
          "output_type": "execute_result",
          "data": {
            "text/plain": [
              "10"
            ]
          },
          "metadata": {},
          "execution_count": 14
        }
      ]
    },
    {
      "cell_type": "code",
      "source": [
        "df_guideline[0:2]"
      ],
      "metadata": {
        "colab": {
          "base_uri": "https://localhost:8080/",
          "height": 340
        },
        "id": "i44izwjJDxrk",
        "outputId": "6c1532d1-c0ac-4cab-95ef-4faf63bdddc6"
      },
      "execution_count": null,
      "outputs": [
        {
          "output_type": "execute_result",
          "data": {
            "text/plain": [
              "    id      class                       filename  \\\n",
              "92  94  Guideline  TRISL_Guideline_04_2018_E.pdf   \n",
              "93  95  Guideline  TRISL_Guideline_05_2018_E.pdf   \n",
              "\n",
              "                                                 path  \\\n",
              "92  /content/drive/MyDrive/Omdena_Challenge/new_LK...   \n",
              "93  /content/drive/MyDrive/Omdena_Challenge/new_LK...   \n",
              "\n",
              "                                                  url language_label  \\\n",
              "92  https://www.tri.lk/wp-content/uploads/2023/05/...             en   \n",
              "93  https://www.tri.lk/wp-content/uploads/2023/05/...             en   \n",
              "\n",
              "   required_ocr has_tables                                          text_path  \\\n",
              "92           no         no  /content/drive/MyDrive/Omdena_Challenge/new_LK...   \n",
              "93           no         no  /content/drive/MyDrive/Omdena_Challenge/new_LK...   \n",
              "\n",
              "   quality data_origin date_of_issuance issuing_authority  \\\n",
              "92    good     scraped       01/11/2018               TRI   \n",
              "93    good     scraped       01/12/2018               TRI   \n",
              "\n",
              "                                                topic  \\\n",
              "92  Use of \"Soil Quality Index\" SQI for Decision M...   \n",
              "93  Guidelines on the Use of CO-3 Grass (Hybrid Na...   \n",
              "\n",
              "                                         text_content  \n",
              "92  Page 1 of 3 \\n TEA RESEARCH INSTITUTE OF SRI L...  \n",
              "93  Page 1 of 3 \\n TEA RESEARCH INSTITUTE OF SRI L...  "
            ],
            "text/html": [
              "\n",
              "  <div id=\"df-caae8bde-9f03-42c8-bc1a-51c09c085c15\" class=\"colab-df-container\">\n",
              "    <div>\n",
              "<style scoped>\n",
              "    .dataframe tbody tr th:only-of-type {\n",
              "        vertical-align: middle;\n",
              "    }\n",
              "\n",
              "    .dataframe tbody tr th {\n",
              "        vertical-align: top;\n",
              "    }\n",
              "\n",
              "    .dataframe thead th {\n",
              "        text-align: right;\n",
              "    }\n",
              "</style>\n",
              "<table border=\"1\" class=\"dataframe\">\n",
              "  <thead>\n",
              "    <tr style=\"text-align: right;\">\n",
              "      <th></th>\n",
              "      <th>id</th>\n",
              "      <th>class</th>\n",
              "      <th>filename</th>\n",
              "      <th>path</th>\n",
              "      <th>url</th>\n",
              "      <th>language_label</th>\n",
              "      <th>required_ocr</th>\n",
              "      <th>has_tables</th>\n",
              "      <th>text_path</th>\n",
              "      <th>quality</th>\n",
              "      <th>data_origin</th>\n",
              "      <th>date_of_issuance</th>\n",
              "      <th>issuing_authority</th>\n",
              "      <th>topic</th>\n",
              "      <th>text_content</th>\n",
              "    </tr>\n",
              "  </thead>\n",
              "  <tbody>\n",
              "    <tr>\n",
              "      <th>92</th>\n",
              "      <td>94</td>\n",
              "      <td>Guideline</td>\n",
              "      <td>TRISL_Guideline_04_2018_E.pdf</td>\n",
              "      <td>/content/drive/MyDrive/Omdena_Challenge/new_LK...</td>\n",
              "      <td>https://www.tri.lk/wp-content/uploads/2023/05/...</td>\n",
              "      <td>en</td>\n",
              "      <td>no</td>\n",
              "      <td>no</td>\n",
              "      <td>/content/drive/MyDrive/Omdena_Challenge/new_LK...</td>\n",
              "      <td>good</td>\n",
              "      <td>scraped</td>\n",
              "      <td>01/11/2018</td>\n",
              "      <td>TRI</td>\n",
              "      <td>Use of \"Soil Quality Index\" SQI for Decision M...</td>\n",
              "      <td>Page 1 of 3 \\n TEA RESEARCH INSTITUTE OF SRI L...</td>\n",
              "    </tr>\n",
              "    <tr>\n",
              "      <th>93</th>\n",
              "      <td>95</td>\n",
              "      <td>Guideline</td>\n",
              "      <td>TRISL_Guideline_05_2018_E.pdf</td>\n",
              "      <td>/content/drive/MyDrive/Omdena_Challenge/new_LK...</td>\n",
              "      <td>https://www.tri.lk/wp-content/uploads/2023/05/...</td>\n",
              "      <td>en</td>\n",
              "      <td>no</td>\n",
              "      <td>no</td>\n",
              "      <td>/content/drive/MyDrive/Omdena_Challenge/new_LK...</td>\n",
              "      <td>good</td>\n",
              "      <td>scraped</td>\n",
              "      <td>01/12/2018</td>\n",
              "      <td>TRI</td>\n",
              "      <td>Guidelines on the Use of CO-3 Grass (Hybrid Na...</td>\n",
              "      <td>Page 1 of 3 \\n TEA RESEARCH INSTITUTE OF SRI L...</td>\n",
              "    </tr>\n",
              "  </tbody>\n",
              "</table>\n",
              "</div>\n",
              "    <div class=\"colab-df-buttons\">\n",
              "\n",
              "  <div class=\"colab-df-container\">\n",
              "    <button class=\"colab-df-convert\" onclick=\"convertToInteractive('df-caae8bde-9f03-42c8-bc1a-51c09c085c15')\"\n",
              "            title=\"Convert this dataframe to an interactive table.\"\n",
              "            style=\"display:none;\">\n",
              "\n",
              "  <svg xmlns=\"http://www.w3.org/2000/svg\" height=\"24px\" viewBox=\"0 -960 960 960\">\n",
              "    <path d=\"M120-120v-720h720v720H120Zm60-500h600v-160H180v160Zm220 220h160v-160H400v160Zm0 220h160v-160H400v160ZM180-400h160v-160H180v160Zm440 0h160v-160H620v160ZM180-180h160v-160H180v160Zm440 0h160v-160H620v160Z\"/>\n",
              "  </svg>\n",
              "    </button>\n",
              "\n",
              "  <style>\n",
              "    .colab-df-container {\n",
              "      display:flex;\n",
              "      gap: 12px;\n",
              "    }\n",
              "\n",
              "    .colab-df-convert {\n",
              "      background-color: #E8F0FE;\n",
              "      border: none;\n",
              "      border-radius: 50%;\n",
              "      cursor: pointer;\n",
              "      display: none;\n",
              "      fill: #1967D2;\n",
              "      height: 32px;\n",
              "      padding: 0 0 0 0;\n",
              "      width: 32px;\n",
              "    }\n",
              "\n",
              "    .colab-df-convert:hover {\n",
              "      background-color: #E2EBFA;\n",
              "      box-shadow: 0px 1px 2px rgba(60, 64, 67, 0.3), 0px 1px 3px 1px rgba(60, 64, 67, 0.15);\n",
              "      fill: #174EA6;\n",
              "    }\n",
              "\n",
              "    .colab-df-buttons div {\n",
              "      margin-bottom: 4px;\n",
              "    }\n",
              "\n",
              "    [theme=dark] .colab-df-convert {\n",
              "      background-color: #3B4455;\n",
              "      fill: #D2E3FC;\n",
              "    }\n",
              "\n",
              "    [theme=dark] .colab-df-convert:hover {\n",
              "      background-color: #434B5C;\n",
              "      box-shadow: 0px 1px 3px 1px rgba(0, 0, 0, 0.15);\n",
              "      filter: drop-shadow(0px 1px 2px rgba(0, 0, 0, 0.3));\n",
              "      fill: #FFFFFF;\n",
              "    }\n",
              "  </style>\n",
              "\n",
              "    <script>\n",
              "      const buttonEl =\n",
              "        document.querySelector('#df-caae8bde-9f03-42c8-bc1a-51c09c085c15 button.colab-df-convert');\n",
              "      buttonEl.style.display =\n",
              "        google.colab.kernel.accessAllowed ? 'block' : 'none';\n",
              "\n",
              "      async function convertToInteractive(key) {\n",
              "        const element = document.querySelector('#df-caae8bde-9f03-42c8-bc1a-51c09c085c15');\n",
              "        const dataTable =\n",
              "          await google.colab.kernel.invokeFunction('convertToInteractive',\n",
              "                                                    [key], {});\n",
              "        if (!dataTable) return;\n",
              "\n",
              "        const docLinkHtml = 'Like what you see? Visit the ' +\n",
              "          '<a target=\"_blank\" href=https://colab.research.google.com/notebooks/data_table.ipynb>data table notebook</a>'\n",
              "          + ' to learn more about interactive tables.';\n",
              "        element.innerHTML = '';\n",
              "        dataTable['output_type'] = 'display_data';\n",
              "        await google.colab.output.renderOutput(dataTable, element);\n",
              "        const docLink = document.createElement('div');\n",
              "        docLink.innerHTML = docLinkHtml;\n",
              "        element.appendChild(docLink);\n",
              "      }\n",
              "    </script>\n",
              "  </div>\n",
              "\n",
              "\n",
              "<div id=\"df-c5f029c6-12c0-4950-b1db-534a9666e6b2\">\n",
              "  <button class=\"colab-df-quickchart\" onclick=\"quickchart('df-c5f029c6-12c0-4950-b1db-534a9666e6b2')\"\n",
              "            title=\"Suggest charts\"\n",
              "            style=\"display:none;\">\n",
              "\n",
              "<svg xmlns=\"http://www.w3.org/2000/svg\" height=\"24px\"viewBox=\"0 0 24 24\"\n",
              "     width=\"24px\">\n",
              "    <g>\n",
              "        <path d=\"M19 3H5c-1.1 0-2 .9-2 2v14c0 1.1.9 2 2 2h14c1.1 0 2-.9 2-2V5c0-1.1-.9-2-2-2zM9 17H7v-7h2v7zm4 0h-2V7h2v10zm4 0h-2v-4h2v4z\"/>\n",
              "    </g>\n",
              "</svg>\n",
              "  </button>\n",
              "\n",
              "<style>\n",
              "  .colab-df-quickchart {\n",
              "      --bg-color: #E8F0FE;\n",
              "      --fill-color: #1967D2;\n",
              "      --hover-bg-color: #E2EBFA;\n",
              "      --hover-fill-color: #174EA6;\n",
              "      --disabled-fill-color: #AAA;\n",
              "      --disabled-bg-color: #DDD;\n",
              "  }\n",
              "\n",
              "  [theme=dark] .colab-df-quickchart {\n",
              "      --bg-color: #3B4455;\n",
              "      --fill-color: #D2E3FC;\n",
              "      --hover-bg-color: #434B5C;\n",
              "      --hover-fill-color: #FFFFFF;\n",
              "      --disabled-bg-color: #3B4455;\n",
              "      --disabled-fill-color: #666;\n",
              "  }\n",
              "\n",
              "  .colab-df-quickchart {\n",
              "    background-color: var(--bg-color);\n",
              "    border: none;\n",
              "    border-radius: 50%;\n",
              "    cursor: pointer;\n",
              "    display: none;\n",
              "    fill: var(--fill-color);\n",
              "    height: 32px;\n",
              "    padding: 0;\n",
              "    width: 32px;\n",
              "  }\n",
              "\n",
              "  .colab-df-quickchart:hover {\n",
              "    background-color: var(--hover-bg-color);\n",
              "    box-shadow: 0 1px 2px rgba(60, 64, 67, 0.3), 0 1px 3px 1px rgba(60, 64, 67, 0.15);\n",
              "    fill: var(--button-hover-fill-color);\n",
              "  }\n",
              "\n",
              "  .colab-df-quickchart-complete:disabled,\n",
              "  .colab-df-quickchart-complete:disabled:hover {\n",
              "    background-color: var(--disabled-bg-color);\n",
              "    fill: var(--disabled-fill-color);\n",
              "    box-shadow: none;\n",
              "  }\n",
              "\n",
              "  .colab-df-spinner {\n",
              "    border: 2px solid var(--fill-color);\n",
              "    border-color: transparent;\n",
              "    border-bottom-color: var(--fill-color);\n",
              "    animation:\n",
              "      spin 1s steps(1) infinite;\n",
              "  }\n",
              "\n",
              "  @keyframes spin {\n",
              "    0% {\n",
              "      border-color: transparent;\n",
              "      border-bottom-color: var(--fill-color);\n",
              "      border-left-color: var(--fill-color);\n",
              "    }\n",
              "    20% {\n",
              "      border-color: transparent;\n",
              "      border-left-color: var(--fill-color);\n",
              "      border-top-color: var(--fill-color);\n",
              "    }\n",
              "    30% {\n",
              "      border-color: transparent;\n",
              "      border-left-color: var(--fill-color);\n",
              "      border-top-color: var(--fill-color);\n",
              "      border-right-color: var(--fill-color);\n",
              "    }\n",
              "    40% {\n",
              "      border-color: transparent;\n",
              "      border-right-color: var(--fill-color);\n",
              "      border-top-color: var(--fill-color);\n",
              "    }\n",
              "    60% {\n",
              "      border-color: transparent;\n",
              "      border-right-color: var(--fill-color);\n",
              "    }\n",
              "    80% {\n",
              "      border-color: transparent;\n",
              "      border-right-color: var(--fill-color);\n",
              "      border-bottom-color: var(--fill-color);\n",
              "    }\n",
              "    90% {\n",
              "      border-color: transparent;\n",
              "      border-bottom-color: var(--fill-color);\n",
              "    }\n",
              "  }\n",
              "</style>\n",
              "\n",
              "  <script>\n",
              "    async function quickchart(key) {\n",
              "      const quickchartButtonEl =\n",
              "        document.querySelector('#' + key + ' button');\n",
              "      quickchartButtonEl.disabled = true;  // To prevent multiple clicks.\n",
              "      quickchartButtonEl.classList.add('colab-df-spinner');\n",
              "      try {\n",
              "        const charts = await google.colab.kernel.invokeFunction(\n",
              "            'suggestCharts', [key], {});\n",
              "      } catch (error) {\n",
              "        console.error('Error during call to suggestCharts:', error);\n",
              "      }\n",
              "      quickchartButtonEl.classList.remove('colab-df-spinner');\n",
              "      quickchartButtonEl.classList.add('colab-df-quickchart-complete');\n",
              "    }\n",
              "    (() => {\n",
              "      let quickchartButtonEl =\n",
              "        document.querySelector('#df-c5f029c6-12c0-4950-b1db-534a9666e6b2 button');\n",
              "      quickchartButtonEl.style.display =\n",
              "        google.colab.kernel.accessAllowed ? 'block' : 'none';\n",
              "    })();\n",
              "  </script>\n",
              "</div>\n",
              "\n",
              "    </div>\n",
              "  </div>\n"
            ],
            "application/vnd.google.colaboratory.intrinsic+json": {
              "type": "dataframe",
              "repr_error": "0"
            }
          },
          "metadata": {},
          "execution_count": 15
        }
      ]
    },
    {
      "cell_type": "code",
      "source": [
        "# print lengths of individual \"Guideline\" documents\n",
        "for i in range(0,len(df_guideline)):\n",
        "  print(i,len(df_guideline['text_content'].iloc[i]))"
      ],
      "metadata": {
        "colab": {
          "base_uri": "https://localhost:8080/"
        },
        "id": "4Hy-m1Cp4drv",
        "outputId": "123863b4-fa0d-48eb-c061-bc94a1d8c368"
      },
      "execution_count": null,
      "outputs": [
        {
          "output_type": "stream",
          "name": "stdout",
          "text": [
            "0 5665\n",
            "1 7766\n",
            "2 4629\n",
            "3 5705\n",
            "4 3621\n",
            "5 4090\n",
            "6 9823\n",
            "7 8862\n",
            "8 5686\n",
            "9 8812\n"
          ]
        }
      ]
    },
    {
      "cell_type": "code",
      "source": [
        "# Consolidate the text in \"Guideline\"\n",
        "text_guideline = ''\n",
        "for i in range(0,len(df_guideline)):\n",
        "  text_guideline += df_guideline['text_content'].iloc[i]\n",
        "\n",
        "len(text_guideline)\n"
      ],
      "metadata": {
        "colab": {
          "base_uri": "https://localhost:8080/"
        },
        "id": "zQTCpzh84sVR",
        "outputId": "abce31f3-87d3-4da7-da6d-6849cc4efbb3"
      },
      "execution_count": null,
      "outputs": [
        {
          "output_type": "execute_result",
          "data": {
            "text/plain": [
              "64659"
            ]
          },
          "metadata": {},
          "execution_count": 17
        }
      ]
    },
    {
      "cell_type": "code",
      "source": [
        "text_guideline"
      ],
      "metadata": {
        "colab": {
          "base_uri": "https://localhost:8080/",
          "height": 157
        },
        "id": "N6jdMx9o_Bwx",
        "outputId": "a637fca6-7dcd-4e6b-865b-96d8d914b003"
      },
      "execution_count": null,
      "outputs": [
        {
          "output_type": "execute_result",
          "data": {
            "text/plain": [
              "\"Page 1 of 3 \\n TEA RESEARCH INSTITUTE OF SRI LANKA  \\n \\nIssued in: December 2018   Guideline No: 04/2018  \\n \\nGUIDELINES FOR ESTABLISHMENT OF ENERGY PLANTATIONS WITH  \\n GLIRICIDIA SEPIUM AND CALLIANDRA CALO THRYSUS  \\n \\nIntroduction   \\nTea processing requires a large quantity of fue lwood . Usually, it is estimated that 1 -\\n1.5 kg of fuelwood is required to  process 1  kg of made tea. Additionally, plantation \\nworkers also need  fuelwood for their domestic use.  Often, the total demand of \\nfuelwood cannot be met within the plantation . In addition t o use of fuelwood for tea \\nprocessing, it can be used as an energy source for generating electricity (Dendro \\npower). As a result , there is a growing demand for fuelwood in Sri Lanka.  In order to \\nensure regular and assured supply of fuelwood for industry req uirement, marginal tea \\nfields  (low yielding)  and those abandoned owing to land suitability limitations (poor \\nsoil conditions, rocky lands, excessive slopes , etc.) and scarcity of labour , can be \\nconverted to fuelwood plantation s with Gliricidia sepium  and Calliandra calothrysus . \\nCalorific value of both the above trees varies from 4,500 - 4,900 kcal per kg. While \\nGliricidia can be successfully established in the low , mid and Uva region s (up to 900 \\nm elevation) , Calliandra is most suitable for mid and up count ry regions  within the  \\nelevation rang e 300 - 1300 m.  \\n \\nIn addition to the use of woody part as fuelwood, the leaves and top most part s of the  \\nbranches can be applied to tea fields as a green manure and mulch , adding nutrients to \\nthe soil  and to conserv e soil moisture . In addition to this, these leaves can also be \\neasily used for producing compost.  Nitrogen fixation ability of these leguminous trees \\nhelps to improve soil fertility.  Further, these two species are well adapted to varying \\nsoil and climatic condit ions, require less intensive agronomic input s and labour , and \\nwithstand regular lopping . \\n \\nBased on the field observations  done by TRI at different locations , the following \\nagronomic practices need to be adopted when  Gliricidia  and Calliandra  are used for \\nestablishment of f uelwood  or energy plantation s.  \\n \\n\\uf0b7 Land should be prepared by levelling adequately  to locate rows of energy crops  \\nand all soil conservation measures i.e. preparation of drains and stone terraces \\netc. should be adopted as necessary . \\n \\n\\uf0b7 The idea l spacing for planting of Gliricidia  and Calliandra  as fuelwood is 1 m x \\n1 m,  having a plant density of about 10,000 plants per hectare . Adequate \\namount of healthy planting materials ( stumps or nursery plants) should be kept \\nready accordingly.  Page 2 of 3 \\n Establishme nt of  Gliricidia  \\n\\uf0b7 The diameter and depth of hole should  be 30  cm and 45 - 60 cm  respectively . \\n \\n\\uf0b7 While filling hole , soil should be mixed with dolomite at the rate of 200  – 225 g \\nper hole. It is  preferable to add 1 kg of compost per planting hole . \\n \\n\\uf0b7 Select 6  - 8 mon ths old mature stumps of about 1.5 m in length and 5  - 7.5 cm in \\ngirth . \\n \\n\\uf0b7 When planting 30 - 40 cm of the b asal end of the stump should be buried in soil . \\n \\n\\uf0b7 To prevent desiccation and encourage bud break, the stump can be white -\\nwashed using 20%  hydrate d lime . Top end of the pole should be covered with a \\nball of mud or piece of polythene.  \\n \\n\\uf0b7 Stumps should ideally be planted during wet weather within 48 hrs from  \\nlopping . \\n \\n\\uf0b7 Care should be taken not to damage the bark of the planting end . For this \\npurpose , the stump  can be inserted into an alavango hole prepared before.  \\n \\nEstablishment of Calliandra  \\n\\uf0b7 Calliandra can be established directly by sawing 3  - 4 seeds per planting hole \\nand leaving one vigorous plant while removing other seedlings . \\n \\n\\uf0b7 Alternatively,  plants can be  raised in poly bags in the nurser y and 4  - 6 month \\nold plants can be established in the field . \\n \\nLopping and aftercare  \\n\\uf0b7 First lopping of branches can be done about 12  - 18 months after planting .  \\n \\n\\uf0b7 Branches can be l opped at 8 - 12 month interval s befor e flow ering . \\n \\n\\uf0b7 In order to produce a well spread frame with sturdy branches , the other branches \\nshould be cut keeping a stump of about 30 cm ( 1 feet) above the previous cut . \\n \\n\\uf0b7 Soft and leafy portion of the branches should be removed and fuelwood can be \\ncut to a le ngth of a bout 1 m for easy storage  and use .   \\n \\n\\uf0b7 Moisture content of the fuelwood should be reduced to 20% or below, by \\nstaking them under rain cover for about  2 weeks  before use . \\n Page 3 of 3 \\n \\uf0b7 A well-managed  Gliricidia  plantation produces  about 25 - 30 tons  of fue lwood \\nper hectare per year and Calliandra  produce  about  10 - 15 tons per hectare per \\nyear in dry weight  basis  (20% moisture).  \\n \\n\\uf0b7 Cost benefit analys is have shown that management of energy plantations with \\nGliricidia  and Calliandra  is an economically viable v enture  and the pay -back \\nperiod varies from 5 - 6 years .  \\n \\nTherefore , tea growers , stakeholders  and entrepreneurs are encouraged to establish  \\nfuelwood  or en ergy plantations , converting  marginal  and un -productive lands into \\neconomic use  to ensure  assured fuelwood supply . It will assist to conserv e \\nenvironment and bio -diversity . \\n \\nTea Research Institute of Sri Lanka  \\nTalawakelle  \\nCopyright  \\nAll rights r eserved . No part of this publication may be reproduced or transmitted in any form \\nor by any means, electronic or mechan ical, including photocopying, recording, scanning or \\ninformation storage and retrieval system without the prior written permission from the \\nDirector, Tea Research Institute of Sri Lanka, Talawakelle.  \\n Page 1 of 3 \\n TEA RESEARCH INSTITUTE OF SRI LANKA  \\n \\nIssued in: December 2018   Guideline No: 05/2018  \\n \\nGUIDELINE  ON IRRIGATION OF TEA FIELDS  \\n \\nIntroduction  \\nTea is cultivated predominantly as a rain -fed plantation crop . Lack of water bodies , \\ngeographical limitations and ina bility to use conventional irrigation techniques such \\nas flood and furrow irrigation have hindered the application of irrigation in tea \\nplantations. Introduction of micro irrigation techniques  viz. drip and sprinkler \\nirrigation, frequent drought occurrence s and productivity  improvements etc. have \\nprompted stakeholders to seek alternative techniques to manage soil moisture levels. \\nAlso, high impact droughts, impacts of climate change and poor replanting rate s have  \\ncreated renewed interest s in adopting suitab le irrigation  techniques . It is evident that \\nrudimentary to modern irrigation techniques have been practiced in tea fields alt hough \\nadoption of such techniques is not feasible  in the  entire plantation . However, t here are  \\ntea fields, where irrigation c ould be applied with the development of in-situ water \\nbodies . Since management of soil moisture levels plays a pivotal role in sustainable \\ncrop production , it is necessary to advise stakeholders to take correct decisions on \\nadoption of suitable irrigation  techn iques . This guideline serves as a basis for decision \\nmaking on irrigation as a potential drought mitigation strategy in tea plantation.  \\n \\nSelection of irrigation as an option for drought  mitigation  \\nThere are many other drought mitigation techniques recommen ded by the TRI (Please \\nrefer Advisory Circular No . PA 2 on Drought Mitigation in Tea Plantations, Issued in \\nJanuary 2011). However, unlike those strategies, irrigation involves critical technical \\ninputs and financial commitments. Therefore, decision making  should be \\neconomically viable. Hence, it is necessary to carefully analyze the drought effects in \\na particular location or estate and decide whether such damage can be prevented by \\nother less costly drought mitigation techniques.  \\n \\nFields to be irrigated  \\n1. Newly planted tea fields are more vulnerable to drought, as their root system has \\nnot fully developed. Returns in investments for irrigation would be higher in the \\nlong term when new cl earings (immature fields) are  irrigated.  \\n \\n2. Low elevation tea plantations  are more vulnerable to drought because of high \\nambient temperature during dry periods.  \\n \\n3. Within estates too, there could be fields, frequently subjected to drought damage \\ndue to the geographic location, poor soil and presence of drought susceptible \\ncultivar s. High yielding cultivars usually gives higher returns to irrigation.  Page 2 of 3 \\n 4. Irrigation of tea fields earmarked for pruning is usually not economical, unless \\nthey are threatened with death  of plant s due to drought.  \\n \\nRequirements for irrigation  \\nBefore making the final decision on irrigation, following factors need to be carefully  \\nconsidered.  \\n \\n1. Availability of water source:  Availability of a permanent and a reliable water \\nsource is essential for successful irrigation during the drought. In view of this , \\npotential ma ximum duration of drought according to the estate location needs to \\nbe found. Many water sources in tea estates are dry during severe drought periods.  \\nIt is also necessary to ascertain whether the use of water source for irrigatio n \\naffects estate community  and down streams users  to avoid potential social \\nconflicts . \\n \\n2. If such a reliable water source is not available, it should either be develop ed (e.g. \\nIrrigation well) or water should be transport ed from the  bowsers, as and when \\nnecessary. However, it should be remembered that transportation would increase \\noperational cost depending on the distance to the water source.  \\n \\n3. Selection of irrigation system depends on the level of investment, type of water \\nsource and technical expertise available to maintain the syst em etc., \\n \\nSelection of i rrigation method/s ystem  \\nIrrigation can be done manually or by using permanent or portable irrigation system. \\nThe permanent irrigation system can be either drip or sprinkler irrigation.  \\n \\nManual i rrigation  \\nManual watering is the most popular irrigation method in tea plantations , where water \\nis applied to plants by workers manually . Normally, water is transported by a bowser \\nor rarely using a nearby water source. Advantage of this method is that there is no \\ninvestment cost for an irriga tion system. H owever, operational cost would be high as \\nworkers have to be employed for irrigation. The chances for under irrigation that \\ncould result in a poor response, is also one of the main disadvantage s. \\n \\nDrip i rrigation  \\nDrip irrigation is the applic ation of irrigation water through emitters  fixed to an \\nirrigation tube. The most economical drip irriga tion system for tea is the in -line drip \\ntubes. It is the most efficient irrigation water application system which ensures \\nuniform water application throu ghout the field. Pressure requirements to operate a \\ndrip system are  low. Also,  application of irrigation water through drips prevent, \\nunnecessary wetting of plant stems.  \\n Page 3 of 3 \\n However, drip system usually requires higher investment cost than sprinkler system. \\nAlso, water quality should be at a higher level to prevent possible blocking of \\ndrippers. Certain technical knowledge is necessary for operating a drip system and \\nintervention of irrigation specialist may be required for trouble free operation.  \\n \\nSprinkler i rrigation  \\nSprinkler irrigation can be done by a permanent set of sprinklers or a mobile sprinkler \\nhead. Alternatively, gun -type mobile sprinkler heads, capable of covering a radius \\nusually more than 15  m, c ould also be used. Investment cost for such gun -type \\nsprinkler is lower. However, additional man power is necessary to operate such \\nsystems in the field.   \\n \\nThe operation and maintenance of the system is user friendly.  Also, it gives a cooling \\neffect to the plant micro environment, which is important dur ing drought periods. In \\naddition to drought mitigation, sprinklers can be used to minimize frost damage in tea \\nat high elevation. Some disadvantages of the sprinkler irrigation system are high \\nenergy use, low application efficiency and potential theft and vand alism of the \\npermanent irrigation equipment.  \\n \\nEconomics of irrigation  \\nReturn on investment for irrigation depends mainly on investment/operational cost \\nand plant response to irrigation (yield increment and plant survival). The investment \\nand operationa l cost vary according to the irrigation system. Estimation of system cost \\nneeds to be obtained through a service provider or vendor. Based on the potential \\ndrought damage, return on investment for irrigation could also be worked out. In \\ngeneral, investment  cost for drip irrigation system for a unit area is higher than the \\npermanent sprinkler irrigation systems. However, water application efficiency for drip \\nirrigation system is higher than that of sprinkler irrigation systems. Hence drip \\nirrigation system i s best suited for water limited locations.  Mobile gun -type sprinkler \\nirrigator could be used as a low investment strategy depending on the exigencies of \\nthe situation.  \\n \\nTea Research Institute of Sri Lanka  \\nTalawakelle  \\nCopyright  \\nAll rights reserved . No part  of this publication may be reproduced or transmitted in any form \\nor by any means, electronic or mechanical, including photocopying, recording, scanning or \\ninformation storage and retrieval system without the prior written permission from the \\nDirector, Tea  Research Institute of Sri Lanka, Talawakelle.  \\n Page 1 of 2 \\n TEA RESEARCH INSTITUTE OF SRI LANKA  \\n \\n \\nIssued in: July 2019   Guideline No: 01/2019  \\n \\nGUIDELINES  ON ADAPTATION STRATEGIES TO MINIMIZE CLIMATE \\nCHANGE IMPACTS ON TEA PROD UCTION  \\n \\nIntroduction  \\nClimate change or global warming, which is considered to be a result of \\nanthropogenic emissions of Green House Gases (GHG) such as CO 2, CH 4, N 2O, O 3, \\nCFCs to the atmosphere  is reportedly posing a threat to tea production. The t ea \\nindustry in Sri Lanka sustains livelihood of a significant portion of the population  in \\nthe country  and brings in much needed foreign exchange . Sustainability of the \\nindustry is vital not only because of its socio -economic importance, but to address \\nenvironmental concerns as we ll. It is primarily because  majority of tea lands are on \\nsteep terrains and in watershed feeding areas to the  river system s of the country that \\nare highly vulnerable to soil degradation in the event of bush debilitation, death of \\nbushes and abandonment of tea lands owing to low productivity.   \\n \\nImpacts of climate change  \\nThe rising CO 2 levels, ambient temperatures and variation of rainfall are likely to \\naffect carbohydrate assimilation, chemical attributes of tea leaf, pest and disease \\ninfestation, soil quali ty, evapotranspiration  and rainfall pattern influencing land \\nproductivity and quality of tea. Studies carried out at the Tea Research Institute of Sri \\nLanka have shown that most of the tea growing areas in low country, mid country and \\nUva are either highly vulnerable or vulnerable to climate change  impacts while those \\nin up country  are relatively less vulnerable . Therefore, it is imperative that appropriate \\nadaptation measures be implemented to minimize  adverse impacts of climate change \\non the tea sector.   \\n \\nAdaptation strategies  \\nMoisture stress, excessive soil moisture /flood  (extreme rainfall), heat stress, high \\nintensity of weed, pest and disease infestations and soil degradation (soil erosion, loss \\nof organic matter , etc.) are the key issues i nfluencing tea land productivity  under \\nclimate change . Therefore, the following  adaptation strategies  have been identified  \\naddressing those key issues and their impacts on growth and tea yield. In addition , \\nraising awareness of tea growing communities on climate change and its impacts is \\nimperative to successfully face various unforeseen challenges connected to climate \\nchange.  \\n \\nAttention should also be paid for seasonal weather forecasting and meteorological \\ndisaster predication s issued by relevant organizations  and landslide prone \\nareas/locations to prevent/minimize weather related disasters.  \\n Page 2 of 2 \\n \\uf0b7 Planting of tea cultivars, improved seedlings and grafted plants well-adapted  \\nto adversities of weather (drought, water logging, warm climatic  conditions , \\netc.) and tolerant to various pest and diseases.  \\n\\uf0b7 Establishment and management of shade trees and shelter belts to modify \\nmicro -climate  around tea bushes . \\n\\uf0b7 Soil and soil moisture conservation and rain water harvesting  (contour and \\nleader drains, stone terrac es, SALT hedgerows, mulching, burying of pruning , \\netc.) \\n\\uf0b7 Improvement of soil organic matter content in tea lands  (shade trees, cover \\ncrops, mulching compost  and bio-char application , soil conservation, etc.)  \\n\\uf0b7 Integrated pest and disease management  \\n\\uf0b7 Improvem ent of soil aeration and drainage to remove excess moisture from the \\nroot zone  \\n\\uf0b7 Irrigation during dry spells  \\n\\uf0b7 Judicious use of fertilizers to minimize loss  of nutrients (e .g. nitrogen)  due to \\nhigh temperature and extreme weather conditions  (slow release fertilizers, \\ntiming and frequency of application , etc.)   \\n\\uf0b7 Selection of lands with suitable growing conditions (soil and environmental) \\nfor replanting/new planting  of tea  \\n\\uf0b7 Crop diversification to reduce risk of mono -cropping  especially where s oil \\nconditions a re marginal for tea cultivation   \\n\\uf0b7 Diversification of  income through other avenues (e .g. Ecotourism, livestock \\nfarming, bee -keeping , etc.) to compe nsate impending losses from tea  \\n\\uf0b7 Afforestation, reforestation and establishment of energy/timber plantations and \\nwatershed in tea plantations  \\n \\nTea Research Institute of Sri Lanka  \\nTalawakelle  \\nCopyright  \\nAll rights reserved. No part of this publication may be reproduced or transmitted in any form \\nor by any means, electronic or mechanical, including photocopying, recording, scanning or \\ninformation storage and retrieval system without the prior written permission from the \\nDirector, Tea Research Institute of Sri Lanka, Talawakelle  \\n Page 1 of 3 \\n \\nTEA RESEARCH INSTITUTE OF SRI LANKA  \\n \\nIssued in: December  2019   Guideline No: 02 /2019  \\n \\nGUIDELINES FOR USE OF MOTORIZED TEA PRUNING MACHINES  \\n \\nIntroduction  \\nWith continuous harvesting of shoots over several years, the tea bush rises beyond the \\ncomfortable reach of pluckers ’ hand and it also tends to produce fewer  shoots , more \\ndormant shoots ( banjies ) and more flower buds. Furthermore , a close canopy may \\naccumulate  debili tated branches and dead woods.  Therefore, it becomes necessary to \\nprune tea bushes at regular intervals for reducing the height , stimul ating  vegetative growth \\nand maintain ing the health of te a bush. The  ultimate objective of pruning is the  effective \\nutilization of the land area under tea.  Depending on the bush health (vigour), \\nenvironmental conditions (elevation) and type of tea (seedling or VP) , the pruning cycle \\nvaries from  around 2 - 5 years .  \\n \\nTea bushes are best pruned manually as it paves the way for individual removal of \\nbranches. However, it requires a large number of skilled workers (40 -50 workers/ha). \\nFurther more , pruning needs to be completed  within a certain period of the year  i.e. within  \\na few months of the rainy season  avoiding dry weather. With the scarcity of workers , there \\nis a great tendency in the tea plantations to use motorized machines for pruning tea.    \\n \\nTea pruning  machines   \\nTea pruning machines are usually brush (bush) cutters  carried on  shoulder s. They often  \\nhave a 2 stroke engine and 1-1.3 m long guide tube with a drive shaft to which a \\npruning blade is mounted (see Figure  1). The blade rotates anti -clock -wise. A wide \\nhandle  fixed to the drive tube has engine controls such as the throttle.  The weight of the \\nmachine is generally 6 -8 kg. The output of the pruning machines varies from  150-250 \\nbushes  per hour  depending  on the size of the bush frame , conditions  of the field  and \\noperator’s skill . The fuel consumption of pruning machines is about 0.75 -1 liter per \\nhour.   \\n \\n \\n \\n \\n \\n \\n \\n \\n \\nFigure 1. Proper use of tea pruning \\nmachine     Figure 2. Correct area (shaded) of the \\nblade to be used for cutting  \\nPage 2 of 3 \\n Proper use of pruning machine s in the field   \\n\\uf0b7 Workers should be properly trained for operating and day-to-day maintenance  of \\nthe machine  and educat ed on  safety aspects periodically as per manufacturer's \\ninstructions.   \\n\\uf0b7 The require d quantity  of gasoline (petrol) and 2T oil mixture should be prepared \\ndaily for the two-stroke engine as per manufacturer’s recommendations . A freshly \\nprepared and well-mixed (shacked)  fuel mixture should be used for filling the fuel \\ntank.  \\n\\uf0b7 Operators should use safety gears such as jungle boots and goggles.  \\n\\uf0b7 Pruning machines should not be used for formative  pruning  (first proper pruning) \\nof tea bushes as such tea bushes  do not have well -developed frame and root system.  \\n\\uf0b7 It is essential to rest (withhold harvesting) tea fields for a minimum period of  6 \\nweeks  prior to  pruning.  \\n\\uf0b7 Over grown weed cover in tea fields reduce s the output of pruning machine s and \\nhence, should adequately  be cleaned before pruning.  \\n\\uf0b7 As the blade rotates anti -clock -wise, it should be fixed to the gear head correctly so \\nthat the cutting edges of the blade face towards the rotating direction (see Figure 2  \\n& operator’s manual /instructions  for details).   \\n\\uf0b7 The smoothness of the cut depends on the number of tips, sharpness and speed \\n(rpm) of the blade. Therefore, blades with tungsten carbide tips (around  100) are \\nideal for tea pruning. Engine should be throttled adequately before the cut is made.  \\n\\uf0b7 The cut should be preferably made by using one-third of the blade (circumference) \\nfrom the front to the left ( see Figure 2 ). Blade with broken or blunt tips should not \\nbe used for  pruning.  \\n\\uf0b7 Few branches near est to  the operator should be cut first at the recommended height \\nand the balance should be removed  progressively (step wise)  at the same height by \\nswinging the pruner (from the right to  left) while  moving  forward . \\n\\uf0b7 Branches should be cut by exerting a mild pressure  to the blade . The blade  should \\nnever  be dashed towards the frame of the tea bush  as it damage s the blade and the \\nbranches .  \\n\\uf0b7 It is dangerous to try and remove branches/twigs or other matter  entangled with the \\nblade if any, while the engine is running.   \\n\\uf0b7 One or two healthy and peripheral branches  having 200 -300 leaves  on the left -side \\nof the bush should  be left as lungs. \\n\\uf0b7 Branches should be removed so that the top surface of the bush frame fol lows the \\nslope of the land.  \\n\\uf0b7 Manual cleaning of the frames by removing knots, damaged, dead, diseased and \\npest attacked branches  is essential after the machine pruning to preserve the  bush  \\nhealth.  \\n\\uf0b7 The remnant fuel if any should be removed from the tank and those in the \\ncarburetor should  also be burnt by running the engine for few minutes until it \\nautomatically stops at the end of the day.  Page 3 of 3 \\n \\uf0b7 Blade and the engine including air cleaner filters need to b e cleaned before storing \\nthe machine.  \\n\\uf0b7 It is preferable to apply some oil on the blade to prevent rusting when storing the \\nmachine for longer periods without use.  \\n \\nTea Research Institute of Sri Lanka  \\nTalawakelle  \\n \\nCopyright  \\nAll rights re served . No part of this publication may be reproduced or transmitted in any form or \\nby any means, electronic or mechanical, including photocopying, recording, scanning or \\ninformation storage and retrieval system without the prior written permission from the \\nDirector, Tea Res earch Institute of Sri Lanka, Talawakelle  \\n \\n   \\n  \\n Page 1 of 2 \\n TEA RESEARCH INSTITUTE OF SRI LANKA  \\n \\nIssued In: December  2019  Guideline No: 03 /2019 \\n \\nGUIDELINES FOR ESTABLISHMENT OF TEA TO FACILITATE \\nMECHANIZATION OF FIELD OPERATIONS  \\n \\nIntroduction  \\nTea is a labour -intensive plantation crop; hence, the labour requirement and cost are \\nheavy. It has become necessary to introduce mechanization to tea plantations  since the tea \\nsector is presently facing acute worker shortage .  \\n \\nMechanization in agriculture is the use of machine to accomplish a task or operation \\ninvolved in agricultural production. Key objectives of mechanization are to increas e \\nworker productivity, reduc e cost of production, improv e product quality, eas e manual \\noperation s, complet e tasks timely  and chang e worker attitudes.  \\n \\nTea planting system facilitating mechanization of  field operation s \\nMechanization of field operations requires adequate space for worker and machine \\nmobility , dense  canopy architecture  and absence of obstacles such as shade trees in the \\npath of machine operation .  \\n \\nThe conventional  system of single -row planting at a spacing of 0.6 m x 1.2 m  (2 feet X 4 \\nfeet) limits the use and efficiency of machines.  \\n \\nThe double hedge -row planting system commonly practiced in some other tea growing \\ncountries such as Japan  and China  pave s the way for mechanizing  most of the labour -\\nintensive field operation s such as  harvesting  successfully . Therefore, hedge -row planting \\nsystem having a spacing of 0.6 m x 0.6  m x 1.5 m (2 feet X 2 feet X 5 feet: Figure 1) is \\nconsidered amenable  to facilitate mechanization of post -planting tea field operations  in \\nSri Lanka .  \\n \\nHowever, t he other special consideration s that require  greater attention are as follows;  \\n\\uf0b7 As considerable space of land between two hedge -rows is exposed to rain thus soil \\nerosion, this planting system is more suitable for  flat and undulating lands. \\nMoreover , particular attention should be paid to cover such areas by mulching and \\nplanting of co ver crops  during early stages  of establishment to minimize soil \\nlosses and weed growth .  \\n \\n\\uf0b7 Due to high planting density  (theoretical density is 15,370 plants per hectare \\nwhich is a bout 14% more than the theoretical plant density of conventional \\nsystem: 13,450 plants per hectare ), competition for moisture during dry weather \\nmay lead to poor plant growth and drought casualties. Therefore, unfertile lands, Page 2 of 2 \\n soils with poor moisture retention capacity and drought prone areas  are best \\navoided in hedge -row planting unless they are provided with irrigation facilities.  \\nFurther more,  use of hardy tea cultivars with an erect -growth habit  recommended \\nfor the agro-climatic region s will minimize such disadvantages.   \\n \\n\\uf0b7 Rate of fertilizer application need s to be increased in par with number of plants \\nper ha ( high plant density) . \\n \\n\\uf0b7 Training of the hedge -row to form  a slightly curved plucking surface with the use \\nof appropriate pruning machines will facilitate use of pruning/harvesting machines \\nwith dome -shaped blades.    \\n \\n \\nFigure 1. A schematic diagram of double hedge -row p lanting arrangement in the \\nfield  (0.6m x 0.6m  x 1.5m ) \\n \\nTea Research Institute of Sri Lanka  \\nTalawakelle  \\nCopyright  \\nAll rights reserved. No part of this publication may be reproduced or transmitted in any form or \\nby any means, electronic or mechanical, including photocopying, recording, scanning or \\ninformation storage and retrieval system without the prior written permission from the Director, \\nTea Research Institute of Sri Lanka, Talawakelle  \\n1 \\n TEA RESEARCH INSTITUTE OF SRI LANKA  \\n \\nIssued In: April 2020       Guideline No: 01/2020  \\n \\nGUIDELINES ON MEASURES TO BE ADOPTED  IN TEA LANDS  \\nFOLLOWING A DROUGHT  \\n \\nIt is absolutely essential that the following measures  should  be adopted in tea lands  affected by a \\nprolonged drought , in order to ensure optimal recovery of drought affected plants.  \\n \\nNEWLY PLANTED TEA ( First  and Second y ear fields)   \\n \\n1. Newly planted tea should be fertilized only after bud -break and when leaves of the new \\ngrowth are  fully open.  \\n \\n2. Bringin g into bearing operations should be delayed until the plants have re -foliated \\nadequately.  \\n \\n3. Assess the number of casualties in each newly planted field and resupply vacancies \\nwith quality  nursery plants, prior to undertaking the normal replanting planned for the year. \\nExtents which could not be planted in the season should continue to be under grass until \\nplanting in the following season.  \\n \\n4. If low shade tree s such as G liricidia , Dadap s have been affected, resupplying of shade or \\nremoval of dead branches may b e necessary.  \\n \\nMATURE TEA  \\n \\n1. Fertilizer Applications   \\nWhen favorable  weather conditions set in after  a period of prolonged drought, \\napplication of  fertilizer should be carried out carefully .  \\n \\nTea fields may have been affected by drought at varying levels and can be categorized as \\nfollows:  \\n  \\n(a) Fields showing no symptoms of drought but low in shoot production  \\nFields  in this category  can be fertilized after  a period of 02 - 03 weeks  following the  \\nonset of monsoon and when bushes  show obvious signs of flushing .    \\n \\n(b)  Fields affected in parts i.e. by wilt as well as scorch and some defoliation  \\nSuch fields  can be fertilized only  after a period  of about 06  weeks , depending  on the extent of \\ndrought damage.  \\n \\n 2 \\n (c) Fields affected severely with extensive defoliation  \\nFields in this category should not be  fertilized, until bushes have fully  re-foliate d, \\nrecovered and have commenced  flushing, which process could take about  03 - 06 months . \\n \\n2. Pruning  \\nPruning of drought -affected fields should be  delayed until  the following con ditions \\nare in place:   \\n(a) Bushes have recovered fully , and \\n(b) Produced sufficient foliage ensur ing the availability  of adequate root reserves and good \\nlungs that could be retained at pruning.  It is  best to rest such fields completely  without \\npluck ing until fully recovered . \\n \\n3. Plucking  \\n(a) Drought affected field s should be harvested only after bushes are fully \\nrecovered . \\n \\n(b) After a period of prolonged  drought  tea bushes are subjected to v arying degrees \\nof stress . Hence , with the onset of rain s, adopt one  or two r ounds of light  plucking , even  in \\nfields with  bushes showing no obvious /v i s i b l e  signs of drought effects  such as  \\nwilting and/or partial  defoliation .   \\n \\n(c) If, however, a significant number  of bushes had wilted at some stage during the dry \\nperiod and if some of which had shown partial defoliation, it is essential  to \\ncompletely rest such sections in the field . Any a ttempt s to harvest should not be made at \\nthe first signs of flush.  \\n \\n4. Re-supplying vacancies  \\n(a) Priority for infilling should be given to young and newly planted areas and then to VP \\ntea areas with good soil conditions. Robust and hardier nursery plants should be used \\nto infill vacancies . \\n \\n(b) Vacancies in seedling tea should be planted with appropriate soil -reconditioning . \\nAfter soil-reconditioning,  infilling should be carried out with hardier specifical ly \\ngrown nursery plants, as already recommended for infilling normal vacancies in \\nmature tea  fields . \\n \\nTea Research Institute of Sri Lanka  \\nTalawakelle  \\n \\nCOPYRIGHT  \\nAll rights reserved. No parts of this public ation may be reproduced or transmitted in any form or by any \\nmeans, electronic or mechanical, including photocopying, recording or information storage and retrieval, \\nwithout permission in writing from the Director, Tea Research Institute of Sri Lanka.  \\n \\n 1 \\n TEA RESEARCH INSTITUTE OF SRI LANKA  \\n \\nIssued In: May 2020        Guideline No: 02/2020  \\n \\nGUIDELINES  ON PRE VENTION AND CONTROL OF SPREAD OF C OVID -19 IN \\nTEA PLA NTATION S \\n \\nEntire world has been  affected by the pandemic caused by the novel coronavirus, commonly \\nknown as COVID -19. Sri Lanka is also currently experiencing COVID -19 threat.  Globally,  \\nCOVID -19 pandemic w ill create significant impact s on economies and Sri Lanka is not \\nexempted being an  upper middle -income  countr y. This will certainly create adverse outcomes \\nin the health, social and economic settings in short,  medium and long er terms. \\n \\nCOVID -19 is a respiratory disease and the transmission takes place  via following 3 routes : \\n \\n1. Droplets  - The virus can be transmitted by breathing infected droplets. Droplets can be \\nproduced during coughing or sneezing or even by exhales from infected persons. These \\ndroplets travel up to a distance of 1m.  \\n2. Direct - Person to person transmission by direct con tact with an infected person (E g. \\nHugging, Shaking hands). The virus enter s the body through nose, mouth or eyes.  \\n3. Indirect – When an infected person coughs, sneezes or exhales, droplets of infected fluid \\nmay release and contaminate nearby surfaces and obj ects, such as desks, tables, \\ntelephones, computers etc. An uninfected person may come in contact the virus by \\ntouching these surfaces and then touching their eyes, nose or mouth.  \\n \\nTherefore, individual workplaces should  adopt best practices to avoid such t ransmissions \\nthrough the routes  described herein. Individual behavior is also important in arresting \\ntransmission of this virus .  \\n \\nTwo simple measures adopted in public namely wearing face masks and not touching the face \\ncould protect any individual from infecting  with this virus . \\n \\nIn the present context, workplaces need to modify the practices and the ir work ing \\nenvironment s to prevent any possible transmission of COVID -19 infection. Therefore, \\nstakeholders in the tea plantations are hereby advised to adopt  the following guidelines at \\ntheir workplaces viz. tea field, factory and office, while complying with the Government \\ndirectives  and Ministry of Health and Indigenous Medical Services  guidelines issued time to \\ntime.  \\n \\nThe staff and workers of following categories  should not report for work;  \\n \\n1. Those having fever, with or without acute onset respiratory symptoms such as cough, \\nrunny nose, sore throat and/or shortness of breath.  \\n2. Those who have had contact with suspected or confirmed case of COVID -19 for the last \\n14 days  \\n3. Those  who are quarantined for COVID -19. \\n 2 \\n 4. Those who are occupying premises and/or housing schemes declared as self - quarantine \\nareas for suspected cases of COVID -19. \\n \\nA large number of people are frequently  gathered at the workplaces, it is a collective \\nresponsibility of persons to keep workplaces safe  and healthy . The lead responsibility for the \\nimplementation of this guide line lies w ith the management of each organiza tion. \\n \\nAll staff and workers need to adhere to the recommendations append  below in order to avoid  \\npossible transmission of COVID -19 infection . \\n \\n \\nGeneral  \\n  \\n1. Identifying a suitable focal point (a responsible officer) to coordinate, monitor and control \\nactivities implemented against COVID -19 infection and provides  necessary guidance.  \\n2. Formulating a task force in each estate representing the management, field , factory, \\nmedical and welfare staff , and safety officer /s and community members as deemed \\nnecessary . \\n3. Formulating vigilance committee within the plantation community to ensure proper \\ncoordination, feedback flow of information and decision taking etc. by the individual \\nestate . \\n4. Continue a wareness on COVID -19 spread and encourage stay at home and line room .  \\n5. Main taining records and census of all resident individuals,  visitors, influx personnel from \\nother regions and countries, workers with reduced immunity and s uffering from diabetes, \\nheart, kidney, liver, asthma and lung diseases, age over 40 years . \\n6. Advise staff to minimize direct verbal communication between co -workers and use \\nalternative methods (Public address system, intercom etc.) to provide instructions to  \\nworkers and staff members.  \\n7. Discourage workers from the use of  other workers’ baskets, sacks, knives, mobile phones, \\npens and common telephones, desks and equipment  etc. If any object has been shared , it \\nmust be cleaned with soap and water or with minimum 70% v/v alcohol -based  sanitizer.  \\n8. Conduct review meetings periodically to monitor, obtain feedback and improve system s.  \\n9. In the event of detecting a suspected case at workplace, seek assistance from hotline 1390 \\nand follow the instructions given or alternat ively transfer the worker to the nearest \\ngovernment hospital, by ambulance. Suwasariya ambulance service can be contacted by \\ndialing 1990.  \\n10. Deploy workers with less risk: persons  with reduced immunity and suffering from \\ndiabetes, heart, kidney, liver, asth ma and lung diseases, and age  over 40 years are \\nvulnerable.  \\n \\n \\n \\n \\n \\n 3 \\n At F ield \\n \\n1. Limit  agricultural practices to essential operations such as plucking, weeding, fertilizing, \\npruning and nursery upkeep. Additionally, shade lopping and blister  blight control in \\nplantations  receiving  monsoon  rain.  \\n2. Avoid gatherings at musters, weighing sheds, tea break , transport etc . and always \\nmaintain one meter  minimum distance between workers  while working and moving . \\n3. Allocate tea rows in such a way to ensure always minimum of one-meter  distance .  \\n4. Deploy workers on alternate basis to maintain social distance and avoid continuous \\nexposure .  \\n5. Ensur e proper use of suitable masks by all staff and workers  and gloves only on \\noccasions, if necessary.  \\n6. Promote good hand hygiene among workers at all critical points by providing appropriate \\nAlcohol -based hand  sanitizing mixtures /soap  and washing areas .  \\n7. Discourage sharing of farm implements at work and  sharing food, tea, beetle leaf and \\nsmoking and other items viz. masks, bags, level sticks etc.  \\n8. Offer t ea breaks batch  wise in a manner to gather at few locations than one location .  \\n9. Encourage TRI shear, harvesting and pruning machines to minimize worker involvement .  \\n10. Disinfect all, field equipment, machinery, uniforms, vehicl es and other personal objects .  \\n \\nAt Factory     \\n \\n1. Deploy workers on rotation basis to minimize personal contact s. \\n2. Maintain social distancing at least with a 1 meter at all times . \\n3. Practice hand hygiene at critical points by providing washing facilit ies with sanitiz ers, \\ncough etiquette and wearing masks .  \\n4. Avoid gatherings at unloading and weighing  points, and tea break etc . \\n5. Ensure sufficient ventilation in the processing areas . \\n6. Restrict worker movement s from one area to another as far as possible . \\n7. Discoura ge sharing of food, beetle and common utensils . \\n8. Encourage measures to minimize worker involvement . \\n9. Encourage completing work at one stretch.  \\n10. Provide tea break s batch wise or section by section . \\n11. Disinfect all  equipment, machinery, uniforms  and vehicles . \\n12. Clean/disinfect door handles, railings and toilet s regularly . \\n13. Ensure persons involved in transportation bought leaf , refuse tea  and firewood etc.  \\npractice hand hygiene, cough etiquette and wearing masks, and l imit number of external \\nvehicles . \\n14. Dispatch teas to Colombo with extreme  care, and provide lorry driver and helper with \\npersonal hygiene guidance,  sanitizers and masks for disinfecting and regular use in \\ntransportation .  4 \\n 15. Comply with food hygiene standards by implementing stringent measures during \\ntransportation, handling, auctions, sampling for test s, processing, packaging and \\nwarehous ing for shipping with traceability records .  \\n \\n \\nAt the Estate o ffice premise  \\n \\n1. Ensure practice of hand  hygiene at the entry to office by providing washing facilities with \\nsanitizers, cough etiquette and wearing masks , and promote regular hand washings .  \\n2. Rearrange  office  to ensure social distanc ing at work and avoid direct contacts  within and \\noutsiders, and  may establish a barrier/shield for cashier counter .  \\n3. Establish alternate days and/or extra shifts reduc ing total number of employees in the \\nwork place and personal contacts .  \\n4. Avoid unnecessary gatherings  and meetings  with both internal and external persons . \\nArrange tea and lunch breaks batch -wise to prevent crowding the meal room . \\n5. Maintain routine cleaning and disinfecting surfaces, office equipment, door handles and  \\ntoilets etc.  \\n6. Adopt waste management and garbage disposal, clean ing and disinfecting  protocols.  \\n7. Discourage staff use others desks/work stations, common telephones, fax machines , pens, \\ncalculators , and also  sharing food, tea, chewing  beetle leaf etc.   \\n8. Keep doors and windows open in order to  improv e ventilation and avoid regular handling .  \\n9. Advise staff to minimize verbal and written communication among  co-workers and \\npromote use of alternative methods ( public address system, intercom etc.) for internal \\ncommunication .  \\n10. Minimize cash handling  and formalize the  distribution  of food materials, etc. and \\nintroduce alternate means to avoid personal contacts.  \\n \\nTea Research Institute of Sri Lanka  \\nTalawakelle  \\n \\n \\nCOPYRIGHT  \\nAll rights reserved. No parts of this publication may be reproduced or transmitted in any form or by \\nany means, elec tronic or mechanical, including photocopying, recording or information storage and \\nretrieval, without permission in writing from the Director, Tea Research Institute of Sri Lanka.  \\n 1 TEA RESEARCH INSTITUTE OF SRI LANKA  \\n \\nIssued In: August  2021       Guideline No: 02/2021  \\n \\nGUIDELINES FOR TEA AND COCONUT INTERCROPPING  \\n(This guideline replaces Guideline issued on 26th April, 2000)  \\n \\nIntercropping of tea and coconut is considered feasible in the mid and low country, in the \\nagro-ecological regions, WM1, WM2, WM3, WL1 and WL2, where conditions are conducive \\nfor the cultivation of both these crops.  \\n \\nThe main objective is to enhance productivity of land.  \\n \\n1. Intercropping procedure  \\nCoconut should be planted in an avenue system. The recommended spacing between avenues \\nis 12 x 7.8 m (40 x 26 ft) .  According to this system of planting density of coconut is 102 palms \\nper ha ( 42 palms per acre).  \\n \\nThe tea should be intercropped in the avenues of coconut leaving at least 2.4 m (8 ft) for the \\nmanure circle of coconut. The  spacing  of  tea  can vary  from 1.0 x 0.6 m (3.5 x 2 ft) to 1.2 x \\n0.6 m (4 x 2  ft) depending on the growth habit s of tea cultivars .  \\n \\nThe details of number of coconut palms and tea plants under different spatial arrangements are \\ngiven in Table. 1. In order to avoid excessive shade on tea, it is suggested that wherever \\npossible coconut be planted in the East -West dir ection.  Fig. l illustrates the spatial arrangement \\nof the tea and coconut intercropping.  \\n \\nTable 1 . Plant d ensity of tea and coconut under different spacing arrangements  \\n \\nCoconut  Tea \\nSpacing   No. of Palms  Spacing  No. of rows within a \\ncoconut avenue  No. of Plants  \\n12.0 x 7.8 m  102/ha   1.2 x 0.6 m 7 9,280/ha  \\n 1.0 x 0.6 m  8 10,600/ha  \\n40 x 2 6 ft 42/ac   4 x 2 ft 7 3,820/ac  \\n 3.5 x 2 ft  8 4,370/ac  \\n \\n  2  \\nC- Coconut  T- Tea  G- Gliricidia  \\n \\nFigure  1. Spatial arrangement of tea and coconut intercropping system  \\n \\n2. Planting of Coconut  \\n2.1 Coconut c ultivars  \\nHybrid cultivars are suitable for areas in Wet zone where soil is deep (>2 m) and recommended \\nmainly for home gardens.  \\n \\n \\n \\n \\n \\n \\n \\n \\nTall x Tall (TT or CRIC 60) cultivar is suitable for areas where soil depth is average and \\nrecommended for all commercial plantations.  \\n \\n2.2 Spacing  \\n12 x 7.8 m  (40 x 26 ft)  \\n \\n2.3 Soil conservation and land preparation  \\nAs per recommended practices (CRI Advisory Circular Nos. A 8 to A 11)  \\n  Eg:  CRIC 65  \\n CRISL 98  \\n CRISL 2004 (Kapruwana)  \\n CRISL 2012 (Kapsuwaya)  \\n CRISL 2013 (Kapsetha)  \\n CRISL 2020  T  T T T T T T T T T T T T T T T T T T T T T T T T T T T T  T T T T T T T T T T T T T T T T T T T T T T T T T T T C  C  C \\nT  T T T T T T T T T T T T T T T T T T T T T T T T T T T \\nG T  T T T T G T  T T T T G T  T T T T G T  T T T T G T  T T \\nT  T T T T T T T T T T T T T T T T T T T T T T T T T T T \\nT  T T T T T T T T T T T T T T T T T T T T T T T T T T T \\nT  T T T T T T T T T T T T T T T T T T T T T T T T T T T T 7.8 m (26 ft)  \\n2.4 m  \\n(8 ft) \\n1.2 m  \\n(4 ft) \\n12 m  \\n(40ft)  \\n0.6 m (2 ft)  \\nC  C  C 7.8m (26 ft)  2.4 m  \\n(8 ft) 3 2.4 Planting holes  \\nFor loamy/clay loam soil  \\n0.9  x 0.9  x 0.9 m  (3 x 3  x 3 ft) (CRI Advisory  Circular No. A 3)  \\n \\nFor shallow and gravelly soil  \\n1.2 x 1.2  x 1.2  m (4 x 4  x 4 ft)  \\n \\n2.5 Cover crops  \\nEstablish Calopogonium mucun oides (Calopogonium), Pueraria phaseoloides  (Pueraria) or \\nArachis pintoii  along the coconut avenues.  Ensure that the cover crops are maintained withi n \\nthe coconut area ( CRI Advisory  Circular No . A 10)  i.e. without spreading into tea area.  \\n \\n2.6 Fertilizer application  \\nAs per CRI recommendation, it is necessary to use an extra dose of dolomite or kieserite at the \\nrate of 1 kg per palm ( CRI Advisory  Circular No. A 5).  \\n \\n2.7 After -care   \\nAs per CRI recommendations in Advisory  Circular No. A 4.  \\n \\n3. Planting of Tea  \\n3.1 Soil conservation and land preparation  \\nAs per recommended practices ( Handbook on Tea and TRI Field Guidebook ) \\n \\n3.2 Soil rehabilitation  \\nIf the soil conditions are marginal (less than 90 cm soil depth, more than 20% gravel content \\nand less than 2% soil organic carbon content) or if the soil is infested with nematodes, soil \\nrehabi litation with Mana grass for a minimum period of 18  months  is recom mended. \\nAlternatively , CO3 grass (Hybrid Napier) can be planted for a period of 12 months . When \\ncoconut and grass are planted simultaneously , it is recommended to cut a 1  x 1 ft (0. 3 x 0.3 m) \\ntrench , 6 ft ( 1.8 m) away f rom the coconut tree and plant grass in between two trenches as \\nshown in Fig. 2.  \\n \\n \\n \\nFigure 2. Area demarcated for soil rehabilitation in coconut avenue  \\n7.8 m \\n(26 ft) 1.8 m (6 ft)\\n0.3 m (1 ft)\\n9.75 –12.0 m \\n(32 -40 ft)\\n0.3 m (1 ft)\\n1.8 m (6 ft)AREA OF SOIL REHABILITATIONDrain4 3.3 Establishment of shade  \\nEstablish  one row of Gliricidia  at the spacing of 3.6 m (12 ft)  in the middle row of tea along the \\ncoconut avenue as shown in Fig. 1.  \\n \\n3.4 C ultivars  \\nUse recommended cultivars for the region, depending on the soil and climatic conditions (TRI \\nAdvisory Circular PN 1) . \\n \\n3.5 Spacing  \\n1.0 x 0 .6 m (3.5 x 2.0 ft) - For cultivars  with erect growth habit , eg. TRI 2043,  TRI 4049 , S 106, \\nDG 7 and  DG 39 . \\n \\n1.2 x 0.6 m (4.0  x 2.0 ft) - For other cultivars  with spreading growth habit . \\n \\n3.6 Planting holes/trenches  \\nHoles:  45 cm (18 inches) deep with a top diameter of 30 cm (12 inches) and  bottom diameter of \\n22.5 cm (9 inches) . \\n \\nTrenches: 45 cm (18 inches) deep and 30 cm (1 2 inches) wide . \\n \\n3.7 Time of planting , and Pest control  \\nPlanting of tea should be done with the onset o f South -West monsoon rains (May/June).  \\n \\nFor n ematode prone areas, a suitable nematicide may be applied as per the TRI Advisory \\nCircular s No. PU 4 and PM 4 .  \\n \\nFor White Grub prone areas, preventive measures need  to be taken as per recommendations in \\nthe TRI Advisory Circular s PU 4 and PM 7 . \\n \\n3.8 After -care \\n3.8.1  Thatching  \\nThatching  should  be done soon after completion of planting tea and repeated before the tail end \\nof the monsoon. Care should be taken to keep thatch material ( Mana, G autemala,  CO3  grass) \\n15 cm (6 inches) away from the collar of the tea plant.  \\n \\n3.8.2 Weed management  \\nManual weeding is preferred . \\n \\n3.8.3 Fertilizer application  \\nFertilizer applications should be done according to TRI recommendations (TRI  Advisory \\nCircular Nos. SP 2, SP 3 , SP 6 and SP 10). \\n \\n3.8.4 Bringing into bearing  \\nAs per recommended practices (TRI Advisory Circular No. PA 1). \\n \\n4. Intercropping tea in existing C oconut lands  \\nLands presently under coconut may be inter -cropped with tea, provided that the soil and  \\nweather conditions are conducive for tea. The coconut palms should be over 35 years to allow  \\nsufficient sunlight falling on tea. Soil rehabilitation is essential for marginal  lands with  5 compacted  soil. Further more , planting tea in trenches of 30 cm (1 ft ) wide and 45 cm (1.5 ft) \\ndeep is  preferable. A shallow trench of 30  x 30 cm de ep (1 x 1 ft), 1.8 m (6 ft) away on either \\nside of  coconut rows should be cut to minimize any adverse effect of rehabilitation grass on \\ngrowth  of coconut.  \\n \\n4.1 Planting arrangement  \\nTo avoid competition, tea should be planted at least 2.4 m (8.0 ft) away from the coconut palm.  \\nTwo systems of planting can be adopted for planting tea in existing coconut lands.  \\n \\na) Planting tea only in the avenues of coconut  \\nIn this system, tea is established only in the inter -rows of coconut. The spacing can vary \\nfrom 1.0 - 1.2 m (3.5 - 4.0 ft) between rows and  0.6 m (2.0 ft) within the row depending \\non growth habit of tea cultivars ( see section 3.5 above).  \\n \\nb) Planting tea in the ent ire space betw een coconut palms  \\nIn this system, tea can be planted at a spacing of 1.0 x 0.6 m (3.5  x 2.0 ft) or 1 .2 x 0.6 m \\n(4.0 x 2.0 ft.) cover ing the entire space in the coconut square leaving a radius of 2.4 m  \\n(8.0 ft) from the coconut palm . \\n \\nOther considerations  \\n1) In order to allow movement of carts and tractors  etc., it is advisable to leave one \\ncoconut avenue for every 5 to 6 avenues without planting tea.  \\n \\n2) In coconut plantations with irregular spacing , it may not be possible to plant tea in a \\nsystematic manner. In  such lands tea should be planted in the space available after \\nleaving 2.4 m (8.0 ft) from the coconut palm.  \\n \\n3) All cultivation practices and after -care for both tea and coconut should be carried \\nout according to TRI and CRI recommendations. It is advisable to consult relevant \\nAdvisory and Extension Officers for necessary assistance.  \\n \\nTea Research Institute of Sri Lanka  \\nTalawakelle  \\n \\nCOPYRIGHT  \\nAll rights reserved. No parts of this publication may be reproduced or transmitted in any form or by any \\nmeans, electronic or mechanical, including photocopying, recording or information storage and \\nretrieval, without permission in writing from the Director, Tea Research Institute of Sri Lanka.  1 \\n TEA RESEARCH INSTITUTE OF SRI LANKA  \\n \\nIssued In: August 2021                Guideline No: 03/2021  \\n \\nINDUSTRY GUIDELINES  FOR  \\nCOPPER ALLOY CAST CO MPONENTS IN ROTORVAN ES \\n \\nIntroduction  \\nRotorvanes are used in manufacturing Orthodox broken type teas. These Rotorva nes consist \\nof copper alloy cast components for effective maceration of tea. Quality of made tea and \\ndhool production rate are affected as a result of wear and tear  of the components . A study \\nwas conducted on sample components for chemical composition, har dness and microstructure \\nand causes for high  wear and tear  were identified. This guideline briefs basic information on \\ncasting requirement, test method and quality requirement for the copper alloy cast \\ncomponents .   \\nScope  \\n\\uf0b7 Requirements for casting component s and \\n\\uf0b7 Test Method  for cast components  \\n \\nComponents  \\n\\uf0b7  Vanes  for all sizes of rotorvanes  \\n\\uf0b7  Resistors  for all sizes of rotorvanes  \\n \\nRequirements  for casting components  \\n\\uf0b7 Materials  \\no Main ingot m aterials needed are Cu, Sn and Zn.  \\n                        Or  \\no Scrap mat erials with known c hemical composition.  \\nIt is highly recommended to work with a particular foundry to obtain cast \\ncomponents made of ingot  material . When the cast components are wasted , it \\ncan be reused to maintain chemical composition in the cast componen ts closer \\nto the requirement.  The cost of new components  could be  reduced with reuse \\nof the material.  \\n \\n\\uf0b7 Method of casting  \\no Sand casting  \\no Preparing quality green sand with the characteristics: refractoriness, chemical \\ninertness, permeability, surface finish , cohesiveness, flowability, collapsibility, \\nand availability/cost. (Described in Annexure A ). \\no Melting order – ‘Cu’ first followed by ‘Sn’ and ‘Zn’ at the final stage . \\nLosses of elements  in the form of vapour occurs as the melting point of Cu, Sn \\nand Zn va ry as 1,085 °C, 231.9 °C and 419.5 °C respectively.  \\no Casting components of different thicknesses at appropriate temperatures. \\nRecommended casting temperature s for producing components of different \\nthickness es are given in Table 1. 2 \\n Table 1. Casting tempera tures for components of different thicknesses  \\nThickness of components  Casting temperature  \\n< 15 mm  1,200 °C  \\n15 - 40 mm  1,170 °C  \\n> 40 mm  1,130 °C  \\n \\nTest Method for cast components  \\n\\uf0b7 Optical emission spectroscopy  \\n \\nTesting facility  \\n\\uf0b7 Industrial Development Boa rd, Ratmalana and  \\n\\uf0b7 Department of M aterials  Engineering, University of Moratuwa . \\n \\nQuality requirement for  casted components  \\n\\uf0b7 Chemical composition (%) of Cast components,  \\no Cu  86 – 89 %  \\no Sn  9 – 11 %  \\no Zn  1 – 3 % \\no Pb  1 – 1.3 %  \\n \\nRange of percentage is given to t he elements considering practical difficulties in \\nachieving exact composition. Allowing lead is to improve the machinability. As \\nthe cast components are contacting tea, extreme care should be taken not to allow \\nlead content exceed the maximum of 1.3%.  \\n \\n\\uf0b7 Smooth Surface  \\n\\uf0b7 Free from flaws, seams, cracks  \\n\\uf0b7 Minimum impurities  \\n 3 \\n 1. Green sand  characteristics:   \\nRefractoriness : The sand's ability to withstand the temperature of the liquid metal being \\ncast without breaking down. Sand with too low refractoriness will melt a nd fuse to the \\ncasting.  \\nChemical inertness : The sand must not react with the metal being cast.  \\nPermeability : The sand's ability to exhaust gases. This is important to avoid  casting \\ndefects , such as blow holes and gas holes  \\nSurface finish : The size and shape of the sand particles defines the best surface finish \\nachievable . Finer particles lead to producing a better finish. However, finer the particle,  \\nthe permeability become s worse.  \\nCohesiveness  (or bond ): The ability of the sand to retain a given shape after the pattern is \\nremoved.  \\nFlowability : The ability for the sand to flow into intricate details and tight corners.  \\nCollapsibility : The ability of the sand to be easily st ripped off the casting after it has \\nsolidified. Special additives can be used to avoid cracking and  hot tears  in the casting \\nduring cooling or with long freezing temperature ranges .  \\nAvai lability/cost : The availability and cost of the sand is especially  important because \\nfor every ton of metal poured, three to six tons of sand is required.  Although sand can be \\nscreened and reused, the particles eventually become too fine and require period ic \\nreplacement with fresh sand.   \\nIt is economical to use two different sands,  \\na. Facing sand - this sand will be built up around the pattern to a thickness  of 30 to \\n100 mm.  \\nb. Backing sand - the sand that fills in around the facing sand. This sand is simply \\nsilica sand with only a small amount of binder and no special additives.   \\n \\n2. Green sand additives  \\na. Base sand  \\nSilica sand of AFS grain size 50  - 60 is generally  used.  \\nb. Clay  \\nThe best bonding clays are bentonites .   \\nc. Coal dust  \\nUsed mainly in iron foundries with so me being used in non -ferrous foundries.  \\nd. BENTOKOL  \\nBENTOKOL additives are blends of natural clays to which have been added \\nspecially selected essential volatiles to provide both bond and volatile content .  \\ne. Water  \\nWater is needed to develop the clay bond bu t at times  it cause s casting defects.  \\n \\nTea Research Institute of Sri Lanka  \\nTalawakelle  \\nCOPYRIGHT  \\nAll rights reserved. No parts of this publication may be reproduced or transmitted in any form or by \\nany means, electronic or mechanical, including photocopying, recording or information storage and \\nretrieval, without permission in writing from the Director, Tea Research Institute of Sri Lanka.  \\n Annexure A  1 \\n THE TEA RESEARCH INSTITUTE OF SRI LANKA  \\n \\nIssued in:  December 2021       Guideline No: 0 4/2021 \\n \\nInterim Guideline s on Strategic C ost Component Management in Tea  Cultivation with \\nSpecial Reference to Rational Use of Plant Nutrients  and Tea Manufacture  \\n \\n1. Background/Rationale  \\nUltimate objective of any enterprise is optimizing  the profit s and the same is true for the \\nstakeholders in tea supply and value chain  as well.  The p rofit is defined as the difference \\nbetween the sale price and cost of the product  (COP ). Therefore, it is imperative to maintain \\nthe cost components as minimum as possible and obtain high er price s to accrue  higher profit \\nmargin s. Ensuring the best quality of end-product and adding value  to them will also increase \\nthe Net Sale Average (NSA) of graded tea. \\n \\nWith limited availability and higher input costs, it is necessary to identify appropriate \\nstrategies for the rational use of such inputs in order to manage cost s and minimiz e impacts on \\nsustainable production .  \\n \\nThe purpose of th is interim guideline  is to advise  the growers  and producers on key  strategies  \\nto manag e cost components in tea cultivation and processing. However, it should be cautioned  \\nthat the curtailment of inputs such as fertilizers  need not be continued as a routine practice as \\nthey adversely affect productivity.  \\n \\n2. Strategic cost management in tea cultivati on \\n2.1 Rational u se of plant nutrients for tea fields   \\nThe costs of plant nutrients  and application s vary from 6  - 12% of total cost of production  \\n(COP) . Hence, r ational use of plant nutrients is important to maintain tea land s profit ably.  \\n \\n\\uf0b7 Do not curtail fertilizer inputs for tea nurser ies and immature tea (up to formative \\npruning)  in the use of T  65, and T  200 and T  750 mixtures respectively and continue as \\nrecommend ed (Refer Advisory Circulars SP1 and SP2)   \\n\\uf0b7 An interim recommendation on a  fertilizer mixture containing Sulphate of Ammonia \\n(SA), Eppawela Rock Phosphate (E RP) and Muriate of Potash (MOP)  formulated as \\nT1240 is made  for the use in mature tea fields.  \\n\\uf0b7 The composition and nutrient concentrations of T 1240 are given in  Table 1.  \\n \\nTable 1.  Composition and nutrient concentrations of the T 1240 mixture  \\nMixture  Composition (parts)  Concentration (%) \\nSA ERP MOP  N P2O5  K2O S \\nT1240  970 103 167 16.1 2.3 8.0 18.7 \\n 2 \\n \\uf0b7 Use nitrogen (N) rationally for mature tea based on the average yields as detailed in \\nTables 2 and 3  for corporate sector and small holdings respectively  so that every 100  kg \\nof made tea  below and above the yield level of 1400 made tea kg per ha per year \\nreceives on average 08 kg and 10 kg of N respectively . \\n \\nTable 2. Number of applications and per application quantity of T1240 for corporate sector  \\nAverage yield  \\n(Made tea kg/ha/year)  N requirement  \\n(kg/ha/year)  Number of \\napplications per year  Per application \\nquantity (kg)  \\nLess than 800  65 2  200 \\nFrom 800 up to 1400  90 3  180 \\nFrom 1400 up to 1900  165 4  250 \\nOver & above 1900  200 4 310 \\n \\nTable 3. Number of applications and per application quantity of T1240 for small holdings  \\nAverage yield  \\n(Green leaf kg/ac/month)  N requirement  \\n(kg/ac/year)  Number of \\napplications per year  Per application \\nquantity (kg)  \\nLess than 130  25 2 75 \\nFrom 130 up to 220  35 3 70 \\nFrom 220 up to 300  70 4 110 \\nMore than 300  80 4 125 \\n \\n\\uf0b7 Apply T1240 mixture 2, 3 and 4 times a year for tea fields yielding less than 800 kg, \\n800-1400 kg and above 1400 kg of made tea per ha per year (<130, 130 -220 & >220 kg \\ngreen leaf per ac per month)  respectively.  \\n\\uf0b7 Apply fertilizer from plant to plant for tea fields yielding less than 800 kg of made tea \\nper ha per year (<130 green leaf per ac per month)  \\n\\uf0b7 Test soil pH regularly and correct soil acidity (optimum range of pH being 4.5 -5.5) by \\napplying dol omite prior to chemical fertilizer application to improve nutrient \\navailability and plant uptake as given in Table 4 as per the recommend ation s (Refer \\nAdvisory Circular SP3).  \\n\\uf0b7 Use compost  to improv e nutrient use efficiency and soil pH buffering capacity . \\nHowever , compost made  from  municipal waste is not permitted  due to possible \\ncontamination with heavy metals . \\n\\uf0b7 Apply compost preferably at the rate of 5 metric tons per ha per year (2 metric tons per \\nacre per year) in low country and 2.5 metric tons per ha p er year (1 metric ton per acre \\nper year) in up country, mid country and Uva regions or 20 metric tons  per hectare (8 \\nmetric per acre) at the prune in low country and 10 metric tons per hectare  at the prune \\nin up country , mid country and Uva region s depending on the availability . Wherever \\npossible, incorporate compost into soil by envelope forking.  \\n \\n \\n \\n 3 \\n Table 4 . Correction of soil pH with dolomite applications  \\nSoil pH  Dolomite  \\nkg/ha No. of Bags /ha kg/ac No. of bags /ac \\nBelow 3.9  2500  50 1000  20 \\nFrom 3.9 up to 4.2  2000  40 800 16 \\nFrom 4.2 up to 4.5  1500  30 600 12 \\nAbove 4.5  1000  20 400 8 \\n \\n2.2 Adopt  shorter plucking r ounds  to improve  tea yield, leaf standard and quality of made tea  \\n2.3 Give priority and d eploy maximum workforce  for plucking  (harvesting)  \\n2.4 Use suitable machines for labour intensive operations such as plucking, pruning and \\nweeding  \\n2.5 Adhere to  rest fields prior to  pruning and advocate correct length of pruning c ycle (3 year \\ncycle for VP tea in low country and 4 -5 year cycle for VP tea in up  country , mid country \\nand Uva regions) . Undue shortening of cycles will lead to more non -productive periods \\n(recovery after pruning).  \\n2.6 Adopt  alternative worker deployment models  (AWDMs)  such as offering work to estate \\nworkers on contractual basis, cash plucking, block plucking, contract farming systems  \\nand out grower system  to overcome labour scarcity  and  improve  labour productivity .  \\n2.7 Monitor  key field operations  such as plucking, pruning, fertilizer application to ensure \\nhigh worker productivity and quality of field operation s)  \\n2.8 Adhere to soil and moisture conservation and integrated fertility management strategies \\nas per TRI guidelines to ensure minimize inpu t losses.  \\n2.9 Adhere to integrated approaches as per TRI guidelines on seasonal and perennial pest and \\ndisease incidences affecting yield and quality.  \\n2.10 Adhere to integrated weed management strategies as per TRI guidelines to ensure higher \\nyield .  Consolidate ground cover  by infilling and planting of mana in vacant patches  to \\nsuppress weed growth.  \\n2.11 Improve productivity  of tea lands  by infilling of vacancies , replanting , timely \\nmanagement of pest and diseases,  and adoption of  other key good agricultural practices . \\n2.12 Diversify t ea lands with poor soil conditions into appropriate use such as establishment of \\nfuel-wood blocks and thatch banks /grass planting.   \\n \\n3. Strategic cost management in tea manufacture  \\n3.1  Process only standard leaf with a view to reduc ing processing time and thereby reducing \\ncost of worker and energy ; and minimize ware and tare of machinery  in tea factories.  4 \\n 3.2 Use suitable size dryer and required number of machiner ies only for optimiz ing \\nperformance and productivity  \\n3.3 Implement formal energy audits with TRI assistance and determine critical points in \\nfactory operations for corrective measures  \\n3.4 Strictly monitor and r educe energy consumption  by an appropriate e nergy (electrical and \\nthermal) management plan. For exampl e, maintain required stock of cut, split and dried \\nfirewood and use it to generat e hot air for withering and drying processes.  \\n3.5 Implement GMPs (Good Manufacturing Practices); follow properly designed rolling \\nprogramme and grading programme and control process parameters such as hygrometric \\ndifference in air for withering, dryer temperatures and airflow for withering and drying , \\nand i ntroduce monitoring and controlling systems in tea manufacturing to ensure \\nimplementation of GMPs.  \\n3.6 Suitably re -siting  machinery and automate/conveyori se appropriately for smooth tea \\nmanufacture  \\n3.7 Avoid operating the factory under -capacity.  \\n3.8 Train factory staff and workers on all the aspect s in relation to  tea manufacture and \\nfactory operations to improve their perfo rmance/productivity  \\n3.9 Introduce proper record keeping  approach  for routine monitori ng of cost components    \\n \\nTea Research Institute of Sri Lanka  \\nTalawakelle  \\n \\nCOPYRIGHT  \\nAll rights reserved. No parts of this publication may be reproduced or transmitted in any form or by \\nany means, electronic or mechanical, including photocopying, recording or information storage and \\nretrieval, without permission in writing from the Director, Tea Research Institute of Sri Lanka.  \\n \""
            ],
            "application/vnd.google.colaboratory.intrinsic+json": {
              "type": "string"
            }
          },
          "metadata": {},
          "execution_count": 18
        }
      ]
    },
    {
      "cell_type": "code",
      "execution_count": null,
      "metadata": {
        "id": "a2Dl5oZgdzGR",
        "colab": {
          "base_uri": "https://localhost:8080/"
        },
        "outputId": "0cf7ffdc-de49-4005-ba86-f44a7553906f"
      },
      "outputs": [
        {
          "output_type": "stream",
          "name": "stdout",
          "text": [
            "Error processing chunk: Error code: 400 - {'error': {'message': \"Failed to call a function. Please adjust your prompt. See 'failed_generation' for more details.\", 'type': 'invalid_request_error', 'code': 'tool_use_failed', 'failed_generation': '<tool-use>\\n{\\n\\t\"tool_call\": {\\n\\t\\t\"id\": \"pending\",\\n\\t\\t\"type\": \"function\",\\n\\t\\t\"function\": {\\n\\t\\t\\t\"name\": \"DynamicGraph\"\\n\\t\\t},\\n\\t\\t\"parameters\": {\\n\\t\\t\\t\"nodes\": [\\n\\t\\t\\t\\t{\\n\\t\\t\\t\\t\\t\"id\": \"TEA RESEARCH INSTITUTE OF SRI LANKA\",\\n\\t\\t\\t\\t\\t\"type\": \"organization\"\\n\\t\\t\\t\\t},\\n\\t\\t\\t\\t{\\n\\t\\t\\t\\t\\t\"id\": \"December 2018\",\\n\\t\\t\\t\\t\\t\"type\": \"date\"\\n\\t\\t\\t\\t},\\n\\t\\t\\t\\t{\\n\\t\\t\\t\\t\\t\"id\": \"04/2018\",\\n\\t\\t\\t\\t\\t\"type\": \"guideline_number\"\\n\\t\\t\\t\\t},\\n\\t\\t\\t\\t{\\n\\t\\t\\t\\t\\t\"id\": \"GUIDELINES FOR ESTABLISHMENT OF ENERGY PLANTATIONS WITH  GLIRICIDIA SEPIUM AND CALLIANDRA CALO THRYSUS\",\\n\\t\\t\\t\\t\\t\"type\": \"document\"\\n\\t\\t\\t\\t},\\n\\t\\t\\t\\t{\\n\\t\\t\\t\\t\\t\"id\": \"fuelwood\",\\n\\t\\t\\t\\t\\t\"type\": \"material\"\\n\\t\\t\\t\\t},\\n\\t\\t\\t\\t{\\n\\t\\t\\t\\t\\t\"id\": \"tea processing\",\\n\\t\\t\\t\\t\\t\"type\": \"process\"\\n\\t\\t\\t\\t},\\n\\t\\t\\t\\t{\\n\\t\\t\\t\\t\\t\"id\": \"made tea\",\\n\\t\\t\\t\\t\\t\"type\": \"product\"\\n\\t\\t\\t\\t},\\n\\t\\t\\t\\t{\\n\\t\\t\\t\\t\\t\"id\": \"plantation workers\",\\n\\t\\t\\t\\t\\t\"type\": \"group\"\\n\\t\\t\\t\\t},\\n\\t\\t\\t\\t{\\n\\t\\t\\t\\t\\t\"id\": \"domestic use\",\\n\\t\\t\\t\\t\\t\"type\": \"purpose\"\\n\\t\\t\\t\\t},\\n\\t\\t\\t\\t{\\n\\t\\t\\t\\t\\t\"id\": \"Sri Lanka\",\\n\\t\\t\\t\\t\\t\"type\": \"location\"\\n\\t\\t\\t\\t},\\n\\t\\t\\t\\t{\\n\\t\\t\\t\\t\\t\"id\": \"marginal tea fields\",\\n\\t\\t\\t\\t\\t\"type\": \"land\"\\n\\t\\t\\t\\t},\\n\\t\\t\\t\\t{\\n\\t\\t\\t\\t\\t\"id\": \"low yielding\",\\n\\t\\t\\t\\t\\t\"type\": \"yield\"\\n\\t\\t\\t\\t},\\n\\t\\t\\t\\t{\\n\\t\\t\\t\\t\\t\"id\": \"land suitability limitations\",\\n\\t\\t\\t\\t\\t\"type\": \"restriction\"\\n\\t\\t\\t\\t},\\n\\t\\t\\t\\t{\\n\\t\\t\\t\\t\\t\"id\": \"poor soil conditions\",\\n\\t\\t\\t\\t\\t\"type\": \"soil_condition\"\\n\\t\\t\\t\\t},\\n\\t\\t\\t\\t{\\n\\t\\t\\t\\t\\t\"id\": \"rocky lands\",\\n\\t\\t\\t\\t\\t\"type\": \"terrain\"\\n\\t\\t\\t\\t},\\n\\t\\t\\t\\t{\\n\\t\\t\\t\\t\\t\"id\": \"excessive slopes\",\\n\\t\\t\\t\\t\\t\"type\": \"terrain\"\\n\\t\\t\\t\\t},\\n\\t\\t\\t\\t{\\n\\t\\t\\t\\t\\t\"id\": \"scarcity of labour\",\\n\\t\\t\\t\\t\\t\"type\": \"problem\"\\n\\t\\t\\t\\t},\\n\\t\\t\\t\\t{\\n\\t\\t\\t\\t\\t\"id\": \"fuelwood plantations\",\\n\\t\\t\\t\\t\\t\"type\": \"land_use\"\\n\\t\\t\\t\\t},\\n\\t\\t\\t\\t{\\n\\t\\t\\t\\t\\t\"id\": \"Gliricidia sepium\",\\n\\t\\t\\t\\t\\t\"type\": \"plant\"\\n\\t\\t\\t\\t},\\n\\t\\t\\t\\t{\\n\\t\\t\\t\\t\\t\"id\": \"Calliandra calothrysus\",\\n\\t\\t\\t\\t\\t\"type\": \"plant\"\\n\\t\\t\\t\\t},\\n\\t\\t\\t\\t{\\n\\t\\t\\t\\t\\t\"id\": \"Dendro power\",\\n\\t\\t\\t\\t\\t\"type\": \"energy_source\"\\n\\t\\t\\t\\t},\\n\\t\\t\\t\\t{\\n\\t\\t\\t\\t\\t\"id\": \"4,500 - 4,900 kcal per kg\",\\n\\t\\t\\t\\t\\t\"type\": \"calorific_value\"\\n\\t\\t\\t\\t},\\n\\t\\t\\t\\t{\\n\\t\\t\\t\\t\\t\"id\": \"low region\",\\n\\t\\t\\t\\t\\t\"type\": \"region\"\\n\\t\\t\\t\\t},\\n\\t\\t\\t\\t{\\n\\t\\t\\t\\t\\t\"id\": \"mid region\",\\n\\t\\t\\t\\t\\t\"type\": \"region\"\\n\\t\\t\\t\\t},\\n\\t\\t\\t\\t{\\n\\t\\t\\t\\t\\t\"id\": \"Uva region\",\\n\\t\\t\\t\\t\\t\"type\": \"region\"\\n\\t\\t\\t\\t},\\n\\t\\t\\t\\t{\\n\\t\\t\\t\\t\\t\"id\": \"900 m elevation\",\\n\\t\\t\\t\\t\\t\"type\": \"altitude\"\\n\\t\\t\\t\\t},\\n\\t\\t\\t\\t{\\n\\t\\t\\t\\t\\t\"id\": \"up country regions\",\\n\\t\\t\\t\\t\\t\"type\": \"region\"\\n\\t\\t\\t\\t},\\n\\t\\t\\t\\t{\\n\\t\\t\\t\\t\\t\"id\": \"300 - 1300 m\",\\n\\t\\t\\t\\t\\t\"type\": \"altitude_range\"\\n\\t\\t\\t\\t},\\n\\t\\t\\t\\t{\\n\\t\\t\\t\\t\\t\"id\": \"green manure\",\\n\\t\\t\\t\\t\\t\"type\": \"fertilizer\"\\n\\t\\t\\t\\t},\\n\\t\\t\\t\\t{\\n\\t\\t\\t\\t\\t\"id\": \"mulch\",\\n\\t\\t\\t\\t\\t\"type\": \"soil_covering\"\\n\\t\\t\\t\\t},\\n\\t\\t\\t\\t{\\n\\t\\t\\t\\t\\t\"id\": \"compost\",\\n\\t\\t\\t\\t\\t\"type\": \"fertilizer\"\\n\\t\\t\\t\\t},\\n\\t\\t\\t\\t{\\n\\t\\t\\t\\t\\t\"id\": \"nitrogen fixation\",\\n\\t\\t\\t\\t\\t\"type\": \"biological_process\"\\n\\t\\t\\t\\t},\\n\\t\\t\\t\\t{\\n\\t\\t\\t\\t\\t\"id\": \"soil fertility\",\\n\\t\\t\\t\\t\\t\"type\": \"soil_property\"\\n\\t\\t\\t\\t},\\n\\t\\t\\t\\t{\\n\\t\\t\\t\\t\\t\"id\": \"varying soil and climatic conditions\",\\n\\t\\t\\t\\t\\t\"type\": \"environment\"\\n\\t\\t\\t\\t},\\n\\t\\t\\t\\t{\\n\\t\\t\\t\\t\\t\"id\": \"agronomic inputs\",\\n\\t\\t\\t\\t\\t\"type\": \"agricultural_practice\"\\n\\t\\t\\t\\t},\\n\\t\\t\\t\\t{\\n\\t\\t\\t\\t\\t\"id\": \"labour\",\\n\\t\\t\\t\\t\\t\"type\": \"resource\"\\n\\t\\t\\t\\t},\\n\\t\\t\\t\\t{\\n\\t\\t\\t\\t\\t\"id\": \"lopping\",\\n\\t\\t\\t\\t\\t\"type\": \"pruning_method\"\\n\\t\\t\\t\\t},\\n\\t\\t\\t\\t{\\n\\t\\t\\t\\t\\t\"id\": \"field observations\",\\n\\t\\t\\t\\t\\t\"type\": \"research_method\"\\n\\t\\t\\t\\t},\\n\\t\\t\\t\\t{\\n\\t\\t\\t\\t\\t\"id\": \" TRI\",\\n\\t\\t\\t\\t\\t\"type\": \"organization\"\\n\\t\\t\\t\\t},\\n\\t\\t\\t\\t{\\n\\t\\t\\t\\t\\t\"id\": \"different locations\",\\n\\t\\t\\t\\t\\t\"type\": \"place\"\\n\\t\\t\\t\\t},\\n\\t\\t\\t\\t{\\n\\t\\t\\t\\t\\t\"id\": \"agronomic practices\",\\n\\t\\t\\t\\t\\t\"type\": \"agricultural_technique\"\\n\\t\\t\\t\\t},\\n\\t\\t\\t\\t{\\n\\t\\t\\t\\t\\t\"id\": \"leveling\",\\n\\t\\t\\t\\t\\t\"type\": \"land_preparation\"\\n\\t\\t\\t\\t},\\n\\t\\t\\t\\t{\\n\\t\\t\\t\\t\\t\"id\": \"rows of energy crops\",\\n\\t\\t\\t\\t\\t\"type\": \"planting_arrangement\"\\n\\t\\t\\t\\t},\\n\\t\\t\\t\\t{\\n\\t\\t\\t\\t\\t\"id\": \"soil conservation measures\",\\n\\t\\t\\t\\t\\t\"type\": \"land_management\"\\n\\t\\t\\t\\t},\\n\\t\\t\\t\\t{\\n\\t\\t\\t\\t\\t\"id\": \"drains\",\\n\\t\\t\\t\\t\\t\"type\": \"water_management_feature\"\\n\\t\\t\\t\\t},\\n\\t\\t\\t\\t{\\n\\t\\t\\t\\t\\t\"id\": \"stone terraces\",\\n\\t\\t\\t\\t\\t\"type\": \"water_management_feature\"\\n\\t\\t\\t\\t},\\n\\t\\t\\t\\t{\\n\\t\\t\\t\\t\\t\"id\": \"1 m x 1 m\",\\n\\t\\t\\t\\t\\t\"type\": \"spacing\"\\n\\t\\t\\t\\t}\\n\\t\\t\\t],\\n\\t\\t\\t\"relationships\": [\\n\\t\\t\\t\\t{\\n\\t\\t\\t\\t\\t\"source_node_id\": \"TEA RESEARCH INSTITUTE OF SRI LANKA\",\\n\\t\\t\\t\\t\\t\"source_node_type\": \"organization\",\\n\\t\\t\\t\\t\\t\"target_node_id\": \"GUIDELINES FOR ESTABLISHMENT OF ENERGY PLANTATIONS WITH  GLIRICIDIA SEPIUM AND CALLIANDRA CALO THRYSUS\",\\n\\t\\t\\t\\t\\t\"target_node_type\": \"document\",\\n\\t\\t\\t\\t\\t\"type\": \"published\"\\n\\t\\t\\t\\t},\\n\\t\\t\\t\\t{\\n\\t\\t\\t\\t\\t\"source_node_id\": \"December 2018\",\\n\\t\\t\\t\\t\\t\"source_node_type\": \"date\",\\n\\t\\t\\t\\t\\t\"target_node_id\": \"GUIDELINES FOR ESTABLISHMENT OF ENERGY PLANTATIONS WITH  GLIRICIDIA SEPIUM AND CALLIANDRA CALO THRYSUS\",\\n\\t\\t\\t\\t\\t\"target_node_type\": \"document\",\\n\\t\\t\\t\\t\\t\"type\": \"issued_in\"\\n\\t\\t\\t\\t},\\n\\t\\t\\t\\t{\\n\\t\\t\\t\\t\\t\"source_node_id\": \"04/2018\",\\n\\t\\t\\t\\t\\t\"source_node_type\": \"guideline_number\",\\n\\t\\t\\t\\t\\t\"target_node_id\": \"GUIDELINES FOR ESTABLISHMENT OF ENERGY PLANTATIONS WITH  GLIRICIDIA SEPIUM AND CALLIANDRA CALO THRYSUS\",\\n\\t\\t\\t\\t\\t\"target_node_type\": \"document\",\\n\\t\\t\\t\\t\\t\"type\": \"guideline_number\"\\n\\t\\t\\t\\t},\\n\\t\\t\\t\\t{\\n\\t\\t\\t\\t\\t\"source_node_id\": \"tea processing\",\\n\\t\\t\\t\\t\\t\"source_node_type\": \"process\",\\n\\t\\t\\t\\t\\t\"target_node_id\": \"fuelwood\",\\n\\t\\t\\t\\t\\t\"target_node_type\": \"material\",\\n\\t\\t\\t\\t\\t\"type\": \"requires\"\\n\\t\\t\\t\\t},\\n\\t\\t\\t\\t{\\n\\t\\t\\t\\t\\t\"source_node_id\": \"fuelwood\",\\n\\t\\t\\t\\t\\t\"source_node_type\": \"material\",\\n\\t\\t\\t\\t\\t\"target_node_id\": \"tea processing\",\\n\\t\\t\\t\\t\\t\"target_node_type\": \"process\",\\n\\t\\t\\t\\t\\t\"type\": \"used_in\"\\n\\t\\t\\t\\t},\\n\\t\\t\\t\\t{\\n\\t\\t\\t\\t\\t\"source_node_id\": \"fuelwood\",\\n\\t\\t\\t\\t\\t\"source_node_type\": \"material\",\\n\\t\\t\\t\\t\\t\"target_node_id\": \"plantation workers\",\\n\\t\\t\\t\\t\\t\"target_node_type\": \"group\",\\n\\t\\t\\t\\t\\t\"type\": \"used_for\"\\n\\t\\t\\t\\t},\\n\\t\\t\\t\\t{\\n\\t\\t\\t\\t\\t\"source_node_id\": \"plantation workers\",\\n\\t\\t\\t\\t\\t\"source_node_type\": \"group\",\\n\\t\\t\\t\\t\\t\"target_node_id\": \"fuelwood\",\\n\\t\\t\\t\\t\\t\"target_node_type\": \"material\",\\n\\t\\t\\t\\t\\t\"type\": \"use\"\\n\\t\\t\\t\\t},\\n\\t\\t\\t\\t{\\n\\t\\t\\t\\t\\t\"source_node_id\": \"fuelwood\",\\n\\t\\t\\t\\t\\t\"source_node_type\": \"material\",\\n\\t\\t\\t\\t\\t\"target_node_id\": \"Sri Lanka\",\\n\\t\\t\\t\\t\\t\"target_node_type\": \"location\",\\n\\t\\t\\t\\t\\t\"type\": \"in_demand\"\\n\\t\\t\\t\\t},\\n\\t\\t\\t\\t{\\n\\t\\t\\t\\t\\t\"source_node_id\": \"marginal tea fields\",\\n\\t\\t\\t\\t\\t\"source_node_type\": \"land\",\\n\\t\\t\\t\\t\\t\"target_node_id\": \"fuelwood plantations\",\\n\\t\\t\\t\\t\\t\"target_node_type\": \"land_use\",\\n\\t\\t\\t\\t\\t\"type\": \"converted_to\"\\n\\t\\t\\t\\t},\\n\\t\\t\\t\\t{\\n\\t\\t\\t\\t\\t\"source_node_id\": \"marginal tea fields\",\\n\\t\\t\\t\\t\\t\"source_node_type\": \"land\",\\n\\t\\t\\t\\t\\t\"target_node_id\": \"fuelwood plantations\",\\n\\t\\t\\t\\t\\t\"target_node_type\": \"land_use\",\\n\\t\\t\\t\\t\\t\"type\": \"converted_to\"\\n\\t\\t\\t\\t},\\n\\t\\t\\t\\t{\\n\\t\\t\\t\\t\\t\"source_node_id\": \"low yielding\",\\n\\t\\t\\t\\t\\t\"source_node_type\": \"yield\",\\n\\t\\t\\t\\t\\t\"target_node_id\": \"marginal tea fields\",\\n\\t\\t\\t\\t\\t\"target_node_type\": \"land\",\\n\\t\\t\\t\\t\\t\"type\": \"characteristic\"\\n\\t\\t\\t\\t},\\n\\t\\t\\t\\t{\\n\\t\\t\\t\\t\\t\"source_node_id\": \"land suitability limitations\",\\n\\t\\t\\t\\t\\t\"source_node_type\": \"restriction\",\\n\\t\\t\\t\\t\\t\"target_node_id\": \"marginal tea fields\",\\n\\t\\t\\t\\t\\t\"target_node_type\": \"land\",\\n\\t\\t\\t\\t\\t\"type\": \"characteristic\"\\n\\t\\t\\t\\t},\\n\\t\\t\\t\\t{\\n\\t\\t\\t\\t\\t\"source_node_id\": \"poor soil conditions\",\\n\\t\\t\\t\\t\\t\"source_node_type\": \"soil_condition\",\\n\\t\\t\\t\\t\\t\"target_node_id\": \"land suitability limitations\",\\n\\t\\t\\t\\t\\t\"target_node_type\": \"restriction\",\\n\\t\\t\\t\\t\\t\"type\": \"reason\"\\n\\t\\t\\t\\t},\\n\\t\\t\\t\\t{\\n\\t\\t\\t\\t\\t\"source_node_id\": \"rocky lands\",\\n\\t\\t\\t\\t\\t\"source_node_type\": \"terrain\",\\n\\t\\t\\t\\t\\t\"target_node_id\": \"land suitability limitations\",\\n\\t\\t\\t\\t\\t\"target_node_type\": \"restriction\",\\n\\t\\t\\t\\t\\t\"type\": \"reason\"\\n\\t\\t\\t\\t},\\n\\t\\t\\t\\t{\\n\\t\\t\\t\\t\\t\"source_node_id\": \"excessive slopes\",\\n\\t\\t\\t\\t\\t\"source_node_type\": \"terrain\",\\n\\t\\t\\t\\t\\t\"target_node_id\": \"land suitability limitations\",\\n\\t\\t\\t\\t\\t\"target_node_type\": \"restriction\",\\n\\t\\t\\t\\t\\t\"type\": \"reason\"\\n\\t\\t\\t\\t},\\n\\t\\t\\t\\t{\\n\\t\\t\\t\\t\\t\"source_node_id\": \"scarcity of labour\",\\n\\t\\t\\t\\t\\t\"source_node_type\": \"problem\",\\n\\t\\t\\t\\t\\t\"target_node_id\": \"marginal tea fields\",\\n\\t\\t\\t\\t\\t\"target_node_type\": \"land\",\\n\\t\\t\\t\\t\\t\"type\": \"reason\"\\n\\t\\t\\t\\t},\\n\\t\\t\\t\\t{\\n\\t\\t\\t\\t\\t\"source_node_id\": \"Gliricidia sepium\",\\n\\t\\t\\t\\t\\t\"source_node_type\": \"plant\",\\n\\t\\t\\t\\t\\t\"target_node_id\": \"fuelwood plantations\",\\n\\t\\t\\t\\t\\t\"target_node_type\": \"land_use\",\\n\\t\\t\\t\\t\\t\"type\": \"planted\"\\n\\t\\t\\t\\t},\\n\\t\\t\\t\\t{\\n\\t\\t\\t\\t\\t\"source_node_id\": \"Calliandra calothrysus\",\\n\\t\\t\\t\\t\\t\"source_node_type\": \"plant\",\\n\\t\\t\\t\\t\\t\"target_node_id\": \"fuelwood plantations\",\\n\\t\\t\\t\\t\\t\"target_node_type\": \"land_use\",\\n\\t\\t\\t\\t\\t\"type\": \"planted\"\\n\\t\\t\\t\\t},\\n\\t\\t\\t\\t{\\n\\t\\t\\t\\t\\t\"source_node_\\n\\t\\t\\t\\t\\t\"source_node_id\": \"low region\",\\n\\t\\t\\t\\t\\t\"source_node_type\": \"region\",\\n\\t\\t\\t\\t\\t\"target_node_id\": \"Gliricidia sepium\",\\n\\t\\t\\t\\t\\t\"target_node_type\": \"plant\",\\n\\t\\t\\t\\t\\t\"type\": \"suitable_for\"\\n\\t\\t\\t\\t},\\n\\t\\t\\t\\t{\\n\\t\\t\\t\\t\\t\"source_node_id\": \"mid region\",\\n\\t\\t\\t\\t\\t\"source_node_type\": \"region\",\\n\\t\\t\\t\\t\\t\"target_node_id\": \"Calliandra calothrysus\",\\n\\t\\t\\t\\t\\t\"target_node_type\": \"plant\",\\n\\t\\t\\t\\t\\t\"type\": \"suitable_\\n\\t\\t\\t\\t\\t\"source_node_id\": \"Uva region\",\\n\\t\\t\\t\\t\\t\"source_node_type\": \"region\",\\n\\t\\t\\t\\t\\t\"target_node_id\": \"Gliricidia sepium\",\\n\\t\\t\\t\\t\\t\"target_node_type\": \"plant\",\\n\\t\\t\\t\\t\\t\"type\": \"suitable_for\"\\n\\t\\t\\t\\t},\\n\\t\\t\\t\\t{\\n\\t\\t\\t\\t\\t\"source_node_id\": \"altitude\",\\n\\t\\t\\t\\t\\t\"source_node_type\": \"altitude\"\\n\\t\\t\\t\\t},\\n\\t\\t\\t\\t{\\n\\t\\t\\t\\t\\t\"source_node_id\": \"\\n\\t\\t\\t\\t},\\n\\t\\t\\t\\t{\\n\\t\\t\\t\\t\\t\"source_node_id\": \"\\n\\t\\t\\t\\t},\\n\\t\\t\\t\\t{\\n\\t\\t\\t\\t\\t\"source_node_id\": \"\\n\\t\\t\\t\\t},\\n\\t\\t\\t\\t{\\n\\t\\t\\t\\t\\t\"source_node_id\": \"\\n\\t\\t\\t\\t},\\n\\t\\t\\t\\t{\\n\\t\\t\\t\\t\\t\"source_node_id\": \"\\n\\t\\t\\t\\t},\\n\\t\\t\\t\\t\\n\\t\\t\\t}\\n\\t\\t\\t\"target_node_id\": \"\\n\\t\\t\\t\\n\\t\\t\\t\"target_node_id\": \"\\n\\t\\t\\t\"target_node_id\": \"\\n\\t\\t\\t\"target_node_id\": \"\\n\\t\\t\\t\"target_node_id\": \"\\n\\t\\t\\t\"target_node_id\": \"\\n\\t\\t\\t\"target_node_id\": \"\\n\\t\\t\\t\"target_node_id\": \"\\n\\t\\t\\t\"target_node_id\": \"\\n\\t\\t\\t\"target_node_id\": \"\\n\\t\\t\\t\"target_node_id\": \"\\n\\t\\t\\t\"target_node_id\": \"\\n\\t\\t\\t\"target_node_id\": \"\\n\\t\\t\\t\"target_node_id\": \"\\n\\t\\t\\t\"target_node_id\": \"\\n\\t\\t\\t\"target_node_id\": \"\\n\\t\\t\\t\"target_node_id\": \"\\n\\t\\t\\t\"target_node_id\": \"\\n\\t\\t\\t\"target_node_id\": \"\\n\\t\\t\\t\"target_node_id\": \"\\n\\t\\t\\t\"target_node_\\n\\t\\t\\t\"target_node_id\": \"\\n\\t\\t\\t\"target_node_id\": \"\\n\\t\\t\\t\"target_node_id\": \"\\n\\t\\t\\t\"target_node_id\": \"\\n\\t\\t\\t\"target_node_id\": \"\\n\\t\\t\\t\"target_\\n\\t\\t\\t\"target_node_id\": \"\\n\\t\\t\\t\"target_node_id\": \"\\n\\t\\t\\t\"target_node_id\": \"\\n\\t\\t\\t\"target_node_\\n\\t\\t\\t\"target_node_id\": \"\\n\\t\\t\\t\"target_node_\\n\\t\\t\\t\"target_node_\\n\\t\\t\\t\"target_\\n\\t\\t\\t\"target_node_id\": \"\\n\\t\\t\\t\"target_node_id\": \"\\n\\t\\t\\t\"target_node_\\n\\t\\t\\t\"target_node_id\": \"\\n\\t\\t\\t\"target_\\n\\t\\t\\t\"target_node_\\n\\t\\t\\t\"target_node_id\": \"\\n\\t\\t\\t\"target_node_\\n\\t\\t\\t\"target_\\n\\t\\t\\t\"target_node_id\": \"\\n\\t\\t\\t\"target_node_id\": \"\\n\\t\\t\\t\"target_node_\\n\\t\\t\\t\"target_node_id\": \"\\n\\t\\t\\t\"target_node_id\": \"\\n\\t\\t\\t\"target_node_\\n\\t\\t\\t\"target_\\n\\t\\t\\t\"target_\\n\\t\\t\\t\"target_\\n\\t\\t\\t\"target_node_id\": \"\\n\\t\\t\\t\"target_node_id\": \"\\n\\t\\t\\t\"target_node_id\": \"\\n\\t\\t\\t\"target_node_id\": \"\\n\\t\\t\\t\"target_node_\\n\\t\\t\\t\"target_node_\\n\\t\\t\\t\"target_node_id\": \"\\n\\t\\t\\t\"target_\\n\\t\\t\\t\"target_node_id\": \"\\n\\t\\t\\t\"target_\\n\\t\\t\\t\"target_node_id\": \"\\n\\t\\t\\t\"target_node_id\": \"\\n\\t\\t\\t\"target_\\n\\t\\t\\t\"target_node_id\": \"\\n\\t\\t\\t\"target_node_id\": \"\\n\\t\\t\\t\"target_\\n\\t\\t\\t\"target_node_\\n\\t\\t\\t\"target_\\n\\t\\t\\t\"target_node_\\n\\t\\t\\t\"target_node_id\": \"\\n\\t\\t\\t\"target_node_id\": \"\\n\\t\\t\\t\"target_\\n\\t\\t\\t\"target_\\n\\t\\t\\t\"target_node_id\": \"\\n\\t\\t\\t\"target_\\n\\t\\t\\t\"target_node_id\": \"\\n\\t\\t\\t\"target_node_id\": \"\\n\\t\\t\\t\"target_node\\n\\t\\t\\t\"target_node_id\": \"\\n\\t\\t\\t\"target_node_id\": \"\\n\\t\\t\\t\"target_\\n\\t\\t\\t\"target_node_id\": \"\\n\\t\\t\\t\"target_\\n\\t\\t\\t\"target_\\n\\t\\t\\t\"target_node_id\": \"\\n\\t\\t\\t\"target_node_id\": \"\\n\\t\\t\\t\"target_\\n\\t\\t\\t\"target_\\n\\t\\t\\t\"target_\\n\\t\\t\\t\"target_node_id\": \"\\n\\t\\t\\t\"target_\\n\\t\\t\\t\"target_\\n\\t\\t\\t\"target_node_id\": \"\\n\\t\\t\\t\"target_\\n\\t\\t\\t\"target_node_id\": \"\\n\\t\\t\\t\"target_\\n\\t\\t\\t\"target_node_\\n\\t\\t\\t\"target_node_id\": \"\\n\\t\\t\\t\"target_\\n\\t\\t\\t\"target_node_id\": \"\\n\\t\\t\\t\"target_node_id\": \"\\n\\t\\t\\t\"target_\\n\\t\\t\\t\"target_\\n\\t\\t\\t\"target_\\n\\t\\t\\t\"target_node_id\": \"\\n\\t\\t\\t\"target_\\n\\t\\t\\t\"target_\\n\\t\\t\\t\"target_node_id\": \"\\n\\t\\t\\t\"target_node_id\": \"\\n\\t\\t\\t\"target_node_id\": \"\\n\\t\\t\\t\"target_\\n\\t\\t\\t\"target_\\n\\t\\t\\t\"target_\\n\\t\\t\\t\"target_\\n\\t\\t\\t\"target_node_\\n\\t\\t\\t\"target_\\n\\t\\t\\t\"target_\\n\\t\\t\\t\"target_\\n\\t\\t\\t\"target_\\n\\t\\t\\t\"target_node_id\": \"\\n\\t\\t\\t\"target_\\n\\t\\t\\t\"target_node_\\n\\t\\t\\t\"target_\\n\\t\\t\\t\"target_\\n\\t\\t\\t\"target_node_id\": \"\\n\\t\\t\\t\"target_\\n\\t\\t\\t\"target_node_id\": \"\\n\\t\\t\\t\"target_\\n\\t\\t\\t\"target_\\n\\t\\t\\t\"target_\\n\\t\\t\\t\"target_\\n\\t\\t\\t\"target_\\n\\t\\t\\t\"target_\\n\\t\\t\\t\"target_\\n\\t\\t\\t\"target_node_\\n\\t\\t\\t\"target_\\n\\t\\t\\t\"target_\\n\\t\\t\\t\"target_\\n\\t\\t\\t\"target_\\n\\t\\t\\t\"target_\\n\\t\\t\\t\"target_\\n\\t\\t\\t\"target_\\n\\t\\t\\t\"target_\\n\\t\\t\\t\"target_\\n\\t\\t\\t\"target_\\n\\t\\t\\t\"target_\\n\\t\\t\\t\"target_\\n\\t\\t\\t\"target_\\n\\t\\t\\t\"target_\\n\\t\\t\\t\"target_\\n\\t\\t\\t\"target_\\n\\t\\t\\t\"target_\\n\\t\\t\\t\"target_\\n\\t\\t\\t\"target_node_id\": \"\\n\\t\\t\\t\"target_\\n\\t\\t\\t\"target_\\n\\t\\t\\t\"target_\\n\\t\\t\\t\"target_\\n\\t\\t\\t\"target_\\n\\t\\t\\t\"target_\\n\\t\\t\\t\"target_\\n\\t\\t\\t\"target_\\n\\t\\t\\t\"target_\\n\\t\\t\\t\"target_\\n\\t\\t\\t\"target_\\n\\t\\t\\t\"target_\\n\\t\\t\\t\"target_\\n\\t\\t\\t\"target_\\n\\t\\t\\t\"target_\\n\\t\\t\\t\"target_\\n\\t\\t\\t\"target_\\n\\t\\t\\t\"target_\\n\\t\\t\\t\"target_\\n\\t\\t\\t\"target_\\n\\t\\t\\t\"target_\\n\\t\\t\\t\"target_\\n\\t\\t\\t\"target_\\n\\t\\t\\t\"target_\\n\\t\\t\\t\"target_\\n\\t\\t\\t\"target_\\n\\t\\t\\t\"target_\\n\\t\\t\\t\"target_\\n\\t\\t\\t\"target_\\n\\t\\t\\t\"target_\\n\\t\\t\\t\"target_\\n\\t\\t\\t\"target_\\n\\t\\t\\t\"target_\\n\\t\\t\\t\"target_\\n\\t\\t\\t\"target_\\n\\t\\t\\t\"target_\\n\\t\\t\\t\"target_\\n\\t\\t\\t\"target_\\n\\t\\t\\t\"target_\\n\\t\\t\\t\"target_\\n\\t\\t\\t\"target_\\n\\t\\t\\t\"target_\\n\\t\\t\\t\"target_\\n\\t\\t\\t\"target_\\n\\t\\t\\t\"target_\\n\\t\\t\\t\"target_\\n\\t\\t\\t\"target_\\n\\t\\t\\t\"target_\\n\\t\\t\\t\"target_\\n\\t\\t\\t\"target_\\n\\t\\t\\t\"target_\\n\\t\\t\\t\"target_\\n\\t\\t\\t\"target_\\n\\t\\t\\t\"target_\\n\\t\\t\\t\"target_\\n\\t\\t\\t\"target_\\n\\t\\t\\t\"target_\\n\\t\\t\\t\"target_\\n\\t\\t\\t\"target_\\n\\t\\t\\t\"target_\\n\\t\\t\\t\"target_\\n\\t\\t\\t\"target_\\n\\t\\t\\t\"target_\\n\\t\\t\\t\"target_\\n\\t\\t\\t\"target_\\n\\t\\t\\t\"target_\\n\\t\\t\\t\"target_\\n\\t\\t\\t\"target_\\n\\t\\t\\t\"target_\\n\\t\\t\\t\"target_\\n\\t\\t\\t\"target_\\n\\t\\t\\t\"target_\\n\\t\\t\\t\"target_\\n\\t\\t\\t\"target_\\n\\t\\t\\t\"target_\\n\\t\\t\\t\"target_\\n\\t\\t\\t\"target_\\n\\t\\t\\t\"target_\\n\\t\\t\\t\"target_\\n\\t\\t\\t\"target_\\n\\t\\t\\t\"target_\\n\\t\\t\\t\"target_\\n\\t\\t\\t\"target_\\n\\t\\t\\t\"target_\\n\\t\\t\\t\"target_\\n\\t\\t\\t\"target_\\n\\t\\t\\t\"target_\\n\\t\\t\\t\"target_\\n\\t\\t\\t\"target_\\n\\t\\t\\t\"target_\\n\\t\\t\\t\"target_\\n\\t\\t\\t\"target_\\n\\t\\t\\t\"target_\\n\\t\\t\\t\"target_\\n\\t\\t\\t\"target_\\n\\t\\t\\t\"target_\\n\\t\\t\\t\"target_\\n\\t\\t\\t\"target_\\n\\t\\t\\t\"target_\\n\\t\\t\\t\"target_\\n\\t\\t\\t\"target_\\n\\t\\t\\t\"target_\\n\\t\\t\\t\"target_\\n\\t\\t\\t\"target_\\n\\t\\t\\t\"target_\\n\\t\\t\\t\"target_\\n\\t\\t\\t\"target_\\n\\t\\t\\t\"target_\\n\\t\\t\\t\"target_\\n\\t\\t\\t\"target_\\n\\t\\t\\t\"target_\\n\\t\\t\\t\"target_\\n\\t\\t\\t\"target_\\n\\t\\t\\t\"target_\\n\\t\\t\\t\"target_\\n\\t\\t\\t\"target_\\n\\t\\t\\t\"target_\\n\\t\\t\\t\"target_\\n\\t\\t\\t\"target_\\n\\t\\t\\t\"target_\\n\\t\\t\\t\"target_\\n\\t\\t\\t\"target_\\n\\t\\t\\t\"target_\\n\\t\\t\\t\"target_\\n\\t\\t\\t\"target_\\n\\t\\t\\t\"target\\n\\t\\t\\t\"target_\\n\\t\\t\\t\"target_\\n\\t\\t\\t\"target_\\n\\t\\t\\t\"target_\\n\\t\\t\\t\"target_\\n\\t\\t\\t\"target_\\n\\t\\t\\t\"target_\\n\\t\\t\\t\"target_\\n\\t\\t\\t\"target_\\n\\t\\t\\t\"target_\\n\\t\\t\\t\"target_\\n\\t\\t\\t\"target_\\n\\t\\t\\t\"target_\\n\\t\\t\\t\"target_\\n\\t\\t\\t\"target_\\n\\t\\t\\t\"target_\\n\\t\\t\\t\"target_\\n\\t\\t\\t\"target_\\n\\t\\t\\t\"target_\\n\\t\\t\\t\"target_\\n\\t\\t\\t\"target_\\n\\t\\t\\t\"target_\\n\\t\\t\\t\"target_\\n\\t\\t\\t\"target_\\n\\t\\t\\t\"target_\\n\\t\\t\\t\"target_\\n\\t\\t\\t\"target_\\n\\t\\t\\t\"target_\\n\\t\\t\\t\"target_\\n\\t\\t\\t\"target_\\n\\t\\t\\t\"target_\\n\\t\\t\\t\"target_\\n\\t\\t\\t\"target_\\n\\t\\t\\t\"target_\\n\\t\\t\\t\"target\\n\\t\\t\\t\"target_\\n\\t\\t\\t\"target_\\n\\t\\t\\t\"target_\\n\\t\\t\\t\"target_\\n\\t\\t\\t\"target_\\n\\t\\t\\t\"target_\\n\\t\\t\\t\"target_\\n\\t\\t\\t\"target_\\n\\t\\t\\t\"target_\\n\\t\\t\\t\"target_\\n\\t\\t\\t\"target_\\n\\t\\t\\t\"target_\\n\\t\\t\\t\"target_\\n\\t\\t\\t\"target_\\n\\t\\t\\t\"target_\\n\\t\\t\\t\"target_\\n\\t\\t\\t\"target_\\n\\t\\t\\t\"target_\\n\\t\\t\\t\"target_\\n\\t\\t\\t\"target_\\n\\t\\t\\t\"target_\\n\\t\\t\\t\"target_\\n\\t\\t\\t\"target_\\n\\t\\t\\t\"target_\\n\\t\\t\\t\"target_\\n\\t\\t\\t\"target_\\n\\t\\t\\t\"target_\\n\\t\\t\\t\"target_\\n\\t\\t\\t\"target_\\n\\t\\t\\t\"target_\\n\\t\\t\\t\"target_\\n\\t\\t\\t\"target_\\n\\t\\t\\t\"target_\\n\\t\\t\\t\"target_\\n\\t\\t\\t\"target_\\n\\t\\t\\t\"target_\\n\\t\\t\\t\"target_\\n\\t\\t\\t\"target_\\n\\t\\t\\t\"target_\\n\\t\\t\\t\"target_\\n\\t\\t\\t\"target_\\n\\t\\t\\t\"target_\\n\\t\\t\\t\"target_\\n\\t\\t\\t\"target_\\n\\t\\t\\t\"target_\\n\\t\\t\\t\"target_\\n\\t\\t\\t\"target_\\n\\t\\t\\t\"target_\\n\\t\\t\\t\"target_\\n\\t\\t\\t\"target_\\n\\t\\t\\t\"target_\\n\\t\\t\\t\"target_\\n\\t\\t\\t\"target\\n\\t\\t\\t\"target_\\n\\t\\t\\t\"target_\\n\\t\\t\\t\"target_\\n\\t\\t\\t\"target_\\n\\t\\t\\t\"target_\\n\\t\\t\\t\"target_\\n\\t\\t\\t\"target_\\n\\t\\t\\t\"target_\\n\\t\\t\\t\"target_\\n\\t\\t\\t\"target_\\n\\t\\t\\t\"target_\\n\\t\\t\\t\"target_\\n\\t\\t\\t\"target_\\n\\t\\t\\t\"target_\\n\\t\\t\\t\"target_\\n\\t\\t\\t\"target_\\n\\t\\t\\t\"target_\\n\\t\\t\\t\"target_\\n\\t\\t\\t\"target_\\n\\t\\t\\t\"target_\\n\\t\\t\\t\"target_\\n\\t\\t\\t\"target_\\n\\t\\t\\t\"target_\\n\\t\\t\\t\"target_\\n\\t\\t\\t\"target_\\n\\t\\t\\t\"target_\\n\\t\\t\\t\"target_\\n\\t\\t\\t\"target_\\n\\t\\t\\t\"target_\\n\\t\\t\\t\"target_\\n\\t\\t\\t\"target_\\n\\t\\t\\t\"target_\\n\\t\\t\\t\"target_\\n\\t\\t\\t\"target_\\n\\t\\t\\t\"target_\\n\\t\\t\\t\"target_\\n\\t\\t\\t\"target_\\n\\t\\t\\t\"target_\\n\\t\\t\\t\"target_\\n\\t\\t\\t\"target_\\n\\t\\t\\t\"target_\\n\\t\\t\\t\"target_\\n\\t\\t\\t\"target_\\n\\t\\t\\t\"target_\\n\\t\\t\\t\"target_\\n\\t\\t\\t\"target_\\n\\t\\t\\t\"target_\\n\\t\\t\\t\"target_\\n\\t\\t\\t\"target_\\n\\t\\t\\t\"target_\\n\\t\\t\\t\"target_\\n\\t\\t\\t\"target_\\n\\t\\t\\t\"target_\\n\\t\\t\\t\"target_\\n\\t\\t\\t\"target_\\n\\t\\t\\t\"target_\\n\\t\\t\\t\"target_\\n\\t\\t\\t\"target_\\n\\t\\t\\t\"target_\\n\\t\\t\\t\"target_\\n\\t\\t\\t\"target\\n\\t\\t\\t\"target_\\n\\t\\t\\t\"target_\\n\\t\\t\\t\"target_\\n\\t\\t\\t\"target_\\n\\t\\t\\t\"target_\\n\\t\\t\\t\"target_\\n\\t\\t\\t\"target_\\n\\t\\t\\t\"target_\\n\\t\\t\\t\"target_\\n\\t\\t\\t\"target_\\n\\t\\t\\t\"target_\\n\\t\\t\\t\"target_\\n\\t\\t\\t\"target_\\n\\t\\t\\t\"target_\\n\\t\\t\\t\"target_\\n\\t\\t\\t\"target_\\n\\t\\t\\t\"target_\\n\\t\\t\\t\"target_\\n\\t\\t\\t'}}\n",
            "Error processing chunk: Error code: 400 - {'error': {'message': \"Failed to call a function. Please adjust your prompt. See 'failed_generation' for more details.\", 'type': 'invalid_request_error', 'code': 'tool_use_failed', 'failed_generation': '<tool-use>\\n{\\n\\t\"tool_call\": {\\n\\t\\t\"id\": \"pending\",\\n\\t\\t\"type\": \"function\",\\n\\t\\t\"function\": {\\n\\t\\t\\t\"name\": \"DynamicGraph\"\\n\\t\\t},\\n\\t\\t\"parameters\": {\\n\\t\\t\\t\"nodes\": [\\n\\t\\t\\t\\t{\\n\\t\\t\\t\\t\\t\"id\": \"holders\",\\n\\t\\t\\t\\t\\t\"type\": \"person\"\\n\\t\\t\\t\\t},\\n\\t\\t\\t\\t{\\n\\t\\t\\t\\t\\t\"id\": \"entrepreneurs\",\\n\\t\\t\\t\\t\\t\"type\": \"person\"\\n\\t\\t\\t\\t},\\n\\t\\t\\t\\t{\\n\\t\\t\\t\\t\\t\"id\": \"fuelwood\",\\n\\t\\t\\t\\t\\t\"type\": \"resource\"\\n\\t\\t\\t\\t},\\n\\t\\t\\t\\t{\\n\\t\\t\\t\\t\\t\"id\": \"energy plantations\",\\n\\t\\t\\t\\t\\t\"type\": \"organization\"\\n\\t\\t\\t\\t},\\n\\t\\t\\t\\t{\\n\\t\\t\\t\\t\\t\"id\": \"marginal lands\",\\n\\t\\t\\t\\t\\t\"type\": \"location\"\\n\\t\\t\\t\\t},\\n\\t\\t\\t\\t{\\n\\t\\t\\t\\t\\t\"id\": \"unproductive lands\",\\n\\t\\t\\t\\t\\t\"type\": \"location\"\\n\\t\\t\\t\\t},\\n\\t\\t\\t\\t{\\n\\t\\t\\t\\t\\t\"id\": \"economic use\",\\n\\t\\t\\t\\t\\t\"type\": \"purpose\"\\n\\t\\t\\t\\t},\\n\\t\\t\\t\\t{\\n\\t\\t\\t\\t\\t\"id\": \"assured fuelwood supply\",\\n\\t\\t\\t\\t\\t\"type\": \"concept\"\\n\\t\\t\\t\\t},\\n\\t\\t\\t\\t{\\n\\t\\t\\t\\t\\t\"id\": \"environment\",\\n\\t\\t\\t\\t\\t\"type\": \"concept\"\\n\\t\\t\\t\\t},\\n\\t\\t\\t\\t{\\n\\t\\t\\t\\t\\t\"id\": \"biodiversity\",\\n\\t\\t\\t\\t\\t\"type\": \"concept\"\\n\\t\\t\\t\\t},\\n\\t\\t\\t\\t{\\n\\t\\t\\t\\t\\t\"id\": \"Tea Research Institute of Sri Lanka\",\\n\\t\\t\\t\\t\\t\"type\": \"organization\"\\n\\t\\t\\t\\t},\\n\\t\\t\\t\\t{\\n\\t\\t\\t\\t\\t\"id\": \"Talawakelle\",\\n\\t\\t\\t\\t\\t\"type\": \"location\"\\n\\t\\t\\t\\t},\\n\\t\\t\\t\\t{\\n\\t\\t\\t\\t\\t\"id\": \"Copyright\",\\n\\t\\t\\t\\t\\t\"type\": \"concept\"\\n\\t\\t\\t\\t},\\n\\t\\t\\t\\t{\\n\\t\\t\\t\\t\\t\"id\": \"Director\",\\n\\t\\t\\t\\t\\t\"type\": \"person\"\\n\\t\\t\\t\\t},\\n\\t\\t\\t\\t{\\n\\t\\t\\t\\t\\t\"id\": \"December 2018\",\\n\\t\\t\\t\\t\\t\"type\": \"date\"\\n\\t\\t\\t\\t},\\n\\t\\t\\t\\t{\\n\\t\\t\\t\\t\\t\"id\": \"Guideline No: 05/2018\",\\n\\t\\t\\t\\t\\t\"type\": \"identifier\"\\n\\t\\t\\t\\t},\\n\\t\\t\\t\\t{\\n\\t\\t\\t\\t\\t\"id\": \"GUIDELINE ON IRRIGATION OF TEA FIELDS\",\\n\\t\\t\\t\\t\\t\"type\": \"document\"\\n\\t\\t\\t\\t},\\n\\t\\t\\t\\t{\\n\\t\\t\\t\\t\\t\"id\": \"Introduction\",\\n\\t\\t\\t\\t\\t\"type\": \"section\"\\n\\t\\t\\t\\t},\\n\\t\\t\\t\\t{\\n\\t\\t\\t\\t\\t\"id\": \"Tea\",\\n\\t\\t\\t\\t\\t\"type\": \"plant\"\\n\\t\\t\\t\\t},\\n\\t\\t\\t\\t{\\n\\t\\t\\t\\t\\t\"id\": \"rain-fed plantation crop\",\\n\\t\\t\\t\\t\\t\"type\": \"cultivation method\"\\n\\t\\t\\t\\t},\\n\\t\\t\\t\\t{\\n\\t\\t\\t\\t\\t\"id\": \"water bodies\",\\n\\t\\t\\t\\t\\t\"type\": \"resource\"\\n\\t\\t\\t\\t},\\n\\t\\t\\t\\t{\\n\\t\\t\\t\\t\\t\"id\": \"geographical limitations\",\\n\\t\\t\\t\\t\\t\"type\": \"restriction\"\\n\\t\\t\\t\\t},\\n\\t\\t\\t\\t{\\n\\t\\t\\t\\t\\t\"id\": \"conventional irrigation techniques\",\\n\\t\\t\\t\\t\\t\"type\": \"method\"\\n\\t\\t\\t\\t},\\n\\t\\t\\t\\t{\\n\\t\\t\\t\\t\\t\"id\": \"flood irrigation\",\\n\\t\\t\\t\\t\\t\"type\": \"irrigation method\"\\n\\t\\t\\t\\t},\\n\\t\\t\\t\\t{\\n\\t\\t\\t\\t\\t\"id\": \"furrow irrigation\",\\n\\t\\t\\t\\t\\t\"type\": \"irrigation method\"\\n\\t\\t\\t\\t},\\n\\t\\t\\t\\t{\\n\\t\\t\\t\\t\\t\"id\": \"micro irrigation techniques\",\\n\\t\\t\\t\\t\\t\"type\": \"method\"\\n\\t\\t\\t\\t},\\n\\t\\t\\t\\t{\\n\\t\\t\\t\\t\\t\"id\": \"drip irrigation\",\\n\\t\\t\\t\\t\\t\"type\": \"irrigation method\"\\n\\t\\t\\t\\t},\\n\\t\\t\\t\\t{\\n\\t\\t\\t\\t\\t\"id\": \"sprinkler irrigation\",\\n\\t\\t\\t\\t\\t\"type\": \"irrigation method\"\\n\\t\\t\\t\\t},\\n\\t\\t\\t\\t{\\n\\t\\t\\t\\t\\t\"id\": \"drought occurrences\",\\n\\t\\t\\t\\t\\t\"type\": \"event\"\\n\\t\\t\\t\\t},\\n\\t\\t\\t\\t{\\n\\t\\t\\t\\t\\t\"id\": \"productivity improvements\",\\n\\t\\t\\t\\t\\t\"type\": \"concept\"\\n\\t\\t\\t\\t},\\n\\t\\t\\t\\t{\\n\\t\\t\\t\\t\\t\"id\": \"high impact droughts\",\\n\\t\\t\\t\\t\\t\"type\": \"event\"\\n\\t\\t\\t\\t},\\n\\t\\t\\t\\t{\\n\\t\\t\\t\\t\\t\"id\": \"climate change\",\\n\\t\\t\\t\\t\\t\"type\": \"phenomenon\"\\n\\t\\t\\t\\t},\\n\\t\\t\\t\\t{\\n\\t\\t\\t\\t\\t\"id\": \"replanting rates\",\\n\\t\\t\\t\\t\\t\"type\": \"statistic\"\\n\\t\\t\\t\\t},\\n\\t\\t\\t\\t{\\n\\t\\t\\t\\t\\t\"id\": \"suitable irrigation techniques\",\\n\\t\\t\\t\\t\\t\"type\": \"method\"\\n\\t\\t\\t\\t},\\n\\t\\t\\t\\t{\\n\\t\\t\\t\\t\\t\"id\": \"irrigation technique adoption\",\\n\\t\\t\\t\\t\\t\"type\": \"action\"\\n\\t\\t\\t\\t},\\n\\t\\t\\t\\t{\\n\\t\\t\\t\\t\\t\"id\": \"in-situ water bodies\",\\n\\t\\t\\t\\t\\t\"type\": \"resource\"\\n\\t\\t\\t\\t},\\n\\t\\t\\t\\t{\\n\\t\\t\\t\\t\\t\"id\": \"soil moisture levels\",\\n\\t\\t\\t\\t\\t\"type\": \"condition\"\\n\\t\\t\\t\\t},\\n\\t\\t\\t\\t{\\n\\t\\t\\t\\t\\t\"id\": \"sustainable crop production\",\\n\\t\\t\\t\\t\\t\"type\": \"goal\"\\n\\t\\t\\t\\t},\\n\\t\\t\\t\\t{\\n\\t\\t\\t\\t\\t\"id\": \"drought mitigation strategy\",\\n\\t\\t\\t\\t\\t\"type\": \"concept\"\\n\\t\\t\\t\\t},\\n\\t\\t\\t\\t{\\n\\t\\t\\t\\t\\t\"id\": \"Advisory Circular No. PA 2\",\\n\\t\\t\\t\\t\\t\"type\": \"document\"\\n\\t\\t\\t\\t},\\n\\t\\t\\t\\t{\\n\\t\\t\\t\\t\\t\"id\": \"Drought Mitigation in Tea Plantations\",\\n\\t\\t\\t\\t\\t\"type\": \"document title\"\\n\\t\\t\\t\\t},\\n\\t\\t\\t\\t{\\n\\t\\t\\t\\t\\t\"id\": \"January 2011\",\\n\\t\\t\\t\\t\\t\"type\": \"date\"\\n\\t\\t\\t\\t}\\n\\t\\t\\t],\\n\\t\\t\\t\"relationships\": [\\n\\t\\t\\t\\t{\\n\\t\\t\\t\\t\\t\"source_node_id\": \"holders\",\\n\\t\\t\\t\\t\\t\"source_node_type\": \"person\",\\n\\t\\t\\t\\t\\t\"target_node_id\": \"energy plantations\",\\n\\t\\t\\t\\t\\t\"target_node_type\": \"organization\",\\n\\t\\t\\t\\t\\t\"type\": \"establish\"\\n\\t\\t\\t\\t},\\n\\t\\t\\t\\t{\\n\\t\\t\\t\\t\\t\"source_node_id\": \"entrepreneurs\",\\n\\t\\t\\t\\t\\t\"source_node_type\": \"person\",\\n\\t\\t\\t\\t\\t\"target_node_id\": \"energy plantations\",\\n\\t\\t\\t\\t\\t\"target_node_type\": \"organization\",\\n\\t\\t\\t\\t\\t\"type\": \"establish\"\\n\\t\\t\\t\\t},\\n\\t\\t\\t\\t{\\n\\t\\t\\t\\t\\t\"source_node_id\": \"energy plantations\",\\n\\t\\t\\t\\t\\t\"source_node_type\": \"organization\",\\n\\t\\t\\t\\t\\t\"target_node_id\": \"marginal lands\",\\n\\t\\t\\t\\t\\t\"target_node_type\": \"location\",\\n\\t\\t\\t\\t\\t\"type\": \"convert\"\\n\\t\\t\\t\\t},\\n\\t\\t\\t\\t{\\n\\t\\t\\t\\t\\t\"source_node_id\": \"energy plantations\",\\n\\t\\t\\t\\t\\t\"source_node_type\": \"organization\",\\n\\t\\t\\t\\t\\t\"target_node_id\": \"unproductive lands\",\\n\\t\\t\\t\\t\\t\"target_node_type\": \"location\",\\n\\t\\t\\t\\t\\t\"type\": \"convert\"\\n\\t\\t\\t\\t},\\n\\t\\t\\t\\t{\\n\\t\\t\\t\\t\\t\"source_node_id\": \"energy plantations\",\\n\\t\\t\\t\\t\\t\"source_node_type\": \"organization\",\\n\\t\\t\\t\\t\\t\"target_node_id\": \"economic use\",\\n\\t\\t\\t\\t\\t\"target_node_type\": \"purpose\",\\n\\t\\t\\t\\t\\t\"type\": \"transform\"\\n\\t\\t\\t\\t},\\n\\t\\t\\t\\t{\\n\\t\\t\\t\\t\\t\"source_node_id\": \"energy plantations\",\\n\\t\\t\\t\\t\\t\"source_node_type\": \"organization\",\\n\\t\\t\\t\\t\\t\"target_node_id\": \"assured fuelwood supply\",\\n\\t\\t\\t\\t\\t\"target_node_type\": \"concept\",\\n\\t\\t\\t\\t\\t\"type\": \"provide\"\\n\\t\\t\\t\\t},\\n\\t\\t\\t\\t{\\n\\t\\t\\t\\t\\t\"source_node_id\": \"energy plantations\",\\n\\t\\t\\t\\t\\t\"source_node_type\": \"organization\",\\n\\t\\t\\t\\t\\t\"target_node_id\": \"environment\",\\n\\t\\t\\t\\t\\t\"target_node_type\": \"concept\",\\n\\t\\t\\t\\t\\t\"type\": \"protect\"\\n\\t\\t\\t\\t},\\n\\t\\t\\t\\t{\\n\\t\\t\\t\\t\\t\"source_node_id\": \"energy plantations\",\\n\\t\\t\\t\\t\\t\"source_node_type\": \"organization\",\\n\\t\\t\\t\\t\\t\"target_node_id\": \"biodiversity\",\\n\\t\\t\\t\\t\\t\"target_node_type\": \"concept\",\\n\\t\\t\\t\\t\\t\"type\": \"preserve\"\\n\\t\\t\\t\\t},\\n\\t\\t\\t\\t{\\n\\t\\t\\t\\t\\t\"source_node_id\": \"Tea Research Institute of Sri Lanka\",\\n\\t\\t\\t\\t\\t\"source_node_type\": \"organization\",\\n\\t\\t\\t\\t\\t\"target_node_id\": \"Talawakelle\",\\n\\t\\t\\t\\t\\t\"target_node_type\": \"location\",\\n\\t\\t\\t\\t\\t\"type\": \"located_in\"\\n\\t\\t\\t\\t},\\n\\t\\t\\t\\t{\\n\\t\\t\\t\\t\\t\"source_node_id\": \"Tea Research Institute of Sri Lanka\",\\n\\t\\t\\t\\t\\t\"source_node_type\": \"organization\",\\n\\t\\t\\t\\t\\t\"target_node_id\": \"GUIDELINE ON IRRIGATION OF TEA FIELDS\",\\n\\t\\t\\t\\t\\t\"target_node_type\": \"document\",\\n\\t\\t\\t\\t\\t\"type\": \"publish\"\\n\\t\\t\\t\\t},\\n\\t\\t\\t\\t{\\n\\t\\t\\t\\t\\t\"source_node_id\": \"Director\",\\n\\t\\t\\t\\t\\t\"source_node_type\": \"person\",\\n\\t\\t\\t\\t\\t\"target_node_id\": \"Copyright\",\\n\\t\\t\\t\\t\\t\"target_node_type\": \"concept\",\\n\\t\\t\\t\\t\\t\"type\": \"holder\"\\n\\t\\t\\t\\t},\\n\\t\\t\\t\\t{\\n\\t\\t\\t\\t\\t\"source_node_id\": \"Tea Research Institute of Sri Lanka\",\\n\\t\\t\\t\\t\\t\"source_node_type\": \"organization\",\\n\\t\\t\\t\\t\\t\"target_node_id\": \"December 2018\",\\n\\t\\t\\t\\t\\t\"target_node_type\": \"date\",\\n\\t\\t\\t\\t\\t\"type\": \"issued\"\\n\\t\\t\\t\\t},\\n\\t\\t\\t\\t{\\n\\t\\t\\t\\t\\t\"source_node_id\": \"Tea Research Institute of Sri Lanka\",\\n\\t\\t\\t\\t\\t\"source_node_type\": \"organization\",\\n\\t\\t\\t\\t\\t\"target_node_id\": \"Guideline No: 05/2018\",\\n\\t\\t\\t\\t\\t\"target_node_type\": \"identifier\",\\n\\t\\t\\t\\t\\t\"type\": \"identifier\"\\n\\t\\t\\t\\t},\\n\\t\\t\\t\\t{\\n\\t\\t\\t\\t\\t\"source_node_id\": \"Tea\",\\n\\t\\t\\t\\t\\t\"source_node_type\": \"plant\",\\n\\t\\t\\t\\t\\t\"target_node_id\": \"rain-fed plantation crop\",\\n\\t\\t\\t\\t\\t\"target_node_type\": \"cultivation method\",\\n\\t\\t\\t\\t\\t\"type\": \"cultivated_as\"\\n\\t\\t\\t\\t},\\n\\t\\t\\t\\t{\\n\\t\\t\\t\\t\\t\"source_node_id\": \"Tea\",\\n\\t\\t\\t\\t\\t\"source_node_type\": \"plant\",\\n\\t\\t\\t\\t\\t\"target_node_id\": \"Introduction\",\\n\\t\\t\\t\\t\\t\"target_node_type\": \"section\",\\n\\t\\t\\t\\t\\t\"type\": \"described_in\"\\n\\t\\t\\t\\t},\\n\\t\\t\\t\\t{\\n\\t\\t\\t\\t\\t\"source_node_id\": \"water bodies\",\\n\\t\\t\\t\\t\\t\"source_node_type\": \"resource\",\\n\\t\\t\\t\\t\\t\"target_node_id\": \"Tea\",\\n\\t\\t\\t\\t\\t\"target_node_type\": \"plant\",\\n\\t\\t\\t\\t\\t\"type\": \"lack_of\"\\n\\t\\t\\t\\t},\\n\\t\\t\\t\\t{\\n\\t\\t\\t\\t\\t\"source_node_id\": \"geographical limitations\",\\n\\t\\t\\t\\t\\t\"source_node_type\": \"restriction\",\\n\\t\\t\\t\\t\\t\"target_node_id\": \"Tea\",\\n\\t\\t\\t\\t\\t\"target_node_type\": \"plant\",\\n\\t\\t\\t\\t\\t\"type\": \"hinder\"\\n\\t\\t\\t\\t},\\n\\t\\t\\t\\t{\\n\\t\\t\\t\\t\\t\"source_node_id\": \"conventional irrigation techniques\",\\n\\t\\t\\t\\t\\t\"source_node_type\": \"method\",\\n\\t\\t\\t\\t\\t\"target_node_id\": \"flood irrigation\",\\n\\t\\t\\t\\t\\t\"target_node_type\": \"irrigation method\",\\n\\t\\t\\t\\t\\t\"type\": \"example_of\"\\n\\t\\t\\t\\t},\\n\\t\\t\\t\\t{\\n\\t\\t\\t\\t\\t\"source_node_id\": \"conventional irrigation techniques\",\\n\\t\\t\\t\\t\\t\"source_node_type\": \"method\",\\n\\t\\t\\t\\t\\t\"target_node_id\": \"furrow irrigation\",\\n\\t\\t\\t\\t\\t\"target_node_type\": \"irrigation method\",\\n\\t\\t\\t\\t\\t\"type\": \"example_of\"\\n\\t\\t\\t\\t},\\n\\t\\t\\t\\t{\\n\\t\\t\\t\\t\\t\"source_node_\\n\\t\\t\\t\\t\\t\"source_node_id\": \"micro irrigation techniques\",\\n\\t\\t\\t\\t\\t\"source_node_type\": \"method\",\\n\\t\\t\\t\\t\\t\"target_node_id\": \"drip irrigation\",\\n\\t\\t\\t\\t\\t\"target_node_type\": \"irrigation method\",\\n\\t\\t\\t\\t\\t\"type\": \"example_node_id\": \"drip irrigation\",\\n\\t\\t\\t\\t\\t\"target_node_type\": \"irrigation method\",\\n\\t\\t\\t\\t\\t\"type\": \"example_of\"\\n\\t\\t\\t\\t},\\n\\t\\t\\t\\t{\\n\\t\\t\\t\\t\\t\"source_node_id\": \"micro irrigation techniques\",\\n\\t\\t\\t\\t\\t\"source_node_type\": \"method\",\\n\\t\\t\\t\\t\\t\"target_node_id\": \"sprinkler irrigation\",\\n\\t\\t\\t\\t\\t\"target_node_type\": \"irrigation method\",\\n\\t\\t\\t\\t\\t\"type\": \"example_of\"\\n\\t\\t\\t\\t},\\n\\t\\t\\t\\t{\\n\\t\\t\\t\\t\\t\"source_node_id\": \"drought occurrences\",\\n\\t\\t\\t\\t\\t\"source_node_type\": \"event\",\\n\\t\\t\\t\\t\\t\"target_node_id\": \"irrigation\",\\n\\t\\t\\t\\t\\t\"target_node_type\": \"method\",\\n\\t\\t\\t\\t\\t\"type\": \"prompted\"\\n\\t\\t\\t\\t},\\n\\t\\t\\t\\t{\\n\\t\\t\\t\\t\\t\"source_node_id\": \"high impact droughts\",\\n\\t\\t\\t\\t\\t\"source_node_type\": \"event\",\\n\\t\\t\\t\\t\\t\"target_node_id\": \"irrigation\",\\n\\t\\t\\t\\t\\t\"target_node_type\": \"method\",\\n\\t\\t\\t\\t\\t\"type\": \"promoted\"\\n\\t\\t\\t\\t},\\n\\t\\t\\t\\t{\\n\\t\\t\\t\\t\\t\"source_node_\\n\\t\\t\\t\\t\\t\"source_node_id\": \"climate change\",\\n\\t\\t\\t\\t\\t\"source_node_type\": \"phenomenon\",\\n\\t\\t\\t\\t\\t\"target_\\n\\t\\t\\t\\t\\t\"target_node_\\n\\t\\t\\t\\t\\t\"target_node_type\": \"phenomenon\",\\n\\t\\t\\t\\t\\t\"type\": \"impact\"\\n\\t\\t\\t\\t},\\n\\t\\t\\t\\t{\\n\\t\\t\\t\\t\\t\"source_node_id\": \"replanting rates\",\\n\\t\\t\\t\\t\\t\"source_node_type\": \"statistic\",\\n\\t\\t\\t\\t\\t\"target_node_id\": \"irrigation\",\\n\\t\\t\\t\\t\\t\"target_node_type\": \"method\",\\n\\t\\t\\t\\t\\t\"type\": \"impact\"\\n\\t\\t\\t\\t},\\n\\t\\t\\t\\t{\\n\\t\\t\\t\\t\\t\"source_node_id\": \"suitable irrigation techniques\",\\n\\t\\t\\t\\t\\t\"source_node_type\": \"method\",\\n\\t\\t\\t\\t\\t\"target_node_id\": \"drought mitigation strategy\",\\n\\t\\t\\t\\t\\t\"target_node_type\": \"concept\",\\n\\t\\t\\t\\t\\t\"type\": \"part_of\"\\n\\t\\t\\t\\t},\\n\\t\\t\\t\\t{\\n\\t\\t\\t\\t\\t\"source_node_id\": \"irrigation\",\\n\\t\\t\\t\\t\\t\"source_node_type\": \"method\",\\n\\t\\t\\t\\t\\t\"target_node_id\": \"drought mitigation strategy\",\\n\\t\\t\\t\\t\\t\"target_node_type\": \"concept\",\\n\\t\\t\\t\\t\\t\"type\": \"part_of\"\\n\\t\\t\\t\\t}\\n\\t\\t\\t\\t{\\n\\t\\t\\t\\t\\t\"source_node_id\": \"Advisory Circular No. PA 2\",\\n\\t\\t\\t\\t\\t\"source_document_id\": \"document\",\\n\\t\\t\\t\\t\\t\"target_node_id\": \"PA\\n\\t\\t\\t\\t\\t\"target_node_\\n\\t\\t\\t\\t}\\n\\t\\t\\t\\t{\\n\\t\\t\\t\\t\\t\"source_node_id\": \"drought mitigation strategy\",\\n\\t\\t\\t\\t\\t\"source_node_type\": \"concept\",\\n\\t\\t\\t\\t\\t\"target_node_type\": \"document\",\\n\\t\\t\\t\\t\\t\"target_node_\\n\\t\\t\\t\\t\\t\"target_node_type\": \"document\",\\n\\t\\t\\t\\t\\t\"target_node_id\": \"drought mitigation strategy\",\\n\\t\\t\\t\\t\\t\"source_node_id\": \"drought mitigation strategy\",\\n\\t\\t\\t\\t\\t\"target_node_id\": \"drought mitigation strategy\",\\n\\t\\t\\t\\t\\t\"target_node_id\": \"drought mitigation strategy\",\\n\\t\\t\\t\\t\\t\"target_node_id\": \"drought mitigation strategy\",\\n\\t\\t\\t\\t\\t\"target_node_id\": \"drought mitigation strategy\",\\n\\t\\t\\t\\t\\t\"target_node_id\": \"drought mitigation strategy\",\\n\\t\\t\\t\\t\\t\"target_node_id\": \"drought mitigation strategy\",\\n\\t\\t\\t\\t\\t\"target_\\n\\t\\t\\t\\t\\t\"target_node_id\": \"drought mitigation strategy\",\\n\\t\\t\\t\\t\\t\"target_node_id\": \"drought mitigation strategy\",\\n\\t\\t\\t\\t\\t\"target_node_id\": \"drought mitigation strategy\",\\n\\t\\t\\t\\t\\t\"target_node_id\": \"drought mitigation strategy\",\\n\\t\\t\\t\\t\\t\"target_node_id\": \"drought mitigation strategy\",\\n\\t\\t\\t\\t\\t\"target_node_id\": \"drought mitigation strategy\",\\n\\t\\t\\t\\t\\t\"target_node_id\": \"drought mitigation strategy\",\\n\\t\\t\\t\\t\\t\"target_node_id\": \"drought mitigation strategy\",\\n\\t\\t\\t\\t\\t\"target_\\n\\t\\t\\t\\t\\t\"target_node_id\": \"drought mitigation strategy\",\\n\\t\\t\\t\\t\\t\"target_\\n\\t\\t\\t\\t\\t\"target_node_id\": \"drought mitigation strategy\",\\n\\t\\t\\t\\t\\t\"target_node_id\": \"drought mitigation strategy\",\\n\\t\\t\\t\\t\\t\"target_node_\\n\\t\\t\\t\\t\\t\"target_node_id\": \"drought mitigation strategy\",\\n\\t\\t\\t\\t\\t\"target_node_id\": \"drought mitigation strategy\",\\n\\t\\t\\t\\t\\t\"target_node_id\": \"drought mitigation strategy\",\\n\\t\\t\\t\\t\\t\"target_node_id\": \"drought mitigation strategy\",\\n\\t\\t\\t\\t\\t\"target_node_id\": \"drought mitigation strategy\",\\n\\t\\t\\t\\t\\t\"target_node_id\": \"drought mitigation strategy\",\\n\\t\\t\\t\\t\\t\"target_\\n\\t\\t\\t\\t\\t\"target_node_id\": \"drought mitigation strategy\",\\n\\t\\t\\t\\t\\t\"target_node_id\": \"drought mitigation strategy\",\\n\\t\\t\\t\\t\\t\"target_node_id\": \"drought mitigation strategy\",\\n\\t\\t\\t\\t\\t\"target_node_id\": \"drought mitigation strategy\",\\n\\t\\t\\t\\t\\t\"target_node_id\": \"drought mitigation strategy\",\\n\\t\\t\\t\\t\\t\"target_node_\\n\\t\\t\\t\\t\\t\"target_node_id\": \"drought mitigation strategy\",\\n\\t\\t\\t\\t\\t\"target_node_\\n\\t\\t\\t\\t\\t\"target_node_id\": \"drought mitigation strategy\",\\n\\t\\t\\t\\t\\t\"target_node_id\": \"drought mitigation strategy\",\\n\\t\\t\\t\\t\\t\"target_node_\\n\\t\\t\\t\\t\\t\"target_node_id\": \"drought mitigation strategy\",\\n\\t\\t\\t\\t\\t\"target_\\n\\t\\t\\t\\t\\t\"target_node_\\n\\t\\t\\t\\t\\t\"target_\\n\\t\\t\\t\\t\\t\"target_node_\\n\\t\\t\\t\\t\\t\"target_node_id\": \"drought mitigation strategy\",\\n\\t\\t\\t\\t\\t\"target_node_id\": \"drought mitigation strategy\",\\n\\t\\t\\t\\t\\t\"target_node_\\n\\t\\t\\t\\t\\t\"target_node_id\": \"drought mitigation strategy\",\\n\\t\\t\\t\\t\\t\"target_node_\\n\\t\\t\\t\\t\\t\"target_node_\\n\\t\\t\\t\\t\\t\"target_node_id\": \"drought mitigation strategy\",\\n\\t\\t\\t\\t\\t\"target_node_id\": \"drought mitigation strategy\",\\n\\t\\t\\t\\t\\t\"target_\\n\\t\\t\\t\\t\\t\"target_node_id\": \"drought mitigation strategy\",\\n\\t\\t\\t\\t\\t\"target_\\n\\t\\t\\t\\t\\t\"target_node_id\": \"drought mitigation strategy\",\\n\\t\\t\\t\\t\\t\"target_\\n\\t\\t\\t\\t\\t\"target_\\n\\t\\t\\t\\t\\t\"target_node_id\": \"drought mitigation strategy\",\\n\\t\\t\\t\\t\\t\"target_node_id\": \"drought mitigation strategy\",\\n\\t\\t\\t\\t\\t\"target_\\n\\t\\t\\t\\t\\t\"target_\\n\\t\\t\\t\\t\\t\"target_node_id\": \"drought mitigation strategy\",\\n\\t\\t\\t\\t\\t\"target_\\n\\t\\t\\t\\t\\t\"target_node_\\n\\t\\t\\t\\t\\t\"target_node_id\": \"drought mitigation strategy\",\\n\\t\\t\\t\\t\\t\"target\\n\\t\\t\\t\\t\\t\"target_node_id\": \"drought mitigation strategy\",\\n\\t\\t\\t\\t\\t\"target_node_id\": \"drought mitigation strategy\",\\n\\t\\t\\t\\t\\t\"target_node_\\n\\t\\t\\t\\t\\t\"target_node_id\": \"drought mitigation strategy\",\\n\\t\\t\\t\\t\\t\"target_\\n\\t\\t\\t\\t\\t\"target_node_id\": \"drought mitigation strategy\",\\n\\t\\t\\t\\t\\t\"target_node_\\n\\t\\t\\t\\t\\t\"target_node_\\n\\t\\t\\t\\t\\t\"target_\\n\\t\\t\\t\\t\\t\"target_\\n\\t\\t\\t\\t\\t\"target_node_id\": \"drought mitigation strategy\",\\n\\t\\t\\t\\t\\t\"target_node_id\": \"drought mitigation strategy\",\\n\\t\\t\\t\\t\\t\"target_node_id\": \"drought mitigation strategy\",\\n\\t\\t\\t\\t\\t\"target_node_\\n\\t\\t\\t\\t\\t\"target_node_id\": \"drought mitigation strategy\",\\n\\t\\t\\t\\t\\t\"target_node_id\": \"drought mitigation strategy\",\\n\\t\\t\\t\\t\\t\"target_node_id\": \"drought mitigation strategy\",\\n\\t\\t\\t\\t\\t\"target_node_\\n\\t\\t\\t\\t\\t\"target_node_id\": \"drought mitigation strategy\",\\n\\t\\t\\t\\t\\t\"target_node_\\n\\t\\t\\t\\t\\t\"target_\\n\\t\\t\\t\\t\\t\"target_node_\\n\\t\\t\\t\\t\\t\"target_\\n\\t\\t\\t\\t\\t\"target_\\n\\t\\t\\t\\t\\t\"target_node_id\": \"drought mitigation strategy\",\\n\\t\\t\\t\\t\\t\"target_node_\\n\\t\\t\\t\\t\\t\"target_node_id\": \"drought mitigation strategy\",\\n\\t\\t\\t\\t\\t\"target_node\\n\\t\\t\\t\\t\\t\"target_\\n\\t\\t\\t\\t\\t\"target_node_id\": \"drought mitigation strategy\",\\n\\t\\t\\t\\t\\t\"target_\\n\\t\\t\\t\\t\\t\"target_\\n\\t\\t\\t\\t\\t\"target_node_\\n\\t\\t\\t\\t\\t\"target_node\\n\\t\\t\\t\\t\\t\"target_node_id\": \"drought mitigation strategy\",\\n\\t\\t\\t\\t\\t\"target_node\\n\\t\\t\\t\\t\\t\"target_node_id\": \"drought mitigation strategy\",\\n\\t\\t\\t\\t\\t\"target_node_\\n\\t\\t\\t\\t\\t\"target_node_\\n\\t\\t\\t\\t\\t\"target_node_id\": \"drought mitigation strategy\",\\n\\t\\t\\t\\t\\t\"target_node_id\": \"drought mitigation strategy\",\\n\\t\\t\\t\\t\\t\"target_node_\\n\\t\\t\\t\\t\\t\"target_node_\\n\\t\\t\\t\\t\\t\"target_\\n\\t\\t\\t\\t\\t\"target\\n\\t\\t\\t\\t\\t\"target_node_\\n\\t\\t\\t\\t\\t\"target_\\n\\t\\t\\t\\t\\t\"target_\\n\\t\\t\\t\\t\\t\"target_node_\\n\\t\\t\\t\\t\\t\"target_node\\n\\t\\t\\t\\t\\t\"target_node_\\n\\t\\t\\t\\t\\t\"target_node_\\n\\t\\t\\t\\t\\t\"target_node_\\n\\t\\t\\t\\t\\t\"target_node_\\n\\t\\t\\t\\t\\t\"target_node_id\": \"drought mitigation strategy\",\\n\\t\\t\\t\\t\\t\"target_node_\\n\\t\\t\\t\\t\\t\"target_node_\\n\\t\\t\\t\\t\\t\"target_node_\\n\\t\\t\\t\\t\\t\"target_node_\\n\\t\\t\\t\\t\\t\"target_node_id\": \"drought mitigation strategy\",\\n\\t\\t\\t\\t\\t\"target_node_id\": \"drought mitigation strategy\",\\n\\t\\t\\t\\t\\t\"target_node_id\": \"drought mitigation strategy\",\\n\\t\\t\\t\\t\\t\"target_node_\\n\\t\\t\\t\\t\\t\"target_node\\n\\t\\t\\t\\t\\t\"target_node_id\": \"drought mitigation strategy\",\\n\\t\\t\\t\\t\\t\"target_node_id\": \"drought mitigation strategy\",\\n\\t\\t\\t\\t\\t\"target_node_\\n\\t\\t\\t\\t\\t\"target_node_\\n\\t\\t\\t\\t\\t\"target_node_id\": \"drought mitigation strategy\",\\n\\t\\t\\t\\t\\t\"target_node_id\": \"d\\n\\t\\t\\t\\t\\t\"target_node_\\n\\t\\t\\t\\t\\t\"target_node_id\": \"drought mitigation strategy\",\\n\\t\\t\\t\\t\\t\"target_node_id\": \"d\\n\\t\\t\\t\\t\\t\"target_node_id\": \"drought mitigation strategy\",\\n\\t\\t\\t\\t\\t\"target_node_id\": \"d\\n\\t\\t\\t\\t\\t\"target_\\n\\t\\t\\t\\t\\t\"target_node_id\": \"drought mitigation strategy\",\\n\\t\\t\\t\\t\\t\"target_node_id\": \"d\\n\\t\\t\\t\\t\\t\"target_node_id\": \"d\\n\\t\\t\\t\\t\\t\"target_node_\\n\\t\\t\\t\\t\\t\"target_node_id\": \"d\\n\\t\\t\\t\\t\\t\"target_\\n\\t\\t\\t\\t\\t\"target_\\n\\t\\t\\t\\t\\t\"target_node_id\": \"d\\n\\t\\t\\t\\t\\t\"target_node_\\n\\t\\t\\t\\t\\t\"target_node\\n\\t\\t\\t\\t\\t\"target_\\n\\t\\t\\t\\t\\t\"target_\\n\\t\\t\\t\\t\\t\"target_\\n\\t\\t\\t\\t\\t\"target_node_\\n\\t\\t\\t\\t\\t\"target_node_\\n\\t\\t\\t\\t\\t\"target_\\n\\t\\t\\t\\t\\t\"target_node_\\n\\t\\t\\t\\t\\t\"target_node_id\": \"d\\n\\t\\t\\t\\t\\t\"target_\\n\\t\\t\\t\\t\\t\"target_node_id\": \"d\\n\\t\\t\\t\\t\\t\"target_node_id\": \"d\\n\\t\\t\\t\\t\\t\"target_node_id\": \"d\\n\\t\\t\\t\\t\\t\"target_\\n\\t\\t\\t\\t\\t\"target_node_\\n\\t\\t\\t\\t\\t\"target_\\n\\t\\t\\t\\t\\t\"target_node_id\": \"d\\n\\t\\t\\t\\t\\t\"target_\\n\\t\\t\\t\\t\\t\"target_node\\n\\t\\t\\t\\t\\t\"target_node_id\": \"d\\n\\t\\t\\t\\t\\t\"target_\\n\\t\\t\\t\\t\\t\"target_\\n\\t\\t\\t\\t\\t\"target_node_\\n\\t\\t\\t\\t\\t\"target_node_\\n\\t\\t\\t\\t\\t\"target_node\\n\\t\\t\\t\\t\\t\"target_node\\n\\t\\t\\t\\t\\t\"target_\\n\\t\\t\\t\\t\\t\"target_\\n\\t\\t\\t\\t\\t\"target_node_\\n\\t\\t\\t\\t\\t\"target_node_\\n\\t\\t\\t\\t\\t\"target_node_id\": \"d\\n\\t\\t\\t\\t\\t\"target_node\\n\\t\\t\\t\\t\\t\"target_\\n\\t\\t\\t\\t\\t\"target_\\n\\t\\t\\t\\t\\t\"target_node_id\": \"d\\n\\t\\t\\t\\t\\t\"target_node\\n\\t\\t\\t\\t\\t\"target_\\n\\t\\t\\t\\t\\t\"target_node_\\n\\t\\t\\t\\t\\t\"target_\\n\\t\\t\\t\\t\\t\"target_\\n\\t\\t\\t\\t\\t\"target_\\n\\t\\t\\t\\t\\t\"target_node_\\n\\t\\t\\t\\t\\t\"target_node\\n\\t\\t\\t\\t\\t\"target_\\n\\t\\t\\t\\t\\t\"target_node\\n\\t\\t\\t\\t\\t\"target_\\n\\t\\t\\t\\t\\t\"target_\\n\\t\\t\\t\\t\\t\"target_node\\n\\t\\t\\t\\t\\t\"target_node\\n\\t\\t\\t\\t\\t\"target_\\n\\t\\t\\t\\t\\t\"target_node\\n\\t\\t\\t\\t\\t\"target_node_\\n\\t\\t\\t\\t\\t\"target_\\n\\t\\t\\t\\t\\t\"target_node\\n\\t\\t\\t\\t\\t\"target_node_id\": \"d\\n\\t\\t\\t\\t\\t\"target_node_id\": \"d\\n\\t\\t\\t\\t\\t\"target_\\n\\t\\t\\t\\t\\t\"target_node_\\n\\t\\t\\t\\t\\t\"target_node\\n\\t\\t\\t\\t\\t\"target_node\\n\\t\\t\\t\\t\\t\"target_node\\n\\t\\t\\t\\t\\t\"target_node\\n\\t\\t\\t\\t\\t\"target_node\\n\\t\\t\\t\\t\\t\"target_\\n\\t\\t\\t\\t\\t\"target_node\\n\\t\\t\\t\\t\\t\"target_node\\n\\t\\t\\t\\t\\t\"target_\\n\\t\\t\\t\\t\\t\"target_node\\n\\t\\t\\t\\t\\t\"target_node_\\n\\t\\t\\t\\t\\t\"target_node\\n\\t\\t\\t\\t\\t\"target_\\n\\t\\t\\t\\t\\t\"target_node\\n\\t\\t\\t\\t\\t\"target_\\n\\t\\t\\t\\t\\t\"target_\\n\\t\\t\\t\\t\\t\"target_node_\\n\\t\\t\\t\\t\\t\"target_\\n\\t\\t\\t\\t\\t\"target_\\n\\t\\t\\t\\t\\t\"target_node\\n\\t\\t\\t\\t\\t\"target_node\\n\\t\\t\\t\\t\\t\"target_\\n\\t\\t\\t\\t\\t\"target_node\\n\\t\\t\\t\\t\\t\"target_node\\n\\t\\t\\t\\t\\t\"target_node\\n\\t\\t\\t\\t\\t\"target_node\\n\\t\\t\\t\\t\\t\"target_node\\n\\t\\t\\t\\t\\t\"target_\\n\\t\\t\\t\\t\\t\"target_node\\n\\t\\t\\t\\t\\t\"target_node\\n\\t\\t\\t\\t\\t\"target_node\\n\\t\\t\\t\\t\\t\"target_node\\n\\t\\t\\t\\t\\t\"target_\\n\\t\\t\\t\\t\\t\"target_node\\n\\t\\t\\t\\t\\t\"target_\\n\\t\\t\\t\\t\\t\"target_\\n\\t\\t\\t\\t\\t\"target_node\\n\\t\\t\\t\\t\\t\"target_node\\n\\t\\t\\t\\t\\t\"target_node\\n\\t\\t\\t\\t\\t\"target_\\n\\t\\t\\t\\t\\t\"target_\\n\\t\\t\\t\\t\\t\"target_node\\n\\t\\t\\t\\t\\t\"target_\\n\\t\\t\\t\\t\\t\"target_node\\n\\t\\t\\t\\t\\t\"target_node\\n\\t\\t\\t\\t\\t\"target_node\\n\\t\\t\\t\\t\\t\"target_node\\n\\t\\t\\t\\t\\t\"target_node\\n\\t\\t\\t\\t\\t\"target_node\\n\\t\\t\\t\\t\\t\"target_node\\n\\t\\t\\t\\t\\t\"target_node\\n\\t\\t\\t\\t\\t\"target_node\\n\\t\\t\\t\\t\\t\"target_node\\n\\t\\t\\t\\t\\t\"target_\\n\\t\\t\\t\\t\\t\"target_\\n\\t\\t\\t\\t\\t\"target_node\\n\\t\\t\\t\\t\\t\"target_node\\n\\t\\t\\t\\t\\t\"target_node\\n\\t\\t\\t\\t\\t\"target_\\n\\t\\t\\t\\t\\t\"target_node\\n\\t\\t\\t\\t\\t\"target_node\\n\\t\\t\\t\\t\\t\"target_node\\n\\t\\t\\t\\t\\t\"target_\\n\\t\\t\\t\\t\\t\"target_node\\n\\t\\t\\t\\t\\t\"target_node\\n\\t\\t\\t\\t\\t\"target_node\\n\\t\\t\\t\\t\\t\"target_node\\n\\t\\t\\t\\t\\t\"target_\\n\\t\\t\\t\\t\\t\"target_node\\n\\t\\t\\t\\t\\t\"target_node\\n\\t\\t\\t\\t\\t\"target_node\\n\\t\\t\\t\\t\\t\"target_node\\n\\t\\t\\t\\t\\t\"target_\\n\\t\\t\\t\\t\\t\"target_node\\n\\t\\t\\t\\t\\t\"target_node\\n\\t\\t\\t\\t\\t\"target_node\\n\\t\\t\\t\\t\\t\"target_node\\n\\t\\t\\t\\t\\t\"target_node\\n\\t\\t\\t\\t\\t\"target_\\n\\t\\t\\t\\t\\t\"target_\\n\\t\\t\\t\\t\\t\"target_node\\n\\t\\t\\t\\t\\t\"target_\\n\\t\\t\\t\\t\\t\"target_node\\n\\t\\t\\t\\t\\t\"target_\\n\\t\\t\\t\\t\\t\"target_\\n\\t\\t\\t\\t\\t\"target_node\\n\\t\\t\\t\\t\\t\"target_node\\n\\t\\t\\t\\t\\t\"target_node\\n\\t\\t\\t\\t\\t\"target_node\\n\\t\\t\\t\\t\\t\"target_node\\n\\t\\t\\t\\t\\t\"target_node\\n\\t\\t\\t\\t\\t\"target_\\n\\t\\t\\t\\t\\t\"target_node\\n\\t\\t\\t\\t\\t\"target_node\\n\\t\\t\\t\\t\\t\"target_node\\n\\t\\t\\t\\t\\t\"target_node\\n\\t\\t\\t\\t\\t\"target_\\n\\t\\t\\t\\t\\t\"target_node\\n\\t\\t\\t\\t\\t\"target_node\\n\\t\\t\\t\\t\\t\"target_'}}\n"
          ]
        }
      ],
      "source": [
        "# Transform the text for \"Guideline\" into knowledge graph\n",
        "from langchain_experimental.graph_transformers import LLMGraphTransformer\n",
        "from langchain_core.documents import Document\n",
        "import time\n",
        "\n",
        "llm_transformer = LLMGraphTransformer(llm=llm)\n",
        "\n",
        "# Split text_guideline into smaller chunks\n",
        "chunk_size = 2500  # Adjust this value based on rate limits and token usage\n",
        "text_chunks = [text_guideline[i:i + chunk_size] for i in range(0, len(text_guideline), chunk_size)]\n",
        "\n",
        "graph_documents_guideline = []\n",
        "\n",
        "# Process chunks with rate limiting\n",
        "for chunk in text_chunks:\n",
        "    documents = [Document(page_content=chunk)]\n",
        "    try:\n",
        "      graph_documents_guideline.extend(llm_transformer.convert_to_graph_documents(documents))\n",
        "    except Exception as e:\n",
        "      print(f\"Error processing chunk: {e}\")\n",
        "\n",
        "    time.sleep(2) # Adjust the delay as needed to avoid rate limiting\n"
      ]
    },
    {
      "cell_type": "code",
      "source": [
        "len(graph_documents_guideline)"
      ],
      "metadata": {
        "colab": {
          "base_uri": "https://localhost:8080/"
        },
        "id": "PPcJivj8Cegg",
        "outputId": "b143557b-65b7-4fa5-b7d6-1a7694b09f15"
      },
      "execution_count": null,
      "outputs": [
        {
          "output_type": "execute_result",
          "data": {
            "text/plain": [
              "24"
            ]
          },
          "metadata": {},
          "execution_count": 59
        }
      ]
    },
    {
      "cell_type": "markdown",
      "source": [
        "# Look at different clusters in the knowledge graph"
      ],
      "metadata": {
        "id": "vxp_-Q8eC52a"
      }
    },
    {
      "cell_type": "code",
      "source": [
        "graph_documents_guideline[0].nodes"
      ],
      "metadata": {
        "colab": {
          "base_uri": "https://localhost:8080/"
        },
        "id": "853o1MByBg1N",
        "outputId": "d61a3207-c8f2-4abd-c6f8-14615058a136"
      },
      "execution_count": null,
      "outputs": [
        {
          "output_type": "execute_result",
          "data": {
            "text/plain": [
              "[Node(id='Gliricidia', type='Plant', properties={}),\n",
              " Node(id='Calliandra', type='Plant', properties={})]"
            ]
          },
          "metadata": {},
          "execution_count": 64
        }
      ]
    },
    {
      "cell_type": "code",
      "source": [
        "graph_documents_guideline[0].relationships"
      ],
      "metadata": {
        "colab": {
          "base_uri": "https://localhost:8080/"
        },
        "id": "LM8xU89WBlJb",
        "outputId": "fd10185d-d92a-41d3-e072-65d3194df8f7"
      },
      "execution_count": null,
      "outputs": [
        {
          "output_type": "execute_result",
          "data": {
            "text/plain": [
              "[Relationship(source=Node(id='Gliricidia', type='Plant', properties={}), target=Node(id='Fuelwood', type='Resource', properties={}), type='PRODUCES', properties={}),\n",
              " Relationship(source=Node(id='Calliandra', type='Plant', properties={}), target=Node(id='Fuelwood', type='Resource', properties={}), type='PRODUCES', properties={})]"
            ]
          },
          "metadata": {},
          "execution_count": 61
        }
      ]
    },
    {
      "cell_type": "code",
      "source": [
        "graph_documents_guideline[12].nodes"
      ],
      "metadata": {
        "colab": {
          "base_uri": "https://localhost:8080/"
        },
        "id": "hZx8Op4ALi88",
        "outputId": "e3148cd1-eca7-4668-de80-39d36897cd5b"
      },
      "execution_count": null,
      "outputs": [
        {
          "output_type": "execute_result",
          "data": {
            "text/plain": [
              "[Node(id='Staff', type='Person', properties={}),\n",
              " Node(id='Safety Officer', type='Person', properties={}),\n",
              " Node(id='Community Members', type='Person', properties={})]"
            ]
          },
          "metadata": {},
          "execution_count": 62
        }
      ]
    },
    {
      "cell_type": "code",
      "source": [
        "graph_documents_guideline[12].relationships"
      ],
      "metadata": {
        "colab": {
          "base_uri": "https://localhost:8080/"
        },
        "id": "cJ8drzHVLnrQ",
        "outputId": "a67bbdeb-8c8d-4911-bf70-f60a931686f8"
      },
      "execution_count": null,
      "outputs": [
        {
          "output_type": "execute_result",
          "data": {
            "text/plain": [
              "[Relationship(source=Node(id='Staff', type='Person', properties={}), target=Node(id='Safety Officer', type='Person', properties={}), type='WORKS_WITH', properties={}),\n",
              " Relationship(source=Node(id='Staff', type='Person', properties={}), target=Node(id='Community Members', type='Person', properties={}), type='INTERACTS_WITH', properties={})]"
            ]
          },
          "metadata": {},
          "execution_count": 63
        }
      ]
    },
    {
      "cell_type": "code",
      "source": [
        "# Store the generated graph documents into a neo4j graph database\n",
        "graph.add_graph_documents(\n",
        "    graph_documents_guideline,\n",
        "    baseEntityLabel= True,\n",
        "    include_source=True)"
      ],
      "metadata": {
        "id": "GYPbtDfBCRk_"
      },
      "execution_count": null,
      "outputs": []
    },
    {
      "cell_type": "code",
      "source": [
        "graph.refresh_schema()"
      ],
      "metadata": {
        "id": "w2QIAP1wDlmn"
      },
      "execution_count": null,
      "outputs": []
    },
    {
      "cell_type": "code",
      "source": [
        "# Generate cypher query to query the knowledge graph\n",
        "from langchain.chains import GraphCypherQAChain\n",
        "chain=GraphCypherQAChain.from_llm(llm=llm,graph=graph,verbose=True, allow_dangerous_requests=True)\n",
        "chain"
      ],
      "metadata": {
        "colab": {
          "base_uri": "https://localhost:8080/"
        },
        "id": "xQh6YH8zA2r2",
        "outputId": "0356d954-a4cd-493a-df97-635013f32253"
      },
      "execution_count": null,
      "outputs": [
        {
          "output_type": "execute_result",
          "data": {
            "text/plain": [
              "GraphCypherQAChain(verbose=True, graph=<langchain_community.graphs.neo4j_graph.Neo4jGraph object at 0x7e8eeb8306d0>, cypher_generation_chain=LLMChain(verbose=False, prompt=PromptTemplate(input_variables=['question', 'schema'], input_types={}, partial_variables={}, template='Task:Generate Cypher statement to query a graph database.\\nInstructions:\\nUse only the provided relationship types and properties in the schema.\\nDo not use any other relationship types or properties that are not provided.\\nSchema:\\n{schema}\\nNote: Do not include any explanations or apologies in your responses.\\nDo not respond to any questions that might ask anything else than for you to construct a Cypher statement.\\nDo not include any text except the generated Cypher statement.\\n\\nThe question is:\\n{question}'), llm=ChatGroq(client=<groq.resources.chat.completions.Completions object at 0x7e8ee7f0f850>, async_client=<groq.resources.chat.completions.AsyncCompletions object at 0x7e8ee7f0d540>, model_name='Gemma2-9b-It', model_kwargs={}, groq_api_key=SecretStr('**********')), output_parser=StrOutputParser(), llm_kwargs={}), qa_chain=LLMChain(verbose=False, prompt=PromptTemplate(input_variables=['context', 'question'], input_types={}, partial_variables={}, template=\"You are an assistant that helps to form nice and human understandable answers.\\nThe information part contains the provided information that you must use to construct an answer.\\nThe provided information is authoritative, you must never doubt it or try to use your internal knowledge to correct it.\\nMake the answer sound as a response to the question. Do not mention that you based the result on the given information.\\nHere is an example:\\n\\nQuestion: Which managers own Neo4j stocks?\\nContext:[manager:CTL LLC, manager:JANE STREET GROUP LLC]\\nHelpful Answer: CTL LLC, JANE STREET GROUP LLC owns Neo4j stocks.\\n\\nFollow this example when generating answers.\\nIf the provided information is empty, say that you don't know the answer.\\nInformation:\\n{context}\\n\\nQuestion: {question}\\nHelpful Answer:\"), llm=ChatGroq(client=<groq.resources.chat.completions.Completions object at 0x7e8ee7f0f850>, async_client=<groq.resources.chat.completions.AsyncCompletions object at 0x7e8ee7f0d540>, model_name='Gemma2-9b-It', model_kwargs={}, groq_api_key=SecretStr('**********')), output_parser=StrOutputParser(), llm_kwargs={}), graph_schema='Node properties are the following:\\nPerson {id: STRING},Country {id: STRING},Organization {id: STRING},Plant {id: STRING},Location {id: STRING},Date {id: STRING},Document {id: STRING, text: STRING},Chemical {id: STRING},Machine {id: STRING},Organism {id: STRING},Service {id: STRING},Publication {id: STRING},Entity {id: STRING},Chemical mixture {id: STRING},Organic matter {id: STRING}\\nRelationship properties are the following:\\n\\nThe relationships are the following:\\n(:Person)-[:OPERATES]->(:Machine),(:Person)-[:MEMBER_OF]->(:Organization),(:Person)-[:EMPLOYED_BY]->(:Organization),(:Person)-[:CONTACTS_IN_CASE_OF_EMERGENCY]->(:Service),(:Person)-[:TRANSFERS_TO_FOR_TREATMENT]->(:Organization),(:Person)-[:USES_FOR_TRANSPORTATION]->(:Service),(:Organization)-[:LOCATEDIN]->(:Location),(:Organization)-[:BASED_IN]->(:Country),(:Organization)-[:LOCATED_IN]->(:Location),(:Organization)-[:PUBLISHEDBY]->(:Document),(:Organization)-[:OVERSEES]->(:Organization),(:Plant)-[:USED_FOR]->(:Plant),(:Plant)-[:PLANTED_ALONGSIDE]->(:Plant),(:Plant)-[:INTERCROPPED_WITH]->(:Plant),(:Document)-[:MENTIONS]->(:Organization),(:Document)-[:MENTIONS]->(:Location),(:Document)-[:MENTIONS]->(:Person),(:Document)-[:MENTIONS]->(:Machine),(:Document)-[:MENTIONS]->(:Plant),(:Document)-[:MENTIONS]->(:Country),(:Document)-[:MENTIONS]->(:Service),(:Document)-[:MENTIONS]->(:Publication),(:Document)-[:MENTIONS]->(:Organism),(:Document)-[:MENTIONS]->(:Date),(:Document)-[:MENTIONS]->(:Document),(:Document)-[:MENTIONS]->(:Entity),(:Document)-[:MENTIONS]->(:Chemical),(:Document)-[:MENTIONS]->(:Chemical mixture),(:Document)-[:MENTIONS]->(:Organic matter),(:Document)-[:ISSUEDON]->(:Date),(:Document)-[:HASNUMBER]->(:Document),(:Machine)-[:PRUNES]->(:Plant),(:Organism)-[:AFFECTS]->(:Plant),(:Publication)-[:REFERENCES]->(:Publication),(:Chemical mixture)-[:CONTAINS]->(:Chemical)', allow_dangerous_requests=True)"
            ]
          },
          "metadata": {},
          "execution_count": 51
        }
      ]
    },
    {
      "cell_type": "code",
      "source": [
        "# Ask a question\n",
        "response = chain.invoke({\"query\" : \"What organization is located in Talawakelle?\"})\n",
        "response"
      ],
      "metadata": {
        "colab": {
          "base_uri": "https://localhost:8080/"
        },
        "id": "opk27tl45350",
        "outputId": "417422ff-85a6-450a-8454-a65f48ffaa5b"
      },
      "execution_count": null,
      "outputs": [
        {
          "output_type": "stream",
          "name": "stdout",
          "text": [
            "\n",
            "\n",
            "\u001b[1m> Entering new GraphCypherQAChain chain...\u001b[0m\n",
            "Generated Cypher:\n",
            "\u001b[32;1m\u001b[1;3mMATCH (o:Organization)<-[:LOCATEDIN]-(l:Location) WHERE l.id='Talawakelle' RETURN o.id\u001b[0m\n",
            "Full Context:\n",
            "\u001b[32;1m\u001b[1;3m[]\u001b[0m\n",
            "\n",
            "\u001b[1m> Finished chain.\u001b[0m\n"
          ]
        },
        {
          "output_type": "execute_result",
          "data": {
            "text/plain": [
              "{'query': 'What organization is located in Talawakelle?',\n",
              " 'result': \"I don't know the answer. \\n\"}"
            ]
          },
          "metadata": {},
          "execution_count": 52
        }
      ]
    },
    {
      "cell_type": "code",
      "source": [
        "response = chain.invoke({\"query\" : \"Where is Tea Research Institute Of Sri Lanka located in?\"})\n",
        "response"
      ],
      "metadata": {
        "id": "JdXLlhew77mw",
        "colab": {
          "base_uri": "https://localhost:8080/"
        },
        "outputId": "3bcf2c9c-afc1-4b38-ea8c-e93b26cd45e1"
      },
      "execution_count": null,
      "outputs": [
        {
          "output_type": "stream",
          "name": "stdout",
          "text": [
            "\n",
            "\n",
            "\u001b[1m> Entering new GraphCypherQAChain chain...\u001b[0m\n",
            "Generated Cypher:\n",
            "\u001b[32;1m\u001b[1;3mMATCH (o:Organization {id: \"Tea Research Institute Of Sri Lanka\"})-[r:LOCATEDIN]->(l:Location) RETURN l.id\u001b[0m\n",
            "Full Context:\n",
            "\u001b[32;1m\u001b[1;3m[{'l.id': 'Talawakelle'}]\u001b[0m\n",
            "\n",
            "\u001b[1m> Finished chain.\u001b[0m\n"
          ]
        },
        {
          "output_type": "execute_result",
          "data": {
            "text/plain": [
              "{'query': 'Where is Tea Research Institute Of Sri Lanka located in?',\n",
              " 'result': 'Talawakelle  \\n'}"
            ]
          },
          "metadata": {},
          "execution_count": 53
        }
      ]
    },
    {
      "cell_type": "code",
      "source": [
        "response = chain.invoke({\"query\" : \"What has Tea Research Institute Of Sri Lanka published?\"})\n",
        "response"
      ],
      "metadata": {
        "colab": {
          "base_uri": "https://localhost:8080/"
        },
        "id": "iko3MKZWFcc0",
        "outputId": "ff1550c2-ba8a-44a5-fd21-6134d0ba639c"
      },
      "execution_count": null,
      "outputs": [
        {
          "output_type": "stream",
          "name": "stdout",
          "text": [
            "\n",
            "\n",
            "\u001b[1m> Entering new GraphCypherQAChain chain...\u001b[0m\n",
            "Generated Cypher:\n",
            "\u001b[32;1m\u001b[1;3mMATCH (p:Person)-[:MEMBER_OF]->(o:Organization {id: \"Tea Research Institute Of Sri Lanka\"})<-[:PUBLISHEDBY]-(d:Document)\n",
            "RETURN d.id, d.text\u001b[0m\n",
            "Full Context:\n",
            "\u001b[32;1m\u001b[1;3m[]\u001b[0m\n",
            "\n",
            "\u001b[1m> Finished chain.\u001b[0m\n"
          ]
        },
        {
          "output_type": "execute_result",
          "data": {
            "text/plain": [
              "{'query': 'What has Tea Research Institute Of Sri Lanka published?',\n",
              " 'result': \"I don't know the answer. \\n\"}"
            ]
          },
          "metadata": {},
          "execution_count": 54
        }
      ]
    },
    {
      "cell_type": "code",
      "source": [
        "response = chain.invoke({\"query\" : \"Who are the members of Vigilance committee?\"})\n",
        "response\n",
        "#"
      ],
      "metadata": {
        "colab": {
          "base_uri": "https://localhost:8080/"
        },
        "id": "bhOrqrbYIrhR",
        "outputId": "4f9c4b9c-bf1e-48a7-af93-657d9395ca44"
      },
      "execution_count": null,
      "outputs": [
        {
          "output_type": "stream",
          "name": "stdout",
          "text": [
            "\n",
            "\n",
            "\u001b[1m> Entering new GraphCypherQAChain chain...\u001b[0m\n",
            "Generated Cypher:\n",
            "\u001b[32;1m\u001b[1;3mMATCH (p:Person)-[:MEMBER_OF]->(o:Organization {name:\"Vigilance committee\"}) RETURN p.id \n",
            "\u001b[0m\n",
            "Full Context:\n",
            "\u001b[32;1m\u001b[1;3m[]\u001b[0m\n",
            "\n",
            "\u001b[1m> Finished chain.\u001b[0m\n"
          ]
        },
        {
          "output_type": "execute_result",
          "data": {
            "text/plain": [
              "{'query': 'Who are the members of Vigilance committee?',\n",
              " 'result': \"I don't know the answer. \\n\"}"
            ]
          },
          "metadata": {},
          "execution_count": 55
        }
      ]
    },
    {
      "cell_type": "code",
      "source": [
        "response = chain.invoke({\"query\" : \"What are the Interim Guidelines on Strategic Cost Component Management in Tea  Cultivation ?\"})\n",
        "response\n",
        "#"
      ],
      "metadata": {
        "colab": {
          "base_uri": "https://localhost:8080/"
        },
        "id": "fy7r8k-WK0IL",
        "outputId": "bf5a84ee-24f1-4694-bf5e-951459edd4c3"
      },
      "execution_count": null,
      "outputs": [
        {
          "output_type": "stream",
          "name": "stdout",
          "text": [
            "\n",
            "\n",
            "\u001b[1m> Entering new GraphCypherQAChain chain...\u001b[0m\n",
            "Generated Cypher:\n",
            "\u001b[32;1m\u001b[1;3mMATCH (d:Document {id:\"Interim Guidelines on Strategic Cost Component Management in Tea Cultivation\"}) RETURN d.text\n",
            "\n",
            "\n",
            "\u001b[0m\n",
            "Full Context:\n",
            "\u001b[32;1m\u001b[1;3m[]\u001b[0m\n",
            "\n",
            "\u001b[1m> Finished chain.\u001b[0m\n"
          ]
        },
        {
          "output_type": "execute_result",
          "data": {
            "text/plain": [
              "{'query': 'What are the Interim Guidelines on Strategic Cost Component Management in Tea  Cultivation ?',\n",
              " 'result': \"I don't know the answer. \\n\"}"
            ]
          },
          "metadata": {},
          "execution_count": 56
        }
      ]
    },
    {
      "cell_type": "code",
      "source": [
        "response = chain.invoke({\"query\" : \"What does the document fc57899e05eeb02dc87cc90321278d92 say about best bonding clays ?\"})\n",
        "response\n",
        "#"
      ],
      "metadata": {
        "colab": {
          "base_uri": "https://localhost:8080/"
        },
        "id": "c4W8nsUtPP2y",
        "outputId": "f0878655-9b7b-42bf-9d52-19de04332ed1"
      },
      "execution_count": null,
      "outputs": [
        {
          "output_type": "stream",
          "name": "stdout",
          "text": [
            "\n",
            "\n",
            "\u001b[1m> Entering new GraphCypherQAChain chain...\u001b[0m\n",
            "Generated Cypher:\n",
            "\u001b[32;1m\u001b[1;3mMATCH (d:Document {id: 'fc57899e05eeb02dc87cc90321278d92'})\n",
            "WHERE d.text CONTAINS 'best bonding clays'\n",
            "RETURN d.text\n",
            "\u001b[0m\n",
            "Full Context:\n",
            "\u001b[32;1m\u001b[1;3m[{'d.text': ' of AFS grain size 50  - 60 is generally  used.  \\nb. Clay  \\nThe best bonding clays are bentonites .   \\nc. Coal dust  \\nUsed mainly in iron foundries with so me being used in non -ferrous foundries.  \\nd. BENTOKOL  \\nBENTOKOL additives are blends of natural clays to which have been added \\nspecially selected essential volatiles to provide both bond and volatile content .  \\ne. Water  \\nWater is needed to develop the clay bond bu t at times  it cause s casting defects.  \\n \\nTea Research Institute of Sri Lanka  \\nTalawakelle  \\nCOPYRIGHT  \\nAll rights reserved. No parts of this publication may be reproduced or transmitted in any form or by \\nany means, electronic or mechanical, including photocopying, recording or information storage and \\nretrieval, without permission in writing from the Director, Tea Research Institute of Sri Lanka.  \\n Annexure A  1 \\n THE TEA RESEARCH INSTITUTE OF SRI LANKA  \\n \\nIssued in:  December 2021       Guideline No: 0 4/2021 \\n \\nInterim Guideline s on Strategic C ost Component Management in Tea  Cultivation with \\nSpecial Reference to Rational Use of Plant Nutrients  and Tea Manufacture  \\n \\n1. Background/Rationale  \\nUltimate objective of any enterprise is optimizing  the profit s and the same is true for the \\nstakeholders in tea supply and value chain  as well.  The p rofit is defined as the difference \\nbetween the sale price and cost of the product  (COP ). Therefore, it is imperative to maintain \\nthe cost components as minimum as possible and obtain high er price s to accrue  higher profit \\nmargin s. Ensuring the best quality of end-product and adding value  to them will also increase \\nthe Net Sale Average (NSA) of graded tea. \\n \\nWith limited availability and higher input costs, it is necessary to identify appropriate \\nstrategies for the rational use of such inputs in order to manage cost s and minimiz e impacts on \\nsustainable production .  \\n \\nThe purpose of th is interim guideline  is to advise  the growers  and producers on key  strategies  \\nto manag e cost components in tea cultivation and processing. However, it should be cautioned  \\nthat the curtailment of inputs such as fertilizers  need not be continued as a routine practice as \\nthey adversely affect productivity.  \\n \\n2. Strategic cost management in tea cultivati on \\n2.1 Rational u se of plant nutrients for tea fields   \\nThe costs of plant nutrients  and application s vary from 6  - 12% of total cost of production  \\n(COP) . Hence, r ational use of plant nutrients is important to maintain tea land s profit ably.  \\n \\n\\uf0b7 Do not curtail fertilizer inputs for tea nurser ies and immature tea (up to formative \\npruning)  in the use of T  65, and T  200 and T  750 mixtures respectively and continue as \\nrecommend ed (Refer Advisory Circulars SP1 and SP2)   \\n\\uf0b7 An interim recommendation on a  fertilizer mixture containing Sulphate of Ammonia \\n(SA), Eppawela Rock Phosphate (E RP) and Muriate of Potash (MOP)  formulated as \\nT1240 is made  for the use in mature tea fields.  \\n\\uf0b7 The composition and nutrient concentrations of T 1240 are given in  Table 1.  \\n \\nTable 1.  Composition and nutrient concentrations of the T 1240 mixture  \\nMixture  Composition (parts)  Concentration (%) \\nSA ERP MOP  N P2O5  K2O S \\nT1240  970 103 167 16.1 2.3 8.0 18.7 \\n 2 \\n \\uf0b7 Use nitrogen (N) rationally for mature tea based on the average yields as detailed in \\nTables 2 and 3  for corporate sector and small holdings respectively  so that every 100  kg \\nof made tea  below and above the yield level of 1400 made tea kg per ha per year \\nreceives on average 08 kg and 10 kg of N respectively . \\n \\nTable 2. Number of applications and per application quantity of T1240 for corporate sector  \\nAverage yield  \\n(Made tea kg/ha/year)  N requirement  \\n(kg/ha/year)  Number of \\napplications per year  Per application \\nquantity (kg)  \\nLess than 800  65 2  200 \\nFrom 800 up to 1400  90 3  180 \\nFrom 1400 up to 1900  165 4  250 \\nOver & above 1900  200 4 310 \\n \\nTable 3. Number of applications and per application quantity of T1240 for small holdings  \\nAverage yield  \\n(Green leaf kg/ac/month)  N requirement  \\n(kg/ac/year)  Number of \\napplications per year  Per application \\nquantity (kg)  \\nLess than 130  25 2 75 \\nFrom 130 up to 220  35 3 70 \\nFrom 220 up to 300  70 4 110 \\nMore than 300  80 4 125 \\n \\n\\uf0b7 Apply T1240 mixture 2, 3 and 4 times a year for tea fields yielding less than 800 kg, \\n800-1400 kg and above 1400 kg of made tea per ha per year (<130, 130 -220 & >220 kg \\ngreen leaf per ac per month)  respectively.  \\n\\uf0b7 Apply fertilizer from plant to plant for tea fields yielding less than 800 kg of made tea \\nper ha per year (<130 green leaf per ac per month)  \\n\\uf0b7 Test soil pH regularly and correct soil acidity (optimum range of pH being 4.5 -5.5) by \\napplying dol omite prior to chemical fertilizer application to improve nutrient \\navailability and plant uptake as given in Table 4 as per the recommend ation s (Refer \\nAdvisory Circular SP3).  \\n\\uf0b7 Use compost  to improv e nutrient use efficiency and soil pH buffering ca'}]\u001b[0m\n",
            "\n",
            "\u001b[1m> Finished chain.\u001b[0m\n"
          ]
        },
        {
          "output_type": "execute_result",
          "data": {
            "text/plain": [
              "{'query': 'What does the document fc57899e05eeb02dc87cc90321278d92 say about best bonding clays ?',\n",
              " 'result': 'The best bonding clays are bentonites.  \\n'}"
            ]
          },
          "metadata": {},
          "execution_count": 57
        }
      ]
    },
    {
      "cell_type": "code",
      "source": [],
      "metadata": {
        "id": "DO8FTQRQPZeV"
      },
      "execution_count": null,
      "outputs": []
    }
  ],
  "metadata": {
    "colab": {
      "provenance": [],
      "include_colab_link": true
    },
    "kernelspec": {
      "display_name": "Python 3",
      "name": "python3"
    },
    "language_info": {
      "name": "python"
    }
  },
  "nbformat": 4,
  "nbformat_minor": 0
}