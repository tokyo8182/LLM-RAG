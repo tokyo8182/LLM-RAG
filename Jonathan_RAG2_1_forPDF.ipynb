{
  "nbformat": 4,
  "nbformat_minor": 0,
  "metadata": {
    "colab": {
      "provenance": [],
      "include_colab_link": true
    },
    "kernelspec": {
      "name": "python3",
      "display_name": "Python 3"
    },
    "language_info": {
      "name": "python"
    }
  },
  "cells": [
    {
      "cell_type": "markdown",
      "metadata": {
        "id": "view-in-github",
        "colab_type": "text"
      },
      "source": [
        "<a href=\"https://colab.research.google.com/github/tokyo8182/LLM-RAG/blob/main/Jonathan_RAG2_1_forPDF.ipynb\" target=\"_parent\"><img src=\"https://colab.research.google.com/assets/colab-badge.svg\" alt=\"Open In Colab\"/></a>"
      ]
    },
    {
      "cell_type": "markdown",
      "source": [
        "# Install required libraries"
      ],
      "metadata": {
        "id": "aIIVLTcL8mPK"
      }
    },
    {
      "cell_type": "code",
      "execution_count": 1,
      "metadata": {
        "id": "-thStg1k8Yk7",
        "colab": {
          "base_uri": "https://localhost:8080/"
        },
        "outputId": "6e13d3bd-f2c6-4ec1-fa36-62a97dcd7d67"
      },
      "outputs": [
        {
          "output_type": "stream",
          "name": "stdout",
          "text": [
            "Requirement already satisfied: langchain-community==0.2.15 in /usr/local/lib/python3.10/dist-packages (0.2.15)\n",
            "Requirement already satisfied: PyYAML>=5.3 in /usr/local/lib/python3.10/dist-packages (from langchain-community==0.2.15) (6.0.2)\n",
            "Requirement already satisfied: SQLAlchemy<3,>=1.4 in /usr/local/lib/python3.10/dist-packages (from langchain-community==0.2.15) (2.0.36)\n",
            "Requirement already satisfied: aiohttp<4.0.0,>=3.8.3 in /usr/local/lib/python3.10/dist-packages (from langchain-community==0.2.15) (3.11.2)\n",
            "Requirement already satisfied: dataclasses-json<0.7,>=0.5.7 in /usr/local/lib/python3.10/dist-packages (from langchain-community==0.2.15) (0.6.7)\n",
            "Requirement already satisfied: langchain<0.3.0,>=0.2.15 in /usr/local/lib/python3.10/dist-packages (from langchain-community==0.2.15) (0.2.17)\n",
            "Requirement already satisfied: langchain-core<0.3.0,>=0.2.37 in /usr/local/lib/python3.10/dist-packages (from langchain-community==0.2.15) (0.2.43)\n",
            "Requirement already satisfied: langsmith<0.2.0,>=0.1.0 in /usr/local/lib/python3.10/dist-packages (from langchain-community==0.2.15) (0.1.143)\n",
            "Requirement already satisfied: numpy<2,>=1 in /usr/local/lib/python3.10/dist-packages (from langchain-community==0.2.15) (1.26.4)\n",
            "Requirement already satisfied: requests<3,>=2 in /usr/local/lib/python3.10/dist-packages (from langchain-community==0.2.15) (2.32.3)\n",
            "Requirement already satisfied: tenacity!=8.4.0,<9.0.0,>=8.1.0 in /usr/local/lib/python3.10/dist-packages (from langchain-community==0.2.15) (8.5.0)\n",
            "Requirement already satisfied: aiohappyeyeballs>=2.3.0 in /usr/local/lib/python3.10/dist-packages (from aiohttp<4.0.0,>=3.8.3->langchain-community==0.2.15) (2.4.3)\n",
            "Requirement already satisfied: aiosignal>=1.1.2 in /usr/local/lib/python3.10/dist-packages (from aiohttp<4.0.0,>=3.8.3->langchain-community==0.2.15) (1.3.1)\n",
            "Requirement already satisfied: attrs>=17.3.0 in /usr/local/lib/python3.10/dist-packages (from aiohttp<4.0.0,>=3.8.3->langchain-community==0.2.15) (24.2.0)\n",
            "Requirement already satisfied: frozenlist>=1.1.1 in /usr/local/lib/python3.10/dist-packages (from aiohttp<4.0.0,>=3.8.3->langchain-community==0.2.15) (1.5.0)\n",
            "Requirement already satisfied: multidict<7.0,>=4.5 in /usr/local/lib/python3.10/dist-packages (from aiohttp<4.0.0,>=3.8.3->langchain-community==0.2.15) (6.1.0)\n",
            "Requirement already satisfied: propcache>=0.2.0 in /usr/local/lib/python3.10/dist-packages (from aiohttp<4.0.0,>=3.8.3->langchain-community==0.2.15) (0.2.0)\n",
            "Requirement already satisfied: yarl<2.0,>=1.17.0 in /usr/local/lib/python3.10/dist-packages (from aiohttp<4.0.0,>=3.8.3->langchain-community==0.2.15) (1.17.2)\n",
            "Requirement already satisfied: async-timeout<6.0,>=4.0 in /usr/local/lib/python3.10/dist-packages (from aiohttp<4.0.0,>=3.8.3->langchain-community==0.2.15) (4.0.3)\n",
            "Requirement already satisfied: marshmallow<4.0.0,>=3.18.0 in /usr/local/lib/python3.10/dist-packages (from dataclasses-json<0.7,>=0.5.7->langchain-community==0.2.15) (3.23.1)\n",
            "Requirement already satisfied: typing-inspect<1,>=0.4.0 in /usr/local/lib/python3.10/dist-packages (from dataclasses-json<0.7,>=0.5.7->langchain-community==0.2.15) (0.9.0)\n",
            "Requirement already satisfied: langchain-text-splitters<0.3.0,>=0.2.0 in /usr/local/lib/python3.10/dist-packages (from langchain<0.3.0,>=0.2.15->langchain-community==0.2.15) (0.2.2)\n",
            "Requirement already satisfied: pydantic<3,>=1 in /usr/local/lib/python3.10/dist-packages (from langchain<0.3.0,>=0.2.15->langchain-community==0.2.15) (2.9.2)\n",
            "Requirement already satisfied: jsonpatch<2.0,>=1.33 in /usr/local/lib/python3.10/dist-packages (from langchain-core<0.3.0,>=0.2.37->langchain-community==0.2.15) (1.33)\n",
            "Requirement already satisfied: packaging<25,>=23.2 in /usr/local/lib/python3.10/dist-packages (from langchain-core<0.3.0,>=0.2.37->langchain-community==0.2.15) (24.2)\n",
            "Requirement already satisfied: typing-extensions>=4.7 in /usr/local/lib/python3.10/dist-packages (from langchain-core<0.3.0,>=0.2.37->langchain-community==0.2.15) (4.12.2)\n",
            "Requirement already satisfied: httpx<1,>=0.23.0 in /usr/local/lib/python3.10/dist-packages (from langsmith<0.2.0,>=0.1.0->langchain-community==0.2.15) (0.27.2)\n",
            "Requirement already satisfied: orjson<4.0.0,>=3.9.14 in /usr/local/lib/python3.10/dist-packages (from langsmith<0.2.0,>=0.1.0->langchain-community==0.2.15) (3.10.11)\n",
            "Requirement already satisfied: requests-toolbelt<2.0.0,>=1.0.0 in /usr/local/lib/python3.10/dist-packages (from langsmith<0.2.0,>=0.1.0->langchain-community==0.2.15) (1.0.0)\n",
            "Requirement already satisfied: charset-normalizer<4,>=2 in /usr/local/lib/python3.10/dist-packages (from requests<3,>=2->langchain-community==0.2.15) (3.4.0)\n",
            "Requirement already satisfied: idna<4,>=2.5 in /usr/local/lib/python3.10/dist-packages (from requests<3,>=2->langchain-community==0.2.15) (3.10)\n",
            "Requirement already satisfied: urllib3<3,>=1.21.1 in /usr/local/lib/python3.10/dist-packages (from requests<3,>=2->langchain-community==0.2.15) (2.2.3)\n",
            "Requirement already satisfied: certifi>=2017.4.17 in /usr/local/lib/python3.10/dist-packages (from requests<3,>=2->langchain-community==0.2.15) (2024.8.30)\n",
            "Requirement already satisfied: greenlet!=0.4.17 in /usr/local/lib/python3.10/dist-packages (from SQLAlchemy<3,>=1.4->langchain-community==0.2.15) (3.1.1)\n",
            "Requirement already satisfied: anyio in /usr/local/lib/python3.10/dist-packages (from httpx<1,>=0.23.0->langsmith<0.2.0,>=0.1.0->langchain-community==0.2.15) (3.7.1)\n",
            "Requirement already satisfied: httpcore==1.* in /usr/local/lib/python3.10/dist-packages (from httpx<1,>=0.23.0->langsmith<0.2.0,>=0.1.0->langchain-community==0.2.15) (1.0.7)\n",
            "Requirement already satisfied: sniffio in /usr/local/lib/python3.10/dist-packages (from httpx<1,>=0.23.0->langsmith<0.2.0,>=0.1.0->langchain-community==0.2.15) (1.3.1)\n",
            "Requirement already satisfied: h11<0.15,>=0.13 in /usr/local/lib/python3.10/dist-packages (from httpcore==1.*->httpx<1,>=0.23.0->langsmith<0.2.0,>=0.1.0->langchain-community==0.2.15) (0.14.0)\n",
            "Requirement already satisfied: jsonpointer>=1.9 in /usr/local/lib/python3.10/dist-packages (from jsonpatch<2.0,>=1.33->langchain-core<0.3.0,>=0.2.37->langchain-community==0.2.15) (3.0.0)\n",
            "Requirement already satisfied: annotated-types>=0.6.0 in /usr/local/lib/python3.10/dist-packages (from pydantic<3,>=1->langchain<0.3.0,>=0.2.15->langchain-community==0.2.15) (0.7.0)\n",
            "Requirement already satisfied: pydantic-core==2.23.4 in /usr/local/lib/python3.10/dist-packages (from pydantic<3,>=1->langchain<0.3.0,>=0.2.15->langchain-community==0.2.15) (2.23.4)\n",
            "Requirement already satisfied: mypy-extensions>=0.3.0 in /usr/local/lib/python3.10/dist-packages (from typing-inspect<1,>=0.4.0->dataclasses-json<0.7,>=0.5.7->langchain-community==0.2.15) (1.0.0)\n",
            "Requirement already satisfied: exceptiongroup in /usr/local/lib/python3.10/dist-packages (from anyio->httpx<1,>=0.23.0->langsmith<0.2.0,>=0.1.0->langchain-community==0.2.15) (1.2.2)\n",
            "Requirement already satisfied: langchain-chroma==0.1.3 in /usr/local/lib/python3.10/dist-packages (0.1.3)\n",
            "Requirement already satisfied: chromadb!=0.5.4,!=0.5.5,<0.6.0,>=0.4.0 in /usr/local/lib/python3.10/dist-packages (from langchain-chroma==0.1.3) (0.5.20)\n",
            "Requirement already satisfied: fastapi<1,>=0.95.2 in /usr/local/lib/python3.10/dist-packages (from langchain-chroma==0.1.3) (0.115.5)\n",
            "Requirement already satisfied: langchain-core<0.3,>=0.1.40 in /usr/local/lib/python3.10/dist-packages (from langchain-chroma==0.1.3) (0.2.43)\n",
            "Requirement already satisfied: numpy<2,>=1 in /usr/local/lib/python3.10/dist-packages (from langchain-chroma==0.1.3) (1.26.4)\n",
            "Requirement already satisfied: build>=1.0.3 in /usr/local/lib/python3.10/dist-packages (from chromadb!=0.5.4,!=0.5.5,<0.6.0,>=0.4.0->langchain-chroma==0.1.3) (1.2.2.post1)\n",
            "Requirement already satisfied: pydantic>=1.9 in /usr/local/lib/python3.10/dist-packages (from chromadb!=0.5.4,!=0.5.5,<0.6.0,>=0.4.0->langchain-chroma==0.1.3) (2.9.2)\n",
            "Requirement already satisfied: chroma-hnswlib==0.7.6 in /usr/local/lib/python3.10/dist-packages (from chromadb!=0.5.4,!=0.5.5,<0.6.0,>=0.4.0->langchain-chroma==0.1.3) (0.7.6)\n",
            "Requirement already satisfied: uvicorn>=0.18.3 in /usr/local/lib/python3.10/dist-packages (from uvicorn[standard]>=0.18.3->chromadb!=0.5.4,!=0.5.5,<0.6.0,>=0.4.0->langchain-chroma==0.1.3) (0.32.1)\n",
            "Requirement already satisfied: posthog>=2.4.0 in /usr/local/lib/python3.10/dist-packages (from chromadb!=0.5.4,!=0.5.5,<0.6.0,>=0.4.0->langchain-chroma==0.1.3) (3.7.2)\n",
            "Requirement already satisfied: typing-extensions>=4.5.0 in /usr/local/lib/python3.10/dist-packages (from chromadb!=0.5.4,!=0.5.5,<0.6.0,>=0.4.0->langchain-chroma==0.1.3) (4.12.2)\n",
            "Requirement already satisfied: onnxruntime>=1.14.1 in /usr/local/lib/python3.10/dist-packages (from chromadb!=0.5.4,!=0.5.5,<0.6.0,>=0.4.0->langchain-chroma==0.1.3) (1.20.1)\n",
            "Requirement already satisfied: opentelemetry-api>=1.2.0 in /usr/local/lib/python3.10/dist-packages (from chromadb!=0.5.4,!=0.5.5,<0.6.0,>=0.4.0->langchain-chroma==0.1.3) (1.28.2)\n",
            "Requirement already satisfied: opentelemetry-exporter-otlp-proto-grpc>=1.2.0 in /usr/local/lib/python3.10/dist-packages (from chromadb!=0.5.4,!=0.5.5,<0.6.0,>=0.4.0->langchain-chroma==0.1.3) (1.28.2)\n",
            "Requirement already satisfied: opentelemetry-instrumentation-fastapi>=0.41b0 in /usr/local/lib/python3.10/dist-packages (from chromadb!=0.5.4,!=0.5.5,<0.6.0,>=0.4.0->langchain-chroma==0.1.3) (0.49b2)\n",
            "Requirement already satisfied: opentelemetry-sdk>=1.2.0 in /usr/local/lib/python3.10/dist-packages (from chromadb!=0.5.4,!=0.5.5,<0.6.0,>=0.4.0->langchain-chroma==0.1.3) (1.28.2)\n",
            "Requirement already satisfied: tokenizers>=0.13.2 in /usr/local/lib/python3.10/dist-packages (from chromadb!=0.5.4,!=0.5.5,<0.6.0,>=0.4.0->langchain-chroma==0.1.3) (0.20.3)\n",
            "Requirement already satisfied: pypika>=0.48.9 in /usr/local/lib/python3.10/dist-packages (from chromadb!=0.5.4,!=0.5.5,<0.6.0,>=0.4.0->langchain-chroma==0.1.3) (0.48.9)\n",
            "Requirement already satisfied: tqdm>=4.65.0 in /usr/local/lib/python3.10/dist-packages (from chromadb!=0.5.4,!=0.5.5,<0.6.0,>=0.4.0->langchain-chroma==0.1.3) (4.66.6)\n",
            "Requirement already satisfied: overrides>=7.3.1 in /usr/local/lib/python3.10/dist-packages (from chromadb!=0.5.4,!=0.5.5,<0.6.0,>=0.4.0->langchain-chroma==0.1.3) (7.7.0)\n",
            "Requirement already satisfied: importlib-resources in /usr/local/lib/python3.10/dist-packages (from chromadb!=0.5.4,!=0.5.5,<0.6.0,>=0.4.0->langchain-chroma==0.1.3) (6.4.5)\n",
            "Requirement already satisfied: grpcio>=1.58.0 in /usr/local/lib/python3.10/dist-packages (from chromadb!=0.5.4,!=0.5.5,<0.6.0,>=0.4.0->langchain-chroma==0.1.3) (1.68.0)\n",
            "Requirement already satisfied: bcrypt>=4.0.1 in /usr/local/lib/python3.10/dist-packages (from chromadb!=0.5.4,!=0.5.5,<0.6.0,>=0.4.0->langchain-chroma==0.1.3) (4.2.1)\n",
            "Requirement already satisfied: typer>=0.9.0 in /usr/local/lib/python3.10/dist-packages (from chromadb!=0.5.4,!=0.5.5,<0.6.0,>=0.4.0->langchain-chroma==0.1.3) (0.13.0)\n",
            "Requirement already satisfied: kubernetes>=28.1.0 in /usr/local/lib/python3.10/dist-packages (from chromadb!=0.5.4,!=0.5.5,<0.6.0,>=0.4.0->langchain-chroma==0.1.3) (31.0.0)\n",
            "Requirement already satisfied: tenacity>=8.2.3 in /usr/local/lib/python3.10/dist-packages (from chromadb!=0.5.4,!=0.5.5,<0.6.0,>=0.4.0->langchain-chroma==0.1.3) (8.5.0)\n",
            "Requirement already satisfied: PyYAML>=6.0.0 in /usr/local/lib/python3.10/dist-packages (from chromadb!=0.5.4,!=0.5.5,<0.6.0,>=0.4.0->langchain-chroma==0.1.3) (6.0.2)\n",
            "Requirement already satisfied: mmh3>=4.0.1 in /usr/local/lib/python3.10/dist-packages (from chromadb!=0.5.4,!=0.5.5,<0.6.0,>=0.4.0->langchain-chroma==0.1.3) (5.0.1)\n",
            "Requirement already satisfied: orjson>=3.9.12 in /usr/local/lib/python3.10/dist-packages (from chromadb!=0.5.4,!=0.5.5,<0.6.0,>=0.4.0->langchain-chroma==0.1.3) (3.10.11)\n",
            "Requirement already satisfied: httpx>=0.27.0 in /usr/local/lib/python3.10/dist-packages (from chromadb!=0.5.4,!=0.5.5,<0.6.0,>=0.4.0->langchain-chroma==0.1.3) (0.27.2)\n",
            "Requirement already satisfied: rich>=10.11.0 in /usr/local/lib/python3.10/dist-packages (from chromadb!=0.5.4,!=0.5.5,<0.6.0,>=0.4.0->langchain-chroma==0.1.3) (13.9.4)\n",
            "Requirement already satisfied: starlette<0.42.0,>=0.40.0 in /usr/local/lib/python3.10/dist-packages (from fastapi<1,>=0.95.2->langchain-chroma==0.1.3) (0.41.3)\n",
            "Requirement already satisfied: jsonpatch<2.0,>=1.33 in /usr/local/lib/python3.10/dist-packages (from langchain-core<0.3,>=0.1.40->langchain-chroma==0.1.3) (1.33)\n",
            "Requirement already satisfied: langsmith<0.2.0,>=0.1.112 in /usr/local/lib/python3.10/dist-packages (from langchain-core<0.3,>=0.1.40->langchain-chroma==0.1.3) (0.1.143)\n",
            "Requirement already satisfied: packaging<25,>=23.2 in /usr/local/lib/python3.10/dist-packages (from langchain-core<0.3,>=0.1.40->langchain-chroma==0.1.3) (24.2)\n",
            "Requirement already satisfied: pyproject_hooks in /usr/local/lib/python3.10/dist-packages (from build>=1.0.3->chromadb!=0.5.4,!=0.5.5,<0.6.0,>=0.4.0->langchain-chroma==0.1.3) (1.2.0)\n",
            "Requirement already satisfied: tomli>=1.1.0 in /usr/local/lib/python3.10/dist-packages (from build>=1.0.3->chromadb!=0.5.4,!=0.5.5,<0.6.0,>=0.4.0->langchain-chroma==0.1.3) (2.1.0)\n",
            "Requirement already satisfied: anyio in /usr/local/lib/python3.10/dist-packages (from httpx>=0.27.0->chromadb!=0.5.4,!=0.5.5,<0.6.0,>=0.4.0->langchain-chroma==0.1.3) (3.7.1)\n",
            "Requirement already satisfied: certifi in /usr/local/lib/python3.10/dist-packages (from httpx>=0.27.0->chromadb!=0.5.4,!=0.5.5,<0.6.0,>=0.4.0->langchain-chroma==0.1.3) (2024.8.30)\n",
            "Requirement already satisfied: httpcore==1.* in /usr/local/lib/python3.10/dist-packages (from httpx>=0.27.0->chromadb!=0.5.4,!=0.5.5,<0.6.0,>=0.4.0->langchain-chroma==0.1.3) (1.0.7)\n",
            "Requirement already satisfied: idna in /usr/local/lib/python3.10/dist-packages (from httpx>=0.27.0->chromadb!=0.5.4,!=0.5.5,<0.6.0,>=0.4.0->langchain-chroma==0.1.3) (3.10)\n",
            "Requirement already satisfied: sniffio in /usr/local/lib/python3.10/dist-packages (from httpx>=0.27.0->chromadb!=0.5.4,!=0.5.5,<0.6.0,>=0.4.0->langchain-chroma==0.1.3) (1.3.1)\n",
            "Requirement already satisfied: h11<0.15,>=0.13 in /usr/local/lib/python3.10/dist-packages (from httpcore==1.*->httpx>=0.27.0->chromadb!=0.5.4,!=0.5.5,<0.6.0,>=0.4.0->langchain-chroma==0.1.3) (0.14.0)\n",
            "Requirement already satisfied: jsonpointer>=1.9 in /usr/local/lib/python3.10/dist-packages (from jsonpatch<2.0,>=1.33->langchain-core<0.3,>=0.1.40->langchain-chroma==0.1.3) (3.0.0)\n",
            "Requirement already satisfied: six>=1.9.0 in /usr/local/lib/python3.10/dist-packages (from kubernetes>=28.1.0->chromadb!=0.5.4,!=0.5.5,<0.6.0,>=0.4.0->langchain-chroma==0.1.3) (1.16.0)\n",
            "Requirement already satisfied: python-dateutil>=2.5.3 in /usr/local/lib/python3.10/dist-packages (from kubernetes>=28.1.0->chromadb!=0.5.4,!=0.5.5,<0.6.0,>=0.4.0->langchain-chroma==0.1.3) (2.8.2)\n",
            "Requirement already satisfied: google-auth>=1.0.1 in /usr/local/lib/python3.10/dist-packages (from kubernetes>=28.1.0->chromadb!=0.5.4,!=0.5.5,<0.6.0,>=0.4.0->langchain-chroma==0.1.3) (2.27.0)\n",
            "Requirement already satisfied: websocket-client!=0.40.0,!=0.41.*,!=0.42.*,>=0.32.0 in /usr/local/lib/python3.10/dist-packages (from kubernetes>=28.1.0->chromadb!=0.5.4,!=0.5.5,<0.6.0,>=0.4.0->langchain-chroma==0.1.3) (1.8.0)\n",
            "Requirement already satisfied: requests in /usr/local/lib/python3.10/dist-packages (from kubernetes>=28.1.0->chromadb!=0.5.4,!=0.5.5,<0.6.0,>=0.4.0->langchain-chroma==0.1.3) (2.32.3)\n",
            "Requirement already satisfied: requests-oauthlib in /usr/local/lib/python3.10/dist-packages (from kubernetes>=28.1.0->chromadb!=0.5.4,!=0.5.5,<0.6.0,>=0.4.0->langchain-chroma==0.1.3) (1.3.1)\n",
            "Requirement already satisfied: oauthlib>=3.2.2 in /usr/local/lib/python3.10/dist-packages (from kubernetes>=28.1.0->chromadb!=0.5.4,!=0.5.5,<0.6.0,>=0.4.0->langchain-chroma==0.1.3) (3.2.2)\n",
            "Requirement already satisfied: urllib3>=1.24.2 in /usr/local/lib/python3.10/dist-packages (from kubernetes>=28.1.0->chromadb!=0.5.4,!=0.5.5,<0.6.0,>=0.4.0->langchain-chroma==0.1.3) (2.2.3)\n",
            "Requirement already satisfied: durationpy>=0.7 in /usr/local/lib/python3.10/dist-packages (from kubernetes>=28.1.0->chromadb!=0.5.4,!=0.5.5,<0.6.0,>=0.4.0->langchain-chroma==0.1.3) (0.9)\n",
            "Requirement already satisfied: requests-toolbelt<2.0.0,>=1.0.0 in /usr/local/lib/python3.10/dist-packages (from langsmith<0.2.0,>=0.1.112->langchain-core<0.3,>=0.1.40->langchain-chroma==0.1.3) (1.0.0)\n",
            "Requirement already satisfied: coloredlogs in /usr/local/lib/python3.10/dist-packages (from onnxruntime>=1.14.1->chromadb!=0.5.4,!=0.5.5,<0.6.0,>=0.4.0->langchain-chroma==0.1.3) (15.0.1)\n",
            "Requirement already satisfied: flatbuffers in /usr/local/lib/python3.10/dist-packages (from onnxruntime>=1.14.1->chromadb!=0.5.4,!=0.5.5,<0.6.0,>=0.4.0->langchain-chroma==0.1.3) (24.3.25)\n",
            "Requirement already satisfied: protobuf in /usr/local/lib/python3.10/dist-packages (from onnxruntime>=1.14.1->chromadb!=0.5.4,!=0.5.5,<0.6.0,>=0.4.0->langchain-chroma==0.1.3) (5.28.3)\n",
            "Requirement already satisfied: sympy in /usr/local/lib/python3.10/dist-packages (from onnxruntime>=1.14.1->chromadb!=0.5.4,!=0.5.5,<0.6.0,>=0.4.0->langchain-chroma==0.1.3) (1.13.1)\n",
            "Requirement already satisfied: deprecated>=1.2.6 in /usr/local/lib/python3.10/dist-packages (from opentelemetry-api>=1.2.0->chromadb!=0.5.4,!=0.5.5,<0.6.0,>=0.4.0->langchain-chroma==0.1.3) (1.2.15)\n",
            "Requirement already satisfied: importlib-metadata<=8.5.0,>=6.0 in /usr/local/lib/python3.10/dist-packages (from opentelemetry-api>=1.2.0->chromadb!=0.5.4,!=0.5.5,<0.6.0,>=0.4.0->langchain-chroma==0.1.3) (8.5.0)\n",
            "Requirement already satisfied: googleapis-common-protos~=1.52 in /usr/local/lib/python3.10/dist-packages (from opentelemetry-exporter-otlp-proto-grpc>=1.2.0->chromadb!=0.5.4,!=0.5.5,<0.6.0,>=0.4.0->langchain-chroma==0.1.3) (1.66.0)\n",
            "Requirement already satisfied: opentelemetry-exporter-otlp-proto-common==1.28.2 in /usr/local/lib/python3.10/dist-packages (from opentelemetry-exporter-otlp-proto-grpc>=1.2.0->chromadb!=0.5.4,!=0.5.5,<0.6.0,>=0.4.0->langchain-chroma==0.1.3) (1.28.2)\n",
            "Requirement already satisfied: opentelemetry-proto==1.28.2 in /usr/local/lib/python3.10/dist-packages (from opentelemetry-exporter-otlp-proto-grpc>=1.2.0->chromadb!=0.5.4,!=0.5.5,<0.6.0,>=0.4.0->langchain-chroma==0.1.3) (1.28.2)\n",
            "Requirement already satisfied: opentelemetry-instrumentation-asgi==0.49b2 in /usr/local/lib/python3.10/dist-packages (from opentelemetry-instrumentation-fastapi>=0.41b0->chromadb!=0.5.4,!=0.5.5,<0.6.0,>=0.4.0->langchain-chroma==0.1.3) (0.49b2)\n",
            "Requirement already satisfied: opentelemetry-instrumentation==0.49b2 in /usr/local/lib/python3.10/dist-packages (from opentelemetry-instrumentation-fastapi>=0.41b0->chromadb!=0.5.4,!=0.5.5,<0.6.0,>=0.4.0->langchain-chroma==0.1.3) (0.49b2)\n",
            "Requirement already satisfied: opentelemetry-semantic-conventions==0.49b2 in /usr/local/lib/python3.10/dist-packages (from opentelemetry-instrumentation-fastapi>=0.41b0->chromadb!=0.5.4,!=0.5.5,<0.6.0,>=0.4.0->langchain-chroma==0.1.3) (0.49b2)\n",
            "Requirement already satisfied: opentelemetry-util-http==0.49b2 in /usr/local/lib/python3.10/dist-packages (from opentelemetry-instrumentation-fastapi>=0.41b0->chromadb!=0.5.4,!=0.5.5,<0.6.0,>=0.4.0->langchain-chroma==0.1.3) (0.49b2)\n",
            "Requirement already satisfied: wrapt<2.0.0,>=1.0.0 in /usr/local/lib/python3.10/dist-packages (from opentelemetry-instrumentation==0.49b2->opentelemetry-instrumentation-fastapi>=0.41b0->chromadb!=0.5.4,!=0.5.5,<0.6.0,>=0.4.0->langchain-chroma==0.1.3) (1.16.0)\n",
            "Requirement already satisfied: asgiref~=3.0 in /usr/local/lib/python3.10/dist-packages (from opentelemetry-instrumentation-asgi==0.49b2->opentelemetry-instrumentation-fastapi>=0.41b0->chromadb!=0.5.4,!=0.5.5,<0.6.0,>=0.4.0->langchain-chroma==0.1.3) (3.8.1)\n",
            "Requirement already satisfied: monotonic>=1.5 in /usr/local/lib/python3.10/dist-packages (from posthog>=2.4.0->chromadb!=0.5.4,!=0.5.5,<0.6.0,>=0.4.0->langchain-chroma==0.1.3) (1.6)\n",
            "Requirement already satisfied: backoff>=1.10.0 in /usr/local/lib/python3.10/dist-packages (from posthog>=2.4.0->chromadb!=0.5.4,!=0.5.5,<0.6.0,>=0.4.0->langchain-chroma==0.1.3) (2.2.1)\n",
            "Requirement already satisfied: annotated-types>=0.6.0 in /usr/local/lib/python3.10/dist-packages (from pydantic>=1.9->chromadb!=0.5.4,!=0.5.5,<0.6.0,>=0.4.0->langchain-chroma==0.1.3) (0.7.0)\n",
            "Requirement already satisfied: pydantic-core==2.23.4 in /usr/local/lib/python3.10/dist-packages (from pydantic>=1.9->chromadb!=0.5.4,!=0.5.5,<0.6.0,>=0.4.0->langchain-chroma==0.1.3) (2.23.4)\n",
            "Requirement already satisfied: markdown-it-py>=2.2.0 in /usr/local/lib/python3.10/dist-packages (from rich>=10.11.0->chromadb!=0.5.4,!=0.5.5,<0.6.0,>=0.4.0->langchain-chroma==0.1.3) (3.0.0)\n",
            "Requirement already satisfied: pygments<3.0.0,>=2.13.0 in /usr/local/lib/python3.10/dist-packages (from rich>=10.11.0->chromadb!=0.5.4,!=0.5.5,<0.6.0,>=0.4.0->langchain-chroma==0.1.3) (2.18.0)\n",
            "Requirement already satisfied: huggingface-hub<1.0,>=0.16.4 in /usr/local/lib/python3.10/dist-packages (from tokenizers>=0.13.2->chromadb!=0.5.4,!=0.5.5,<0.6.0,>=0.4.0->langchain-chroma==0.1.3) (0.26.2)\n",
            "Requirement already satisfied: click>=8.0.0 in /usr/local/lib/python3.10/dist-packages (from typer>=0.9.0->chromadb!=0.5.4,!=0.5.5,<0.6.0,>=0.4.0->langchain-chroma==0.1.3) (8.1.7)\n",
            "Requirement already satisfied: shellingham>=1.3.0 in /usr/local/lib/python3.10/dist-packages (from typer>=0.9.0->chromadb!=0.5.4,!=0.5.5,<0.6.0,>=0.4.0->langchain-chroma==0.1.3) (1.5.4)\n",
            "Requirement already satisfied: httptools>=0.6.3 in /usr/local/lib/python3.10/dist-packages (from uvicorn[standard]>=0.18.3->chromadb!=0.5.4,!=0.5.5,<0.6.0,>=0.4.0->langchain-chroma==0.1.3) (0.6.4)\n",
            "Requirement already satisfied: python-dotenv>=0.13 in /usr/local/lib/python3.10/dist-packages (from uvicorn[standard]>=0.18.3->chromadb!=0.5.4,!=0.5.5,<0.6.0,>=0.4.0->langchain-chroma==0.1.3) (1.0.1)\n",
            "Requirement already satisfied: uvloop!=0.15.0,!=0.15.1,>=0.14.0 in /usr/local/lib/python3.10/dist-packages (from uvicorn[standard]>=0.18.3->chromadb!=0.5.4,!=0.5.5,<0.6.0,>=0.4.0->langchain-chroma==0.1.3) (0.21.0)\n",
            "Requirement already satisfied: watchfiles>=0.13 in /usr/local/lib/python3.10/dist-packages (from uvicorn[standard]>=0.18.3->chromadb!=0.5.4,!=0.5.5,<0.6.0,>=0.4.0->langchain-chroma==0.1.3) (0.24.0)\n",
            "Requirement already satisfied: websockets>=10.4 in /usr/local/lib/python3.10/dist-packages (from uvicorn[standard]>=0.18.3->chromadb!=0.5.4,!=0.5.5,<0.6.0,>=0.4.0->langchain-chroma==0.1.3) (14.1)\n",
            "Requirement already satisfied: exceptiongroup in /usr/local/lib/python3.10/dist-packages (from anyio->httpx>=0.27.0->chromadb!=0.5.4,!=0.5.5,<0.6.0,>=0.4.0->langchain-chroma==0.1.3) (1.2.2)\n",
            "Requirement already satisfied: cachetools<6.0,>=2.0.0 in /usr/local/lib/python3.10/dist-packages (from google-auth>=1.0.1->kubernetes>=28.1.0->chromadb!=0.5.4,!=0.5.5,<0.6.0,>=0.4.0->langchain-chroma==0.1.3) (5.5.0)\n",
            "Requirement already satisfied: pyasn1-modules>=0.2.1 in /usr/local/lib/python3.10/dist-packages (from google-auth>=1.0.1->kubernetes>=28.1.0->chromadb!=0.5.4,!=0.5.5,<0.6.0,>=0.4.0->langchain-chroma==0.1.3) (0.4.1)\n",
            "Requirement already satisfied: rsa<5,>=3.1.4 in /usr/local/lib/python3.10/dist-packages (from google-auth>=1.0.1->kubernetes>=28.1.0->chromadb!=0.5.4,!=0.5.5,<0.6.0,>=0.4.0->langchain-chroma==0.1.3) (4.9)\n",
            "Requirement already satisfied: filelock in /usr/local/lib/python3.10/dist-packages (from huggingface-hub<1.0,>=0.16.4->tokenizers>=0.13.2->chromadb!=0.5.4,!=0.5.5,<0.6.0,>=0.4.0->langchain-chroma==0.1.3) (3.16.1)\n",
            "Requirement already satisfied: fsspec>=2023.5.0 in /usr/local/lib/python3.10/dist-packages (from huggingface-hub<1.0,>=0.16.4->tokenizers>=0.13.2->chromadb!=0.5.4,!=0.5.5,<0.6.0,>=0.4.0->langchain-chroma==0.1.3) (2024.10.0)\n",
            "Requirement already satisfied: zipp>=3.20 in /usr/local/lib/python3.10/dist-packages (from importlib-metadata<=8.5.0,>=6.0->opentelemetry-api>=1.2.0->chromadb!=0.5.4,!=0.5.5,<0.6.0,>=0.4.0->langchain-chroma==0.1.3) (3.21.0)\n",
            "Requirement already satisfied: mdurl~=0.1 in /usr/local/lib/python3.10/dist-packages (from markdown-it-py>=2.2.0->rich>=10.11.0->chromadb!=0.5.4,!=0.5.5,<0.6.0,>=0.4.0->langchain-chroma==0.1.3) (0.1.2)\n",
            "Requirement already satisfied: charset-normalizer<4,>=2 in /usr/local/lib/python3.10/dist-packages (from requests->kubernetes>=28.1.0->chromadb!=0.5.4,!=0.5.5,<0.6.0,>=0.4.0->langchain-chroma==0.1.3) (3.4.0)\n",
            "Requirement already satisfied: humanfriendly>=9.1 in /usr/local/lib/python3.10/dist-packages (from coloredlogs->onnxruntime>=1.14.1->chromadb!=0.5.4,!=0.5.5,<0.6.0,>=0.4.0->langchain-chroma==0.1.3) (10.0)\n",
            "Requirement already satisfied: mpmath<1.4,>=1.1.0 in /usr/local/lib/python3.10/dist-packages (from sympy->onnxruntime>=1.14.1->chromadb!=0.5.4,!=0.5.5,<0.6.0,>=0.4.0->langchain-chroma==0.1.3) (1.3.0)\n",
            "Requirement already satisfied: pyasn1<0.7.0,>=0.4.6 in /usr/local/lib/python3.10/dist-packages (from pyasn1-modules>=0.2.1->google-auth>=1.0.1->kubernetes>=28.1.0->chromadb!=0.5.4,!=0.5.5,<0.6.0,>=0.4.0->langchain-chroma==0.1.3) (0.6.1)\n",
            "Requirement already satisfied: langchain-text-splitters==0.2.2 in /usr/local/lib/python3.10/dist-packages (0.2.2)\n",
            "Requirement already satisfied: langchain-core<0.3.0,>=0.2.10 in /usr/local/lib/python3.10/dist-packages (from langchain-text-splitters==0.2.2) (0.2.43)\n",
            "Requirement already satisfied: PyYAML>=5.3 in /usr/local/lib/python3.10/dist-packages (from langchain-core<0.3.0,>=0.2.10->langchain-text-splitters==0.2.2) (6.0.2)\n",
            "Requirement already satisfied: jsonpatch<2.0,>=1.33 in /usr/local/lib/python3.10/dist-packages (from langchain-core<0.3.0,>=0.2.10->langchain-text-splitters==0.2.2) (1.33)\n",
            "Requirement already satisfied: langsmith<0.2.0,>=0.1.112 in /usr/local/lib/python3.10/dist-packages (from langchain-core<0.3.0,>=0.2.10->langchain-text-splitters==0.2.2) (0.1.143)\n",
            "Requirement already satisfied: packaging<25,>=23.2 in /usr/local/lib/python3.10/dist-packages (from langchain-core<0.3.0,>=0.2.10->langchain-text-splitters==0.2.2) (24.2)\n",
            "Requirement already satisfied: pydantic<3,>=1 in /usr/local/lib/python3.10/dist-packages (from langchain-core<0.3.0,>=0.2.10->langchain-text-splitters==0.2.2) (2.9.2)\n",
            "Requirement already satisfied: tenacity!=8.4.0,<9.0.0,>=8.1.0 in /usr/local/lib/python3.10/dist-packages (from langchain-core<0.3.0,>=0.2.10->langchain-text-splitters==0.2.2) (8.5.0)\n",
            "Requirement already satisfied: typing-extensions>=4.7 in /usr/local/lib/python3.10/dist-packages (from langchain-core<0.3.0,>=0.2.10->langchain-text-splitters==0.2.2) (4.12.2)\n",
            "Requirement already satisfied: jsonpointer>=1.9 in /usr/local/lib/python3.10/dist-packages (from jsonpatch<2.0,>=1.33->langchain-core<0.3.0,>=0.2.10->langchain-text-splitters==0.2.2) (3.0.0)\n",
            "Requirement already satisfied: httpx<1,>=0.23.0 in /usr/local/lib/python3.10/dist-packages (from langsmith<0.2.0,>=0.1.112->langchain-core<0.3.0,>=0.2.10->langchain-text-splitters==0.2.2) (0.27.2)\n",
            "Requirement already satisfied: orjson<4.0.0,>=3.9.14 in /usr/local/lib/python3.10/dist-packages (from langsmith<0.2.0,>=0.1.112->langchain-core<0.3.0,>=0.2.10->langchain-text-splitters==0.2.2) (3.10.11)\n",
            "Requirement already satisfied: requests<3,>=2 in /usr/local/lib/python3.10/dist-packages (from langsmith<0.2.0,>=0.1.112->langchain-core<0.3.0,>=0.2.10->langchain-text-splitters==0.2.2) (2.32.3)\n",
            "Requirement already satisfied: requests-toolbelt<2.0.0,>=1.0.0 in /usr/local/lib/python3.10/dist-packages (from langsmith<0.2.0,>=0.1.112->langchain-core<0.3.0,>=0.2.10->langchain-text-splitters==0.2.2) (1.0.0)\n",
            "Requirement already satisfied: annotated-types>=0.6.0 in /usr/local/lib/python3.10/dist-packages (from pydantic<3,>=1->langchain-core<0.3.0,>=0.2.10->langchain-text-splitters==0.2.2) (0.7.0)\n",
            "Requirement already satisfied: pydantic-core==2.23.4 in /usr/local/lib/python3.10/dist-packages (from pydantic<3,>=1->langchain-core<0.3.0,>=0.2.10->langchain-text-splitters==0.2.2) (2.23.4)\n",
            "Requirement already satisfied: anyio in /usr/local/lib/python3.10/dist-packages (from httpx<1,>=0.23.0->langsmith<0.2.0,>=0.1.112->langchain-core<0.3.0,>=0.2.10->langchain-text-splitters==0.2.2) (3.7.1)\n",
            "Requirement already satisfied: certifi in /usr/local/lib/python3.10/dist-packages (from httpx<1,>=0.23.0->langsmith<0.2.0,>=0.1.112->langchain-core<0.3.0,>=0.2.10->langchain-text-splitters==0.2.2) (2024.8.30)\n",
            "Requirement already satisfied: httpcore==1.* in /usr/local/lib/python3.10/dist-packages (from httpx<1,>=0.23.0->langsmith<0.2.0,>=0.1.112->langchain-core<0.3.0,>=0.2.10->langchain-text-splitters==0.2.2) (1.0.7)\n",
            "Requirement already satisfied: idna in /usr/local/lib/python3.10/dist-packages (from httpx<1,>=0.23.0->langsmith<0.2.0,>=0.1.112->langchain-core<0.3.0,>=0.2.10->langchain-text-splitters==0.2.2) (3.10)\n",
            "Requirement already satisfied: sniffio in /usr/local/lib/python3.10/dist-packages (from httpx<1,>=0.23.0->langsmith<0.2.0,>=0.1.112->langchain-core<0.3.0,>=0.2.10->langchain-text-splitters==0.2.2) (1.3.1)\n",
            "Requirement already satisfied: h11<0.15,>=0.13 in /usr/local/lib/python3.10/dist-packages (from httpcore==1.*->httpx<1,>=0.23.0->langsmith<0.2.0,>=0.1.112->langchain-core<0.3.0,>=0.2.10->langchain-text-splitters==0.2.2) (0.14.0)\n",
            "Requirement already satisfied: charset-normalizer<4,>=2 in /usr/local/lib/python3.10/dist-packages (from requests<3,>=2->langsmith<0.2.0,>=0.1.112->langchain-core<0.3.0,>=0.2.10->langchain-text-splitters==0.2.2) (3.4.0)\n",
            "Requirement already satisfied: urllib3<3,>=1.21.1 in /usr/local/lib/python3.10/dist-packages (from requests<3,>=2->langsmith<0.2.0,>=0.1.112->langchain-core<0.3.0,>=0.2.10->langchain-text-splitters==0.2.2) (2.2.3)\n",
            "Requirement already satisfied: exceptiongroup in /usr/local/lib/python3.10/dist-packages (from anyio->httpx<1,>=0.23.0->langsmith<0.2.0,>=0.1.112->langchain-core<0.3.0,>=0.2.10->langchain-text-splitters==0.2.2) (1.2.2)\n",
            "Requirement already satisfied: langchain-huggingface==0.0.3 in /usr/local/lib/python3.10/dist-packages (0.0.3)\n",
            "Requirement already satisfied: huggingface-hub>=0.23.0 in /usr/local/lib/python3.10/dist-packages (from langchain-huggingface==0.0.3) (0.26.2)\n",
            "Requirement already satisfied: langchain-core<0.3,>=0.1.52 in /usr/local/lib/python3.10/dist-packages (from langchain-huggingface==0.0.3) (0.2.43)\n",
            "Requirement already satisfied: sentence-transformers>=2.6.0 in /usr/local/lib/python3.10/dist-packages (from langchain-huggingface==0.0.3) (3.2.1)\n",
            "Requirement already satisfied: tokenizers>=0.19.1 in /usr/local/lib/python3.10/dist-packages (from langchain-huggingface==0.0.3) (0.20.3)\n",
            "Requirement already satisfied: transformers>=4.39.0 in /usr/local/lib/python3.10/dist-packages (from langchain-huggingface==0.0.3) (4.46.2)\n",
            "Requirement already satisfied: filelock in /usr/local/lib/python3.10/dist-packages (from huggingface-hub>=0.23.0->langchain-huggingface==0.0.3) (3.16.1)\n",
            "Requirement already satisfied: fsspec>=2023.5.0 in /usr/local/lib/python3.10/dist-packages (from huggingface-hub>=0.23.0->langchain-huggingface==0.0.3) (2024.10.0)\n",
            "Requirement already satisfied: packaging>=20.9 in /usr/local/lib/python3.10/dist-packages (from huggingface-hub>=0.23.0->langchain-huggingface==0.0.3) (24.2)\n",
            "Requirement already satisfied: pyyaml>=5.1 in /usr/local/lib/python3.10/dist-packages (from huggingface-hub>=0.23.0->langchain-huggingface==0.0.3) (6.0.2)\n",
            "Requirement already satisfied: requests in /usr/local/lib/python3.10/dist-packages (from huggingface-hub>=0.23.0->langchain-huggingface==0.0.3) (2.32.3)\n",
            "Requirement already satisfied: tqdm>=4.42.1 in /usr/local/lib/python3.10/dist-packages (from huggingface-hub>=0.23.0->langchain-huggingface==0.0.3) (4.66.6)\n",
            "Requirement already satisfied: typing-extensions>=3.7.4.3 in /usr/local/lib/python3.10/dist-packages (from huggingface-hub>=0.23.0->langchain-huggingface==0.0.3) (4.12.2)\n",
            "Requirement already satisfied: jsonpatch<2.0,>=1.33 in /usr/local/lib/python3.10/dist-packages (from langchain-core<0.3,>=0.1.52->langchain-huggingface==0.0.3) (1.33)\n",
            "Requirement already satisfied: langsmith<0.2.0,>=0.1.112 in /usr/local/lib/python3.10/dist-packages (from langchain-core<0.3,>=0.1.52->langchain-huggingface==0.0.3) (0.1.143)\n",
            "Requirement already satisfied: pydantic<3,>=1 in /usr/local/lib/python3.10/dist-packages (from langchain-core<0.3,>=0.1.52->langchain-huggingface==0.0.3) (2.9.2)\n",
            "Requirement already satisfied: tenacity!=8.4.0,<9.0.0,>=8.1.0 in /usr/local/lib/python3.10/dist-packages (from langchain-core<0.3,>=0.1.52->langchain-huggingface==0.0.3) (8.5.0)\n",
            "Requirement already satisfied: torch>=1.11.0 in /usr/local/lib/python3.10/dist-packages (from sentence-transformers>=2.6.0->langchain-huggingface==0.0.3) (2.5.1+cu121)\n",
            "Requirement already satisfied: scikit-learn in /usr/local/lib/python3.10/dist-packages (from sentence-transformers>=2.6.0->langchain-huggingface==0.0.3) (1.5.2)\n",
            "Requirement already satisfied: scipy in /usr/local/lib/python3.10/dist-packages (from sentence-transformers>=2.6.0->langchain-huggingface==0.0.3) (1.13.1)\n",
            "Requirement already satisfied: Pillow in /usr/local/lib/python3.10/dist-packages (from sentence-transformers>=2.6.0->langchain-huggingface==0.0.3) (11.0.0)\n",
            "Requirement already satisfied: numpy>=1.17 in /usr/local/lib/python3.10/dist-packages (from transformers>=4.39.0->langchain-huggingface==0.0.3) (1.26.4)\n",
            "Requirement already satisfied: regex!=2019.12.17 in /usr/local/lib/python3.10/dist-packages (from transformers>=4.39.0->langchain-huggingface==0.0.3) (2024.9.11)\n",
            "Requirement already satisfied: safetensors>=0.4.1 in /usr/local/lib/python3.10/dist-packages (from transformers>=4.39.0->langchain-huggingface==0.0.3) (0.4.5)\n",
            "Requirement already satisfied: jsonpointer>=1.9 in /usr/local/lib/python3.10/dist-packages (from jsonpatch<2.0,>=1.33->langchain-core<0.3,>=0.1.52->langchain-huggingface==0.0.3) (3.0.0)\n",
            "Requirement already satisfied: httpx<1,>=0.23.0 in /usr/local/lib/python3.10/dist-packages (from langsmith<0.2.0,>=0.1.112->langchain-core<0.3,>=0.1.52->langchain-huggingface==0.0.3) (0.27.2)\n",
            "Requirement already satisfied: orjson<4.0.0,>=3.9.14 in /usr/local/lib/python3.10/dist-packages (from langsmith<0.2.0,>=0.1.112->langchain-core<0.3,>=0.1.52->langchain-huggingface==0.0.3) (3.10.11)\n",
            "Requirement already satisfied: requests-toolbelt<2.0.0,>=1.0.0 in /usr/local/lib/python3.10/dist-packages (from langsmith<0.2.0,>=0.1.112->langchain-core<0.3,>=0.1.52->langchain-huggingface==0.0.3) (1.0.0)\n",
            "Requirement already satisfied: annotated-types>=0.6.0 in /usr/local/lib/python3.10/dist-packages (from pydantic<3,>=1->langchain-core<0.3,>=0.1.52->langchain-huggingface==0.0.3) (0.7.0)\n",
            "Requirement already satisfied: pydantic-core==2.23.4 in /usr/local/lib/python3.10/dist-packages (from pydantic<3,>=1->langchain-core<0.3,>=0.1.52->langchain-huggingface==0.0.3) (2.23.4)\n",
            "Requirement already satisfied: charset-normalizer<4,>=2 in /usr/local/lib/python3.10/dist-packages (from requests->huggingface-hub>=0.23.0->langchain-huggingface==0.0.3) (3.4.0)\n",
            "Requirement already satisfied: idna<4,>=2.5 in /usr/local/lib/python3.10/dist-packages (from requests->huggingface-hub>=0.23.0->langchain-huggingface==0.0.3) (3.10)\n",
            "Requirement already satisfied: urllib3<3,>=1.21.1 in /usr/local/lib/python3.10/dist-packages (from requests->huggingface-hub>=0.23.0->langchain-huggingface==0.0.3) (2.2.3)\n",
            "Requirement already satisfied: certifi>=2017.4.17 in /usr/local/lib/python3.10/dist-packages (from requests->huggingface-hub>=0.23.0->langchain-huggingface==0.0.3) (2024.8.30)\n",
            "Requirement already satisfied: networkx in /usr/local/lib/python3.10/dist-packages (from torch>=1.11.0->sentence-transformers>=2.6.0->langchain-huggingface==0.0.3) (3.4.2)\n",
            "Requirement already satisfied: jinja2 in /usr/local/lib/python3.10/dist-packages (from torch>=1.11.0->sentence-transformers>=2.6.0->langchain-huggingface==0.0.3) (3.1.4)\n",
            "Requirement already satisfied: sympy==1.13.1 in /usr/local/lib/python3.10/dist-packages (from torch>=1.11.0->sentence-transformers>=2.6.0->langchain-huggingface==0.0.3) (1.13.1)\n",
            "Requirement already satisfied: mpmath<1.4,>=1.1.0 in /usr/local/lib/python3.10/dist-packages (from sympy==1.13.1->torch>=1.11.0->sentence-transformers>=2.6.0->langchain-huggingface==0.0.3) (1.3.0)\n",
            "Requirement already satisfied: joblib>=1.2.0 in /usr/local/lib/python3.10/dist-packages (from scikit-learn->sentence-transformers>=2.6.0->langchain-huggingface==0.0.3) (1.4.2)\n",
            "Requirement already satisfied: threadpoolctl>=3.1.0 in /usr/local/lib/python3.10/dist-packages (from scikit-learn->sentence-transformers>=2.6.0->langchain-huggingface==0.0.3) (3.5.0)\n",
            "Requirement already satisfied: anyio in /usr/local/lib/python3.10/dist-packages (from httpx<1,>=0.23.0->langsmith<0.2.0,>=0.1.112->langchain-core<0.3,>=0.1.52->langchain-huggingface==0.0.3) (3.7.1)\n",
            "Requirement already satisfied: httpcore==1.* in /usr/local/lib/python3.10/dist-packages (from httpx<1,>=0.23.0->langsmith<0.2.0,>=0.1.112->langchain-core<0.3,>=0.1.52->langchain-huggingface==0.0.3) (1.0.7)\n",
            "Requirement already satisfied: sniffio in /usr/local/lib/python3.10/dist-packages (from httpx<1,>=0.23.0->langsmith<0.2.0,>=0.1.112->langchain-core<0.3,>=0.1.52->langchain-huggingface==0.0.3) (1.3.1)\n",
            "Requirement already satisfied: h11<0.15,>=0.13 in /usr/local/lib/python3.10/dist-packages (from httpcore==1.*->httpx<1,>=0.23.0->langsmith<0.2.0,>=0.1.112->langchain-core<0.3,>=0.1.52->langchain-huggingface==0.0.3) (0.14.0)\n",
            "Requirement already satisfied: MarkupSafe>=2.0 in /usr/local/lib/python3.10/dist-packages (from jinja2->torch>=1.11.0->sentence-transformers>=2.6.0->langchain-huggingface==0.0.3) (3.0.2)\n",
            "Requirement already satisfied: exceptiongroup in /usr/local/lib/python3.10/dist-packages (from anyio->httpx<1,>=0.23.0->langsmith<0.2.0,>=0.1.112->langchain-core<0.3,>=0.1.52->langchain-huggingface==0.0.3) (1.2.2)\n",
            "Requirement already satisfied: langchain-groq==0.1.9 in /usr/local/lib/python3.10/dist-packages (0.1.9)\n",
            "Requirement already satisfied: unstructured==0.15.0 in /usr/local/lib/python3.10/dist-packages (0.15.0)\n",
            "Requirement already satisfied: nltk==3.8.1 in /usr/local/lib/python3.10/dist-packages (3.8.1)\n",
            "Requirement already satisfied: groq<1,>=0.4.1 in /usr/local/lib/python3.10/dist-packages (from langchain-groq==0.1.9) (0.12.0)\n",
            "Requirement already satisfied: langchain-core<0.3.0,>=0.2.26 in /usr/local/lib/python3.10/dist-packages (from langchain-groq==0.1.9) (0.2.43)\n",
            "Requirement already satisfied: chardet in /usr/local/lib/python3.10/dist-packages (from unstructured==0.15.0) (5.2.0)\n",
            "Requirement already satisfied: filetype in /usr/local/lib/python3.10/dist-packages (from unstructured==0.15.0) (1.2.0)\n",
            "Requirement already satisfied: python-magic in /usr/local/lib/python3.10/dist-packages (from unstructured==0.15.0) (0.4.27)\n",
            "Requirement already satisfied: lxml in /usr/local/lib/python3.10/dist-packages (from unstructured==0.15.0) (5.3.0)\n",
            "Requirement already satisfied: tabulate in /usr/local/lib/python3.10/dist-packages (from unstructured==0.15.0) (0.9.0)\n",
            "Requirement already satisfied: requests in /usr/local/lib/python3.10/dist-packages (from unstructured==0.15.0) (2.32.3)\n",
            "Requirement already satisfied: beautifulsoup4 in /usr/local/lib/python3.10/dist-packages (from unstructured==0.15.0) (4.12.3)\n",
            "Requirement already satisfied: emoji in /usr/local/lib/python3.10/dist-packages (from unstructured==0.15.0) (2.14.0)\n",
            "Requirement already satisfied: dataclasses-json in /usr/local/lib/python3.10/dist-packages (from unstructured==0.15.0) (0.6.7)\n",
            "Requirement already satisfied: python-iso639 in /usr/local/lib/python3.10/dist-packages (from unstructured==0.15.0) (2024.10.22)\n",
            "Requirement already satisfied: langdetect in /usr/local/lib/python3.10/dist-packages (from unstructured==0.15.0) (1.0.9)\n",
            "Requirement already satisfied: numpy<2 in /usr/local/lib/python3.10/dist-packages (from unstructured==0.15.0) (1.26.4)\n",
            "Requirement already satisfied: rapidfuzz in /usr/local/lib/python3.10/dist-packages (from unstructured==0.15.0) (3.10.1)\n",
            "Requirement already satisfied: backoff in /usr/local/lib/python3.10/dist-packages (from unstructured==0.15.0) (2.2.1)\n",
            "Requirement already satisfied: typing-extensions in /usr/local/lib/python3.10/dist-packages (from unstructured==0.15.0) (4.12.2)\n",
            "Requirement already satisfied: unstructured-client in /usr/local/lib/python3.10/dist-packages (from unstructured==0.15.0) (0.28.0)\n",
            "Requirement already satisfied: wrapt in /usr/local/lib/python3.10/dist-packages (from unstructured==0.15.0) (1.16.0)\n",
            "Requirement already satisfied: tqdm in /usr/local/lib/python3.10/dist-packages (from unstructured==0.15.0) (4.66.6)\n",
            "Requirement already satisfied: psutil in /usr/local/lib/python3.10/dist-packages (from unstructured==0.15.0) (5.9.5)\n",
            "Requirement already satisfied: click in /usr/local/lib/python3.10/dist-packages (from nltk==3.8.1) (8.1.7)\n",
            "Requirement already satisfied: joblib in /usr/local/lib/python3.10/dist-packages (from nltk==3.8.1) (1.4.2)\n",
            "Requirement already satisfied: regex>=2021.8.3 in /usr/local/lib/python3.10/dist-packages (from nltk==3.8.1) (2024.9.11)\n",
            "Requirement already satisfied: onnx in /usr/local/lib/python3.10/dist-packages (from unstructured[pdf]==0.15.0) (1.17.0)\n",
            "Requirement already satisfied: pdf2image in /usr/local/lib/python3.10/dist-packages (from unstructured[pdf]==0.15.0) (1.17.0)\n",
            "Requirement already satisfied: pdfminer.six in /usr/local/lib/python3.10/dist-packages (from unstructured[pdf]==0.15.0) (20231228)\n",
            "Requirement already satisfied: pikepdf in /usr/local/lib/python3.10/dist-packages (from unstructured[pdf]==0.15.0) (9.4.2)\n",
            "Requirement already satisfied: pillow-heif in /usr/local/lib/python3.10/dist-packages (from unstructured[pdf]==0.15.0) (0.20.0)\n",
            "Requirement already satisfied: pypdf in /usr/local/lib/python3.10/dist-packages (from unstructured[pdf]==0.15.0) (5.1.0)\n",
            "Requirement already satisfied: pytesseract in /usr/local/lib/python3.10/dist-packages (from unstructured[pdf]==0.15.0) (0.3.13)\n",
            "Requirement already satisfied: google-cloud-vision in /usr/local/lib/python3.10/dist-packages (from unstructured[pdf]==0.15.0) (3.8.1)\n",
            "Requirement already satisfied: effdet in /usr/local/lib/python3.10/dist-packages (from unstructured[pdf]==0.15.0) (0.4.1)\n",
            "Requirement already satisfied: unstructured-inference==0.7.36 in /usr/local/lib/python3.10/dist-packages (from unstructured[pdf]==0.15.0) (0.7.36)\n",
            "Requirement already satisfied: unstructured.pytesseract>=0.3.12 in /usr/local/lib/python3.10/dist-packages (from unstructured[pdf]==0.15.0) (0.3.13)\n",
            "Requirement already satisfied: layoutparser in /usr/local/lib/python3.10/dist-packages (from unstructured-inference==0.7.36->unstructured[pdf]==0.15.0) (0.3.4)\n",
            "Requirement already satisfied: python-multipart in /usr/local/lib/python3.10/dist-packages (from unstructured-inference==0.7.36->unstructured[pdf]==0.15.0) (0.0.17)\n",
            "Requirement already satisfied: huggingface-hub in /usr/local/lib/python3.10/dist-packages (from unstructured-inference==0.7.36->unstructured[pdf]==0.15.0) (0.26.2)\n",
            "Requirement already satisfied: opencv-python!=4.7.0.68 in /usr/local/lib/python3.10/dist-packages (from unstructured-inference==0.7.36->unstructured[pdf]==0.15.0) (4.10.0.84)\n",
            "Requirement already satisfied: onnxruntime>=1.17.0 in /usr/local/lib/python3.10/dist-packages (from unstructured-inference==0.7.36->unstructured[pdf]==0.15.0) (1.20.1)\n",
            "Requirement already satisfied: matplotlib in /usr/local/lib/python3.10/dist-packages (from unstructured-inference==0.7.36->unstructured[pdf]==0.15.0) (3.8.0)\n",
            "Requirement already satisfied: torch in /usr/local/lib/python3.10/dist-packages (from unstructured-inference==0.7.36->unstructured[pdf]==0.15.0) (2.5.1+cu121)\n",
            "Requirement already satisfied: timm in /usr/local/lib/python3.10/dist-packages (from unstructured-inference==0.7.36->unstructured[pdf]==0.15.0) (1.0.11)\n",
            "Requirement already satisfied: transformers>=4.25.1 in /usr/local/lib/python3.10/dist-packages (from unstructured-inference==0.7.36->unstructured[pdf]==0.15.0) (4.46.2)\n",
            "Requirement already satisfied: anyio<5,>=3.5.0 in /usr/local/lib/python3.10/dist-packages (from groq<1,>=0.4.1->langchain-groq==0.1.9) (3.7.1)\n",
            "Requirement already satisfied: distro<2,>=1.7.0 in /usr/local/lib/python3.10/dist-packages (from groq<1,>=0.4.1->langchain-groq==0.1.9) (1.9.0)\n",
            "Requirement already satisfied: httpx<1,>=0.23.0 in /usr/local/lib/python3.10/dist-packages (from groq<1,>=0.4.1->langchain-groq==0.1.9) (0.27.2)\n",
            "Requirement already satisfied: pydantic<3,>=1.9.0 in /usr/local/lib/python3.10/dist-packages (from groq<1,>=0.4.1->langchain-groq==0.1.9) (2.9.2)\n",
            "Requirement already satisfied: sniffio in /usr/local/lib/python3.10/dist-packages (from groq<1,>=0.4.1->langchain-groq==0.1.9) (1.3.1)\n",
            "Requirement already satisfied: PyYAML>=5.3 in /usr/local/lib/python3.10/dist-packages (from langchain-core<0.3.0,>=0.2.26->langchain-groq==0.1.9) (6.0.2)\n",
            "Requirement already satisfied: jsonpatch<2.0,>=1.33 in /usr/local/lib/python3.10/dist-packages (from langchain-core<0.3.0,>=0.2.26->langchain-groq==0.1.9) (1.33)\n",
            "Requirement already satisfied: langsmith<0.2.0,>=0.1.112 in /usr/local/lib/python3.10/dist-packages (from langchain-core<0.3.0,>=0.2.26->langchain-groq==0.1.9) (0.1.143)\n",
            "Requirement already satisfied: packaging<25,>=23.2 in /usr/local/lib/python3.10/dist-packages (from langchain-core<0.3.0,>=0.2.26->langchain-groq==0.1.9) (24.2)\n",
            "Requirement already satisfied: tenacity!=8.4.0,<9.0.0,>=8.1.0 in /usr/local/lib/python3.10/dist-packages (from langchain-core<0.3.0,>=0.2.26->langchain-groq==0.1.9) (8.5.0)\n",
            "Requirement already satisfied: Pillow>=8.0.0 in /usr/local/lib/python3.10/dist-packages (from unstructured.pytesseract>=0.3.12->unstructured[pdf]==0.15.0) (11.0.0)\n",
            "Requirement already satisfied: soupsieve>1.2 in /usr/local/lib/python3.10/dist-packages (from beautifulsoup4->unstructured==0.15.0) (2.6)\n",
            "Requirement already satisfied: marshmallow<4.0.0,>=3.18.0 in /usr/local/lib/python3.10/dist-packages (from dataclasses-json->unstructured==0.15.0) (3.23.1)\n",
            "Requirement already satisfied: typing-inspect<1,>=0.4.0 in /usr/local/lib/python3.10/dist-packages (from dataclasses-json->unstructured==0.15.0) (0.9.0)\n",
            "Requirement already satisfied: torchvision in /usr/local/lib/python3.10/dist-packages (from effdet->unstructured[pdf]==0.15.0) (0.20.1+cu121)\n",
            "Requirement already satisfied: pycocotools>=2.0.2 in /usr/local/lib/python3.10/dist-packages (from effdet->unstructured[pdf]==0.15.0) (2.0.8)\n",
            "Requirement already satisfied: omegaconf>=2.0 in /usr/local/lib/python3.10/dist-packages (from effdet->unstructured[pdf]==0.15.0) (2.3.0)\n",
            "Requirement already satisfied: google-api-core!=2.0.*,!=2.1.*,!=2.10.*,!=2.2.*,!=2.3.*,!=2.4.*,!=2.5.*,!=2.6.*,!=2.7.*,!=2.8.*,!=2.9.*,<3.0.0dev,>=1.34.1 in /usr/local/lib/python3.10/dist-packages (from google-api-core[grpc]!=2.0.*,!=2.1.*,!=2.10.*,!=2.2.*,!=2.3.*,!=2.4.*,!=2.5.*,!=2.6.*,!=2.7.*,!=2.8.*,!=2.9.*,<3.0.0dev,>=1.34.1->google-cloud-vision->unstructured[pdf]==0.15.0) (2.19.2)\n",
            "Requirement already satisfied: google-auth!=2.24.0,!=2.25.0,<3.0.0dev,>=2.14.1 in /usr/local/lib/python3.10/dist-packages (from google-cloud-vision->unstructured[pdf]==0.15.0) (2.27.0)\n",
            "Requirement already satisfied: proto-plus<2.0.0dev,>=1.22.3 in /usr/local/lib/python3.10/dist-packages (from google-cloud-vision->unstructured[pdf]==0.15.0) (1.25.0)\n",
            "Requirement already satisfied: protobuf!=4.21.0,!=4.21.1,!=4.21.2,!=4.21.3,!=4.21.4,!=4.21.5,<6.0.0dev,>=3.20.2 in /usr/local/lib/python3.10/dist-packages (from google-cloud-vision->unstructured[pdf]==0.15.0) (5.28.3)\n",
            "Requirement already satisfied: six in /usr/local/lib/python3.10/dist-packages (from langdetect->unstructured==0.15.0) (1.16.0)\n",
            "Requirement already satisfied: charset-normalizer>=2.0.0 in /usr/local/lib/python3.10/dist-packages (from pdfminer.six->unstructured[pdf]==0.15.0) (3.4.0)\n",
            "Requirement already satisfied: cryptography>=36.0.0 in /usr/local/lib/python3.10/dist-packages (from pdfminer.six->unstructured[pdf]==0.15.0) (43.0.3)\n",
            "Requirement already satisfied: Deprecated in /usr/local/lib/python3.10/dist-packages (from pikepdf->unstructured[pdf]==0.15.0) (1.2.15)\n",
            "Requirement already satisfied: idna<4,>=2.5 in /usr/local/lib/python3.10/dist-packages (from requests->unstructured==0.15.0) (3.10)\n",
            "Requirement already satisfied: urllib3<3,>=1.21.1 in /usr/local/lib/python3.10/dist-packages (from requests->unstructured==0.15.0) (2.2.3)\n",
            "Requirement already satisfied: certifi>=2017.4.17 in /usr/local/lib/python3.10/dist-packages (from requests->unstructured==0.15.0) (2024.8.30)\n",
            "Requirement already satisfied: aiofiles>=24.1.0 in /usr/local/lib/python3.10/dist-packages (from unstructured-client->unstructured==0.15.0) (24.1.0)\n",
            "Requirement already satisfied: eval-type-backport<0.3.0,>=0.2.0 in /usr/local/lib/python3.10/dist-packages (from unstructured-client->unstructured==0.15.0) (0.2.0)\n",
            "Requirement already satisfied: jsonpath-python<2.0.0,>=1.0.6 in /usr/local/lib/python3.10/dist-packages (from unstructured-client->unstructured==0.15.0) (1.0.6)\n",
            "Requirement already satisfied: nest-asyncio>=1.6.0 in /usr/local/lib/python3.10/dist-packages (from unstructured-client->unstructured==0.15.0) (1.6.0)\n",
            "Requirement already satisfied: python-dateutil==2.8.2 in /usr/local/lib/python3.10/dist-packages (from unstructured-client->unstructured==0.15.0) (2.8.2)\n",
            "Requirement already satisfied: requests-toolbelt>=1.0.0 in /usr/local/lib/python3.10/dist-packages (from unstructured-client->unstructured==0.15.0) (1.0.0)\n",
            "Requirement already satisfied: exceptiongroup in /usr/local/lib/python3.10/dist-packages (from anyio<5,>=3.5.0->groq<1,>=0.4.1->langchain-groq==0.1.9) (1.2.2)\n",
            "Requirement already satisfied: cffi>=1.12 in /usr/local/lib/python3.10/dist-packages (from cryptography>=36.0.0->pdfminer.six->unstructured[pdf]==0.15.0) (1.17.1)\n",
            "Requirement already satisfied: googleapis-common-protos<2.0.dev0,>=1.56.2 in /usr/local/lib/python3.10/dist-packages (from google-api-core!=2.0.*,!=2.1.*,!=2.10.*,!=2.2.*,!=2.3.*,!=2.4.*,!=2.5.*,!=2.6.*,!=2.7.*,!=2.8.*,!=2.9.*,<3.0.0dev,>=1.34.1->google-api-core[grpc]!=2.0.*,!=2.1.*,!=2.10.*,!=2.2.*,!=2.3.*,!=2.4.*,!=2.5.*,!=2.6.*,!=2.7.*,!=2.8.*,!=2.9.*,<3.0.0dev,>=1.34.1->google-cloud-vision->unstructured[pdf]==0.15.0) (1.66.0)\n",
            "Requirement already satisfied: grpcio<2.0dev,>=1.33.2 in /usr/local/lib/python3.10/dist-packages (from google-api-core[grpc]!=2.0.*,!=2.1.*,!=2.10.*,!=2.2.*,!=2.3.*,!=2.4.*,!=2.5.*,!=2.6.*,!=2.7.*,!=2.8.*,!=2.9.*,<3.0.0dev,>=1.34.1->google-cloud-vision->unstructured[pdf]==0.15.0) (1.68.0)\n",
            "Requirement already satisfied: grpcio-status<2.0.dev0,>=1.33.2 in /usr/local/lib/python3.10/dist-packages (from google-api-core[grpc]!=2.0.*,!=2.1.*,!=2.10.*,!=2.2.*,!=2.3.*,!=2.4.*,!=2.5.*,!=2.6.*,!=2.7.*,!=2.8.*,!=2.9.*,<3.0.0dev,>=1.34.1->google-cloud-vision->unstructured[pdf]==0.15.0) (1.62.3)\n",
            "Requirement already satisfied: cachetools<6.0,>=2.0.0 in /usr/local/lib/python3.10/dist-packages (from google-auth!=2.24.0,!=2.25.0,<3.0.0dev,>=2.14.1->google-cloud-vision->unstructured[pdf]==0.15.0) (5.5.0)\n",
            "Requirement already satisfied: pyasn1-modules>=0.2.1 in /usr/local/lib/python3.10/dist-packages (from google-auth!=2.24.0,!=2.25.0,<3.0.0dev,>=2.14.1->google-cloud-vision->unstructured[pdf]==0.15.0) (0.4.1)\n",
            "Requirement already satisfied: rsa<5,>=3.1.4 in /usr/local/lib/python3.10/dist-packages (from google-auth!=2.24.0,!=2.25.0,<3.0.0dev,>=2.14.1->google-cloud-vision->unstructured[pdf]==0.15.0) (4.9)\n",
            "Requirement already satisfied: httpcore==1.* in /usr/local/lib/python3.10/dist-packages (from httpx<1,>=0.23.0->groq<1,>=0.4.1->langchain-groq==0.1.9) (1.0.7)\n",
            "Requirement already satisfied: h11<0.15,>=0.13 in /usr/local/lib/python3.10/dist-packages (from httpcore==1.*->httpx<1,>=0.23.0->groq<1,>=0.4.1->langchain-groq==0.1.9) (0.14.0)\n",
            "Requirement already satisfied: jsonpointer>=1.9 in /usr/local/lib/python3.10/dist-packages (from jsonpatch<2.0,>=1.33->langchain-core<0.3.0,>=0.2.26->langchain-groq==0.1.9) (3.0.0)\n",
            "Requirement already satisfied: orjson<4.0.0,>=3.9.14 in /usr/local/lib/python3.10/dist-packages (from langsmith<0.2.0,>=0.1.112->langchain-core<0.3.0,>=0.2.26->langchain-groq==0.1.9) (3.10.11)\n",
            "Requirement already satisfied: antlr4-python3-runtime==4.9.* in /usr/local/lib/python3.10/dist-packages (from omegaconf>=2.0->effdet->unstructured[pdf]==0.15.0) (4.9.3)\n",
            "Requirement already satisfied: coloredlogs in /usr/local/lib/python3.10/dist-packages (from onnxruntime>=1.17.0->unstructured-inference==0.7.36->unstructured[pdf]==0.15.0) (15.0.1)\n",
            "Requirement already satisfied: flatbuffers in /usr/local/lib/python3.10/dist-packages (from onnxruntime>=1.17.0->unstructured-inference==0.7.36->unstructured[pdf]==0.15.0) (24.3.25)\n",
            "Requirement already satisfied: sympy in /usr/local/lib/python3.10/dist-packages (from onnxruntime>=1.17.0->unstructured-inference==0.7.36->unstructured[pdf]==0.15.0) (1.13.1)\n",
            "Requirement already satisfied: contourpy>=1.0.1 in /usr/local/lib/python3.10/dist-packages (from matplotlib->unstructured-inference==0.7.36->unstructured[pdf]==0.15.0) (1.3.1)\n",
            "Requirement already satisfied: cycler>=0.10 in /usr/local/lib/python3.10/dist-packages (from matplotlib->unstructured-inference==0.7.36->unstructured[pdf]==0.15.0) (0.12.1)\n",
            "Requirement already satisfied: fonttools>=4.22.0 in /usr/local/lib/python3.10/dist-packages (from matplotlib->unstructured-inference==0.7.36->unstructured[pdf]==0.15.0) (4.55.0)\n",
            "Requirement already satisfied: kiwisolver>=1.0.1 in /usr/local/lib/python3.10/dist-packages (from matplotlib->unstructured-inference==0.7.36->unstructured[pdf]==0.15.0) (1.4.7)\n",
            "Requirement already satisfied: pyparsing>=2.3.1 in /usr/local/lib/python3.10/dist-packages (from matplotlib->unstructured-inference==0.7.36->unstructured[pdf]==0.15.0) (3.2.0)\n",
            "Requirement already satisfied: annotated-types>=0.6.0 in /usr/local/lib/python3.10/dist-packages (from pydantic<3,>=1.9.0->groq<1,>=0.4.1->langchain-groq==0.1.9) (0.7.0)\n",
            "Requirement already satisfied: pydantic-core==2.23.4 in /usr/local/lib/python3.10/dist-packages (from pydantic<3,>=1.9.0->groq<1,>=0.4.1->langchain-groq==0.1.9) (2.23.4)\n",
            "Requirement already satisfied: safetensors in /usr/local/lib/python3.10/dist-packages (from timm->unstructured-inference==0.7.36->unstructured[pdf]==0.15.0) (0.4.5)\n",
            "Requirement already satisfied: filelock in /usr/local/lib/python3.10/dist-packages (from torch->unstructured-inference==0.7.36->unstructured[pdf]==0.15.0) (3.16.1)\n",
            "Requirement already satisfied: networkx in /usr/local/lib/python3.10/dist-packages (from torch->unstructured-inference==0.7.36->unstructured[pdf]==0.15.0) (3.4.2)\n",
            "Requirement already satisfied: jinja2 in /usr/local/lib/python3.10/dist-packages (from torch->unstructured-inference==0.7.36->unstructured[pdf]==0.15.0) (3.1.4)\n",
            "Requirement already satisfied: fsspec in /usr/local/lib/python3.10/dist-packages (from torch->unstructured-inference==0.7.36->unstructured[pdf]==0.15.0) (2024.10.0)\n",
            "Requirement already satisfied: mpmath<1.4,>=1.1.0 in /usr/local/lib/python3.10/dist-packages (from sympy->onnxruntime>=1.17.0->unstructured-inference==0.7.36->unstructured[pdf]==0.15.0) (1.3.0)\n",
            "Requirement already satisfied: tokenizers<0.21,>=0.20 in /usr/local/lib/python3.10/dist-packages (from transformers>=4.25.1->unstructured-inference==0.7.36->unstructured[pdf]==0.15.0) (0.20.3)\n",
            "Requirement already satisfied: mypy-extensions>=0.3.0 in /usr/local/lib/python3.10/dist-packages (from typing-inspect<1,>=0.4.0->dataclasses-json->unstructured==0.15.0) (1.0.0)\n",
            "Requirement already satisfied: scipy in /usr/local/lib/python3.10/dist-packages (from layoutparser->unstructured-inference==0.7.36->unstructured[pdf]==0.15.0) (1.13.1)\n",
            "Requirement already satisfied: pandas in /usr/local/lib/python3.10/dist-packages (from layoutparser->unstructured-inference==0.7.36->unstructured[pdf]==0.15.0) (2.2.2)\n",
            "Requirement already satisfied: iopath in /usr/local/lib/python3.10/dist-packages (from layoutparser->unstructured-inference==0.7.36->unstructured[pdf]==0.15.0) (0.1.10)\n",
            "Requirement already satisfied: pdfplumber in /usr/local/lib/python3.10/dist-packages (from layoutparser->unstructured-inference==0.7.36->unstructured[pdf]==0.15.0) (0.11.4)\n",
            "Requirement already satisfied: pycparser in /usr/local/lib/python3.10/dist-packages (from cffi>=1.12->cryptography>=36.0.0->pdfminer.six->unstructured[pdf]==0.15.0) (2.22)\n",
            "Requirement already satisfied: pyasn1<0.7.0,>=0.4.6 in /usr/local/lib/python3.10/dist-packages (from pyasn1-modules>=0.2.1->google-auth!=2.24.0,!=2.25.0,<3.0.0dev,>=2.14.1->google-cloud-vision->unstructured[pdf]==0.15.0) (0.6.1)\n",
            "Requirement already satisfied: humanfriendly>=9.1 in /usr/local/lib/python3.10/dist-packages (from coloredlogs->onnxruntime>=1.17.0->unstructured-inference==0.7.36->unstructured[pdf]==0.15.0) (10.0)\n",
            "Requirement already satisfied: portalocker in /usr/local/lib/python3.10/dist-packages (from iopath->layoutparser->unstructured-inference==0.7.36->unstructured[pdf]==0.15.0) (3.0.0)\n",
            "Requirement already satisfied: MarkupSafe>=2.0 in /usr/local/lib/python3.10/dist-packages (from jinja2->torch->unstructured-inference==0.7.36->unstructured[pdf]==0.15.0) (3.0.2)\n",
            "Requirement already satisfied: pytz>=2020.1 in /usr/local/lib/python3.10/dist-packages (from pandas->layoutparser->unstructured-inference==0.7.36->unstructured[pdf]==0.15.0) (2024.2)\n",
            "Requirement already satisfied: tzdata>=2022.7 in /usr/local/lib/python3.10/dist-packages (from pandas->layoutparser->unstructured-inference==0.7.36->unstructured[pdf]==0.15.0) (2024.2)\n",
            "Requirement already satisfied: pypdfium2>=4.18.0 in /usr/local/lib/python3.10/dist-packages (from pdfplumber->layoutparser->unstructured-inference==0.7.36->unstructured[pdf]==0.15.0) (4.30.0)\n",
            "Reading package lists... Done\n",
            "Building dependency tree... Done\n",
            "Reading state information... Done\n",
            "poppler-utils is already the newest version (22.02.0-2ubuntu0.5).\n",
            "0 upgraded, 0 newly installed, 0 to remove and 49 not upgraded.\n",
            "Reading package lists... Done\n",
            "Building dependency tree... Done\n",
            "Reading state information... Done\n",
            "tesseract-ocr is already the newest version (4.1.1-2.1build1).\n",
            "0 upgraded, 0 newly installed, 0 to remove and 49 not upgraded.\n"
          ]
        }
      ],
      "source": [
        "!pip install langchain-community==0.2.15\n",
        "!pip install langchain-chroma==0.1.3\n",
        "!pip install langchain-text-splitters==0.2.2\n",
        "!pip install langchain-huggingface==0.0.3\n",
        "!pip install langchain-groq==0.1.9 unstructured==0.15.0 unstructured[pdf]==0.15.0 nltk==3.8.1\n",
        "!apt-get install poppler-utils\n",
        "!apt install tesseract-ocr\n"
      ]
    },
    {
      "cell_type": "markdown",
      "source": [
        "# Mount Google drive to access the dataset"
      ],
      "metadata": {
        "id": "iVdRvOd28rQW"
      }
    },
    {
      "cell_type": "code",
      "source": [
        "from google.colab import drive\n",
        "\n",
        "drive.mount('/content/drive')"
      ],
      "metadata": {
        "id": "0Q4usZ7u8vvH",
        "colab": {
          "base_uri": "https://localhost:8080/"
        },
        "outputId": "1e5312ca-517a-445c-cdf9-c1ec10c175cf"
      },
      "execution_count": 2,
      "outputs": [
        {
          "output_type": "stream",
          "name": "stdout",
          "text": [
            "Mounted at /content/drive\n"
          ]
        }
      ]
    },
    {
      "cell_type": "markdown",
      "source": [
        "# Defining paths for dataset folders"
      ],
      "metadata": {
        "id": "P8efk487859W"
      }
    },
    {
      "cell_type": "code",
      "source": [
        "# Base folder path where your dataset is located in Google Drive\n",
        "base_folder = '/content/drive/MyDrive/Omdena_Challenge/new_LK_tea_dataset'\n",
        "\n",
        "\n",
        "# Define folder paths for each document class\n",
        "folders = {\n",
        "    \"ACT\": f\"{base_folder}/ACT\",\n",
        "    \"CIRCULARS\": f\"{base_folder}/Circulers\",\n",
        "    \"REGULATION\": f\"{base_folder}/Regulation\",\n",
        "    \"GUIDELINE\": f\"{base_folder}/Guideline\"\n",
        "}"
      ],
      "metadata": {
        "id": "YESI8PJV88an"
      },
      "execution_count": 5,
      "outputs": []
    },
    {
      "cell_type": "markdown",
      "source": [
        "# Listing Files for Verification"
      ],
      "metadata": {
        "id": "T3SBxBjE8-Ru"
      }
    },
    {
      "cell_type": "code",
      "source": [
        "import os\n",
        "\n",
        "# List files in the ACT folder to confirm access\n",
        "print(\"Files in ACT folder:\", os.listdir(folders[\"ACT\"]))"
      ],
      "metadata": {
        "id": "2wsQQhIG9A2F",
        "colab": {
          "base_uri": "https://localhost:8080/"
        },
        "outputId": "42a8b351-50d9-4a29-fba2-55ed3bf33cdc"
      },
      "execution_count": 6,
      "outputs": [
        {
          "output_type": "stream",
          "name": "stdout",
          "text": [
            "Files in ACT folder: ['ACT_22.txt', 'ACT_10.txt', 'ACT_14.txt', 'ACT_19.txt', 'ACT_6.txt', 'ACT_17.txt', 'ACT_15.txt', 'ACT_13.txt', 'ACT_2.txt', 'ACT_23.txt', 'ACT_11.txt', 'ACT_29.txt', 'ACT_25.txt', 'ACT_3.txt', 'ACT_27.txt', 'ACT_12.txt', 'ACT_5.txt', 'ACT_7.txt', 'ACT_18.txt', 'ACT_16.txt', 'ACT_1.txt', 'ACT_20.txt', 'ACT_28.txt', 'ACT_8.txt', 'ACT_4.txt', 'ACT_9.txt', 'ACT_26.txt', 'ACT_21.txt', 'ACT_24.txt']\n"
          ]
        }
      ]
    },
    {
      "cell_type": "code",
      "source": [
        "print(\"Files in Circulars folder:\", os.listdir(folders[\"CIRCULARS\"]))"
      ],
      "metadata": {
        "id": "Ytl1xMDj9Dwe",
        "colab": {
          "base_uri": "https://localhost:8080/"
        },
        "outputId": "aaf56756-0e6e-42b5-cdfb-e6569f871f0e"
      },
      "execution_count": 7,
      "outputs": [
        {
          "output_type": "stream",
          "name": "stdout",
          "text": [
            "Files in Circulars folder: ['Quality-Policy-of-Sri-Lanka-Tea-Board-Analytical-Laboratory.pdf', 'TRI_Advisory_Ciculars_PT_05.pdf', '07_General-Instruction-for-the-Submission-of-Tea-Samples-for-Testing_compressed.txt', 'Advisory_Circular_DM2e_2024.pdf', 'Advisory_Circular_DM7e_2024.pdf', '07_General-Instruction-for-the-Submission-of-Tea-Samples-for-Testing_compressed.pdf', '01_Sri-Lanka-Tea-Board-Standards-Directives-for-Tea_compressed.txt', 'Advisory_Circular_PM-8e_2024.pdf', 'Advisory_Circular_PM-1e_2024.pdf', 'TRI_HP02e.pdf', 'Advisory_Circular_DM4e_2024.pdf', 'TRI_HP03e.pdf', 'Advisory_Circular_PM-2e_2024.pdf', 'TRI_SI01e.pdf', 'TRI_Advisory_Ciculars_LU_02.pdf', 'Advisory_Circular_PM-12e_2024.pdf', 'Advisory_Circular_PM-6e_2024.pdf', 'TRI_PA03e.pdf', 'Advisory_Circular_DM6e_2024.pdf', 'Advisory_Circular_WM-1e_2024.pdf', 'Advisory_Circular_DM1e_2024.pdf', 'Advisory_Circular_DM5e_2024.pdf', 'Advisory_Circular_PM-9e_2024.pdf', 'Quality-Policy-of-Sri-Lanka-Tea-Board-Analytical-Laboratory.txt', 'TRI_SP06e.pdf', 'TRI_SI03e.pdf', 'Advisory_Circular_PM-5e_2024.pdf', 'TRI_Advisory_Ciculars_LU_01.txt', '01_Sri-Lanka-Tea-Board-Standards-Directives-for-Tea_compressed.pdf', 'AL-CIR-F-2023-Laboratory-Testing-Fees.txt', 'Advisory_Circular_PM-6e_2024.txt', 'TRI_PA01e.pdf', 'Advisory_Circular_DM1e_2024.txt', 'TRISL_Advisory_Circular_HP04e_Jun2013.txt', 'TRI_PA02e.pdf', 'TCER- ICE TEA 2009 01 23.pdf', 'TRI_Advisory_Ciculars_PT_06.pdf', 'Advisory_Circular_PM-11e_2024.pdf', 'TRI_SI01e.txt', 'OR-1-51 _2009 08 12.pdf', 'Advisory_Circular_PM-3e_2024.txt', 'TRI_SP07e.txt', 'Advisory_Circular_PU4e_2024.pdf', 'TRI_SP09e.pdf', 'TRI_Advisory_Ciculars_PN_01.txt', 'Advisory_Circular_PM-4e_2024.txt', 'TRI_PA01e.txt', 'TRISL_Advisory_Circular_HP01e_Jun2013.pdf', 'TRI_Advisory_Ciculars_PT_03.pdf', 'TC R 2008 2 Eng.txt', 'TRI_SP05e.pdf', 'TRI_Advisory_Ciculars_PN_01.pdf', 'Advisory_Circular_DM2e_2024.txt', 'Advisory_Circular_PM-2e_2024.txt', 'AL-CIR-F-2023-Laboratory-Testing-Fees.pdf', 'TRI_Advisory_Circular_PU1e_2024.pdf', 'TRI_SP02e.pdf', 'Advisory_Circular_PM-7e_2024.txt', 'TRI_SP04e.pdf', 'TRI_SP03e.pdf', 'TRI_SI02e.pdf', 'TRI_SP04e.txt', 'TRI_SI03e.txt', 'TRI_PA02e.txt', 'TRI_Advisory_Circulars_SP_10e_Jul2016.pdf', 'Advisory_Circular_PM-3e_2024.pdf', 'TRI_HP03e.txt', 'Advisory_Circular_PM-8e_2024.txt', 'TRI_SP08e.pdf', 'TRISL_Advisory_Circular_HP04e_Jun2013.pdf', 'TRI_Advisory_Circular_PU3e_2024.pdf', 'TRI_Advisory_Ciculars_PN_02.txt', 'Advisory_Circular_PM-4e_2024.pdf', 'TRI_Advisory_Ciculars_LU_01.pdf', 'TRISL_Advisory_Circular_HP01e_Jun2013.txt', 'TRI_SP03e.txt', 'TRI_Advisory_Ciculars_PT_05.txt', 'TRI_SP08e.txt', 'TC-EX-WH-P.pdf', 'Advisory_Circular_PM-5e_2024.txt', 'Advisory_Circular_PM-7e_2024.pdf', 'Advisory_Circular_DM4e_2024.txt', 'TRI_HP02e.txt', 'Advisory_Circular_DM5e_2024.txt', 'TC-EX-WH-P.txt', 'Advisory_Circular_WM-1e_2024.txt', 'Advisory_Circular_DM6e_2024.txt', 'TC R 2.txt', 'TRI_Advisory_Ciculars_PT_06.txt', 'Advisory-Circular_PT-1e.txt', 'Advisory_Circular_PM-12e_2024.txt', 'TRI_SP02e.txt', 'SLTB-TTU 2011 11 03.txt', 'TRI_Advisory_Circular_PU3e_2024.txt', 'TRI_SP01e.txt', 'YMR-LL-99-8 199 12 3.txt', 'Advisory_Circular_DM7e_2024.txt', 'SENKADA BHUMI 012.txt', 'TRI_SP01e.pdf', 'scan0002.txt', 'Advisory_Circular_PM-9e_2024.txt', 'TRI_Advisory_Ciculars_PN_02.pdf', 'TRI_Advisory_Ciculars_LU_02.txt', 'TRI_Advisory_Circular_PU1e_2024.txt', 'TRI_PA03e.txt', 'TCEX-VI-8 2001 09 11.txt', 'OR 1 55 I.txt', 'TRI_Advisory_Circular_PU2e_2024.txt', 'TRI_SP06e.txt', 'Advisory_Circular_PM-1e_2024.txt', 'TC R 2010 1.txt', 'TRI_Advisory_Circulars_SP_10e_Jul2016.txt', 'TC-R-2004-1 2004 10 21.txt', 'TC R 2.pdf', 'TCER- ICE TEA 2009 01 23.txt', 'MF Bl 62 1984 08 30.pdf', 'MF BL077 1987 09 17.txt', 'SLTB-TTU 2011 11 03.pdf', 'TRI_SP09e.txt', 'TC-R-2004-1 2004 10 21.pdf', 'TC R 2010 1.pdf', 'TRI_SP05e.txt', 'tc - e - vi - 68 -vol 2 2003 03 07.txt', 'SENKADA BHUMI 012.pdf', 'TRI_SP07e.pdf', 'OR 1-106 1989 05 23.txt', 'MF BL074 1987 04 10.pdf', 'MF BL54 1982 01 20.txt', 'MF BL075 1987 07 03.pdf', 'MF Bl 62 1984 08 30.txt', 'MF BL 59 1983 10 10.pdf', '1998 10 30.pdf', 'YMR-LL-99-8 199 12 3.pdf', 'Advisory_Circular_PM-11e_2024.txt', 'Advisory_Circular_PU4e_2024.txt', 'MF BL 79 I.pdf', 'OR-1-51 _2009 08 12.txt', 'TRI_SI02e.txt', 'MF BL 79 I.txt', 'TRI_Advisory_Circular_PU2e_2024.pdf', 'MF BL070 1986 07 16.txt', 'RTM 01 2005 11 01  I.txt', 'OR 1-106 1989 05 23.pdf', 'OR 1-151 2009 08 12.pdf', 'OR 1-151 2009 08 12.txt', 'TRI_Advisory_Ciculars_PT_03.txt', 'MF BL 66 1985 10 02.txt', 'TC-E-PR-1 2010 11 01.txt', 'OR-1-87-4 1998 02 24.pdf', 'MF BL 67 1985 12 31.txt', 'EA-1-110-2 2004 01 06.txt', 'OR 1 51 I.pdf', 'OR-1-87-1 2011 09 01.txt', 'OR-2-255.pdf', 'OR-2-92 1993 09 6.pdf', 'tc - e - vi - 68 -vol 2 2003 03 07.pdf', 'OR 1 51 I.txt', 'OR - 1-65 2000 01 19.txt', 'TCERP2010-1 2010 08 15.txt', 'OR-2-92 1993 09 6.txt', 'MF BL 67 B 1986 02 10.pdf', 'MF BL077 1987 09 17.pdf', 'MF BL 73 1986 09 30.txt', 'OR 1 51 CIR I.txt', 'MF BL070 1986 07 16.pdf', 'OR-2-255.txt', 'MF BL075 1987 07 03.txt', 'AL-MQS-REV2010-02 2008 04 24.txt', 'MF BL54 1982 01 20.pdf', 'Advisory-Circular_PT-1e.pdf', 'MF BL 67 1985 12 31.pdf', 'CR 3 4 (1) C.pdf', 'TC-E-PR-1 2010 11 01.pdf', 'OR 1 25.pdf', 'TCEX-VI-8 2001 09 11.pdf', 'OR 1 25.txt', 'CR 3 4 (1) C.txt', '1998 10 30.txt', 'M F BL 63 1985 02 21.txt', 'RTM 01 2005 11 01  I.pdf', 'TMR-LL-99 1999 09 23.pdf', 'tc-e-vi-81-p 2003 06 20.pdf', 'AL-MRL-07 2007 08 21 (10).txt', 'M F BL 63 1985 02 21.pdf', 'OR-1-87-1 2010 08 06 (1).pdf', 'TC R 2008 2 Eng.pdf', 'AL-MQS-REV2010-02 2008 04 24.pdf', 'al-mqs-08 2008 04 24.txt', 'OR-1-87-4 1998 02 24.txt', 'MF BL 59 1983 10 10.txt', 'MF BL 58 1983 04 12.pdf', 'MF BL 67 B 1986 02 10.txt', 'TMR-LL-99 1999 09 23.txt', 'OR 1 51 CIR I.pdf', 'scan0002.pdf', 'OR-1-87-1 2010 08 06 (1).txt', 'MF BL 146 (2).txt', 'EA-1-110-2 2004 01 06.pdf', 'OR-1-87-1 2011 09 01.pdf', 'TCERP2010-1 2010 08 15.pdf', 'MF BL 146 (2).pdf', 'EA-1-110-1 2004 03 02.pdf', 'OR1-51-1 2010 07 05.txt', 'MF BL 73 1986 09 30.pdf', 'OR - 1-65 2000 01 19.pdf', 'TCE-VI-8-1 2001 12 20.pdf', 'mf bl 119.pdf', 'OR 1 55 I.pdf', 'MF BL 58 1983 04 12.txt', 'OR3-4-1 1987 06 8.txt', 'mf bl 119.txt', 'TCE-VI-8-1 2001 12 20.txt', 'AL-MRL-07 ANNEXURE 1.txt', 'AL-MRL-07 ANNEXURE 1.pdf', 'OR3-4-1 1987 06 8.pdf', 'tc-e-vi-81-p 2003 06 20.txt', 'AL-PEST-DG-06 2006 08 05.txt', 'AL- MQS- REV -2010 - 1 2010 04 26.txt', 'AL- MQS- REV -2010 - 1 2010 04 26.pdf', 'MF BL 66 1985 10 02.pdf', 'al-mqs-08 2008 04 24.pdf', 'MF BL074 1987 04 10.txt', 'OR1-51-1 2010 07 05.pdf', 'AL-MRL-07 2007 08 21 (10).pdf', 'EA-1-110-1 2004 03 02.txt', 'AL-PEST-DG-06 2006 08 05.pdf']\n"
          ]
        }
      ]
    },
    {
      "cell_type": "code",
      "source": [
        "print(\"Files in Regulation folder:\", os.listdir(folders[\"REGULATION\"]))"
      ],
      "metadata": {
        "id": "1YRX0E-29FE-",
        "colab": {
          "base_uri": "https://localhost:8080/"
        },
        "outputId": "ef965457-0477-443c-b88a-4922f9003b48"
      },
      "execution_count": 8,
      "outputs": [
        {
          "output_type": "stream",
          "name": "stdout",
          "text": [
            "Files in Regulation folder: ['2343-63_E.pdf', '2317-66_E.txt', '2397-27_E.txt', '2401-24_E.txt', '2338-19_E.pdf', '2258-15_E.txt', '2355-26_E.txt', '2397-27_E.pdf', '2338-19_E.txt', '2371-15_E.pdf', '2258-14_E.pdf', '2355-26_E.pdf', '2392-38_E.txt', '2248-37_E.txt', '2158-03_E.txt', '2324-22_E.pdf', '2339-07_E.txt', '2371-15_E.txt', '2392-39_E.txt', '2248-36_E.txt', '2343-63_E.txt', '2339-07_E.pdf', '2158-03_E.pdf', '2392-39_E.pdf', '2258-15_E.pdf', '2248-36_E.pdf', '2401-24_E.pdf', '2324-22_E.txt', '2317-66_E.pdf', '2358-03_E.pdf', '2245-29_E.pdf', '2258-14_E.txt', '2245-29_E.txt', '2392-38_E.pdf', '2248-37_E.pdf', '2358-03_E.txt']\n"
          ]
        }
      ]
    },
    {
      "cell_type": "code",
      "source": [
        "print(\"Files in Guideline folder:\", os.listdir(folders[\"GUIDELINE\"]))"
      ],
      "metadata": {
        "id": "PEZbk5O-9GbP",
        "colab": {
          "base_uri": "https://localhost:8080/"
        },
        "outputId": "4aa12140-fe93-49c6-d743-c242a325d11c"
      },
      "execution_count": 9,
      "outputs": [
        {
          "output_type": "stream",
          "name": "stdout",
          "text": [
            "Files in Guideline folder: ['TRISL_Guideline_01_2018_E.txt', 'TRISL_Guideline_01_2020_E.txt', 'TRISL_Guideline_03_2021e_Aug2021_Rotorvanes.txt', 'TRISL_Guideline_02_2019e_Dec2019.txt', 'TRISL_Guideline_03_2021e_Aug2021_Rotorvanes.pdf', 'TRISL_Guideline_05_2018_E.txt', 'TRISL_Guideline_02_2019e_Dec2019.pdf', 'guidelines_on_covid-19_in_tea_plantations_eng_pdf.pdf', 'TRISL_Guideline_03_2018_E.txt', 'TRISL_Guideline_02_2021e_Aug2021Intercropping.txt', 'TRISL_Guideline_01_2018_E.pdf', 'TRISL_Guideline_04_2018_E.pdf', 'TRISL_Guideline_03_2019e_Dec2019.pdf', 'TRISL_Guideline_01_2020_E.pdf', 'TRISL_Guideline_02_2018_E.txt', 'TRISL_Guideline_03_2018_E.pdf', 'TRISL_Guideline_01_2019_E.txt', 'TRISL_Guideline_04_2018_E.txt', 'TRISL_Guideline_04_2021e_Dec2021_StrategicCostManagement.txt', 'TRISL_Guideline_02_2018_E.pdf', 'TRISL_Guideline_05_2018_E.pdf', 'TRISL_Guideline_04_2021e_Dec2021_StrategicCostManagement.pdf', 'TRISL_Guideline_03_2019e_Dec2019.txt', 'guidelines_on_covid-19_in_tea_plantations_eng_pdf.txt', 'TRISL_Guideline_02_2021e_Aug2021Intercropping.pdf', 'TRISL_Guideline_01_2019_E.pdf']\n"
          ]
        }
      ]
    },
    {
      "cell_type": "markdown",
      "source": [
        "# Import necessary modules for document processing, embeddings, vector storage, and LLM integration"
      ],
      "metadata": {
        "id": "Qa9xr1Rf9H99"
      }
    },
    {
      "cell_type": "code",
      "source": [
        "from langchain_community.document_loaders import UnstructuredPDFLoader, DirectoryLoader, TextLoader\n",
        "from langchain_text_splitters import CharacterTextSplitter\n",
        "from langchain_huggingface import HuggingFaceEmbeddings\n",
        "from langchain_chroma import Chroma\n",
        "from langchain_groq import ChatGroq\n",
        "from langchain.chains import RetrievalQA"
      ],
      "metadata": {
        "id": "qiUUg1fd9O9G"
      },
      "execution_count": 15,
      "outputs": []
    },
    {
      "cell_type": "markdown",
      "source": [
        "# Set environment variables for the Groq API"
      ],
      "metadata": {
        "id": "GndL5-iw9Qim"
      }
    },
    {
      "cell_type": "code",
      "source": [
        "# https://console.groq.com/keys\n",
        "GROQ_API_KEY = \"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\"\n",
        "os.environ[\"GROQ_API_KEY\"] = GROQ_API_KEY"
      ],
      "metadata": {
        "id": "5fpQ5xhT9TSa"
      },
      "execution_count": 16,
      "outputs": []
    },
    {
      "cell_type": "markdown",
      "source": [
        "# Initialize text splitter and emmbedding for PDF"
      ],
      "metadata": {
        "id": "t9S0imxq9WXN"
      }
    },
    {
      "cell_type": "code",
      "source": [
        "# text_splitter will split text into smaller chunks for processing, and embedding model will encode these chunks\n",
        "\n",
        "text_splitter = CharacterTextSplitter(chunk_size=2000, chunk_overlap=500)\n",
        "embedding = HuggingFaceEmbeddings()"
      ],
      "metadata": {
        "id": "Uc3tixnf9Wsf"
      },
      "execution_count": 17,
      "outputs": []
    },
    {
      "cell_type": "code",
      "source": [],
      "metadata": {
        "id": "ZbJGQ2Azj3fM"
      },
      "execution_count": null,
      "outputs": []
    },
    {
      "cell_type": "markdown",
      "source": [
        "# Process each folder and create vector DB for each document class for PDF"
      ],
      "metadata": {
        "id": "tFMTo7319cId"
      }
    },
    {
      "cell_type": "code",
      "source": [
        "# Initialize dictionary to hold vector databases for each document class\n",
        "vectorstores = {}\n",
        "\n",
        "# Process each folder to load documents, split them, and store embeddings in separate vector databases\n",
        "for category, folder_path in folders.items():\n",
        "    # Load documents from the folder\n",
        "    loader = DirectoryLoader(folder_path, glob=\"./*.pdf\", loader_cls=UnstructuredPDFLoader)\n",
        "    #loader = DirectoryLoader(folder_path, glob=\"./*.txt\", loader_cls=TextLoader);\n",
        "    documents = loader.load()\n",
        "\n",
        "    # Split loaded documents into smaller text chunks\n",
        "    text_chunks = text_splitter.split_documents(documents)\n",
        "\n",
        "    # Filter out empty chunks\n",
        "    text_chunks = [chunk for chunk in text_chunks if chunk.page_content.strip()]\n",
        "\n",
        "    if not text_chunks:\n",
        "        print(f\"No valid text chunks found in {category} folder. Skipping...\")\n",
        "        continue\n",
        "\n",
        "    # Create a vector database to store embeddings for each document category\n",
        "    try:\n",
        "        persist_directory = f\"/content/{category}_vector_db\"\n",
        "        vectorstore = Chroma.from_documents(\n",
        "            documents=text_chunks,\n",
        "            embedding=embedding,\n",
        "            persist_directory=persist_directory\n",
        "        )\n",
        "        vectorstores[category] = vectorstore\n",
        "        print(f\"Successfully created vector database for {category}\")\n",
        "    except Exception as e:\n",
        "        print(f\"Error creating vector database for {category}: {e}\")"
      ],
      "metadata": {
        "id": "KYMdgTsO9hAf",
        "colab": {
          "base_uri": "https://localhost:8080/"
        },
        "outputId": "e9dbe8b8-4ece-486b-fb3c-d59d702370ff"
      },
      "execution_count": 18,
      "outputs": [
        {
          "output_type": "stream",
          "name": "stderr",
          "text": [
            "WARNING:langchain_text_splitters.base:Created a chunk of size 4614, which is longer than the specified 2000\n",
            "WARNING:langchain_text_splitters.base:Created a chunk of size 3934, which is longer than the specified 2000\n",
            "WARNING:langchain_text_splitters.base:Created a chunk of size 4731, which is longer than the specified 2000\n",
            "WARNING:langchain_text_splitters.base:Created a chunk of size 2770, which is longer than the specified 2000\n",
            "WARNING:langchain_text_splitters.base:Created a chunk of size 4120, which is longer than the specified 2000\n",
            "WARNING:langchain_text_splitters.base:Created a chunk of size 5083, which is longer than the specified 2000\n",
            "WARNING:langchain_text_splitters.base:Created a chunk of size 5941, which is longer than the specified 2000\n",
            "WARNING:langchain_text_splitters.base:Created a chunk of size 2064, which is longer than the specified 2000\n",
            "WARNING:langchain_text_splitters.base:Created a chunk of size 3978, which is longer than the specified 2000\n",
            "WARNING:langchain_text_splitters.base:Created a chunk of size 5516, which is longer than the specified 2000\n",
            "WARNING:langchain_text_splitters.base:Created a chunk of size 6157, which is longer than the specified 2000\n",
            "WARNING:langchain_text_splitters.base:Created a chunk of size 5140, which is longer than the specified 2000\n",
            "WARNING:langchain_text_splitters.base:Created a chunk of size 6410, which is longer than the specified 2000\n",
            "WARNING:langchain_text_splitters.base:Created a chunk of size 3568, which is longer than the specified 2000\n"
          ]
        },
        {
          "output_type": "stream",
          "name": "stdout",
          "text": [
            "Successfully created vector database for ACT\n",
            "Successfully created vector database for CIRCULARS\n",
            "Successfully created vector database for REGULATION\n",
            "Successfully created vector database for GUIDELINE\n"
          ]
        }
      ]
    },
    {
      "cell_type": "code",
      "source": [],
      "metadata": {
        "id": "ITi37AhmkjTg"
      },
      "execution_count": null,
      "outputs": []
    },
    {
      "cell_type": "markdown",
      "source": [
        "# Initialize text splitter and emmbedding for TEXT"
      ],
      "metadata": {
        "id": "Iwj7hNgSknrv"
      }
    },
    {
      "cell_type": "code",
      "source": [
        "# The RecursiveCharacterTextSplitter attempts to split text hierarchically, trying different delimiters (e.g., sentences, paragraphs) before falling back to character-level splitting.\n",
        "\n",
        "from langchain.text_splitter import RecursiveCharacterTextSplitter\n",
        "\n",
        "text_splitter = RecursiveCharacterTextSplitter(\n",
        "    chunk_size=2000,\n",
        "    chunk_overlap=500,\n",
        "    separators=[\"\\n\\n\", \"\\n\", \" \", \"\"]\n",
        ")\n",
        "embedding = HuggingFaceEmbeddings()\n"
      ],
      "metadata": {
        "id": "Ci6dm8y4kxZq"
      },
      "execution_count": 22,
      "outputs": []
    },
    {
      "cell_type": "markdown",
      "source": [
        "# Process each folder and create vector DB for each document class for TEXT"
      ],
      "metadata": {
        "id": "8VL-iiHJk2N_"
      }
    },
    {
      "cell_type": "code",
      "source": [
        "text_splitter\n",
        "for category, folder_path in folders.items():\n",
        "    loader = DirectoryLoader(folder_path, glob=\"./*.txt\", loader_cls=TextLoader)\n",
        "    documents = loader.load()\n",
        "\n",
        "    # Split loaded documents into smaller text chunks\n",
        "    # Adjust chunk_size Dynamically\n",
        "    text_chunks = []\n",
        "    for document in documents:\n",
        "        if len(document.page_content) > 5000:\n",
        "            dynamic_splitter = RecursiveCharacterTextSplitter(\n",
        "                chunk_size=3000,\n",
        "                chunk_overlap=500,\n",
        "                separators=[\"\\n\\n\", \"\\n\", \" \", \"\"]\n",
        "            )\n",
        "            text_chunks.extend(dynamic_splitter.split_documents([document]))\n",
        "        else:\n",
        "            text_chunks.extend(text_splitter.split_documents([document]))\n",
        "\n",
        "    # Filter out empty chunks\n",
        "    text_chunks = [chunk for chunk in text_chunks if chunk.page_content.strip()]\n",
        "\n",
        "    if not text_chunks:\n",
        "        print(f\"No valid text chunks found in {category} folder. Skipping...\")\n",
        "        continue\n",
        "\n",
        "    try:\n",
        "        persist_directory = f\"/content/{category}_vector_db\"\n",
        "        vectorstore = Chroma.from_documents(\n",
        "            documents=text_chunks,\n",
        "            embedding=embedding,\n",
        "            persist_directory=persist_directory\n",
        "        )\n",
        "        vectorstores[category] = vectorstore\n",
        "        print(f\"Successfully created vector database for {category}\")\n",
        "    except Exception as e:\n",
        "        print(f\"Error creating vector database for {category}: {e}\")"
      ],
      "metadata": {
        "id": "sFMXnklgk77v",
        "outputId": "bae6c793-8522-4413-f2a2-5afedc624177",
        "colab": {
          "base_uri": "https://localhost:8080/"
        }
      },
      "execution_count": 23,
      "outputs": [
        {
          "output_type": "stream",
          "name": "stdout",
          "text": [
            "Successfully created vector database for ACT\n",
            "Successfully created vector database for CIRCULARS\n",
            "Successfully created vector database for REGULATION\n",
            "Successfully created vector database for GUIDELINE\n"
          ]
        }
      ]
    },
    {
      "cell_type": "markdown",
      "source": [],
      "metadata": {
        "id": "Y4AmG3Gkkj4Z"
      }
    },
    {
      "cell_type": "markdown",
      "source": [
        "# Create a retriever for each document type"
      ],
      "metadata": {
        "id": "0RauI3BE9jG9"
      }
    },
    {
      "cell_type": "code",
      "source": [
        "# Create a retriever for each document type\n",
        "retrievers = {category: vectorstore.as_retriever() for category, vectorstore in vectorstores.items()}"
      ],
      "metadata": {
        "id": "7Z_wnWsD-W8L"
      },
      "execution_count": 24,
      "outputs": []
    },
    {
      "cell_type": "markdown",
      "source": [
        "# Initialize the LLM"
      ],
      "metadata": {
        "id": "uN5w4z0e-Yum"
      }
    },
    {
      "cell_type": "code",
      "source": [
        "# The model will answer questions based on retrieved document chunks\n",
        "llm = ChatGroq(model=\"llama-3.1-8b-instant\", temperature=0)\n"
      ],
      "metadata": {
        "id": "euX8uV4x-aXo"
      },
      "execution_count": 25,
      "outputs": []
    },
    {
      "cell_type": "markdown",
      "source": [
        "# Setting up a function to query documents by category and retrieve the response from the LLM"
      ],
      "metadata": {
        "id": "epRc3G-d-d2N"
      }
    },
    {
      "cell_type": "code",
      "source": [
        "# Function to handle queries with or without a specified category\n",
        "def query_documents(query, document_type=None):\n",
        "    if document_type and document_type in retrievers:\n",
        "        # If document_type is provided, use its specific retriever\n",
        "        qa_chain = RetrievalQA.from_chain_type(\n",
        "            llm=llm,\n",
        "            chain_type=\"stuff\",\n",
        "            retriever=retrievers[document_type],\n",
        "            return_source_documents=True\n",
        "        )\n",
        "    else:\n",
        "        # If no document_type is provided, search across all retrievers\n",
        "        all_retrieved_chunks = []\n",
        "        for retriever in retrievers.values():\n",
        "            # Retrieve the top 5 relevant chunks from each category\n",
        "            all_retrieved_chunks.extend(retriever.get_relevant_documents(query)[:5])\n",
        "\n",
        "        # Create a temporary in-memory vector database for combined chunks\n",
        "        temp_vectorstore = Chroma.from_documents(\n",
        "            documents=all_retrieved_chunks,\n",
        "            embedding=embedding  # use the same embedding model as before\n",
        "        )\n",
        "\n",
        "        # Use the temporary vector database as the retriever\n",
        "        temp_retriever = temp_vectorstore.as_retriever()\n",
        "\n",
        "        # Set up RetrievalQA with the temporary retriever\n",
        "        qa_chain = RetrievalQA.from_chain_type(\n",
        "            llm=llm,\n",
        "            chain_type=\"stuff\",\n",
        "            retriever=temp_retriever,\n",
        "            return_source_documents=True\n",
        "        )\n",
        "\n",
        "    # Run the query and get the response\n",
        "    response = qa_chain.invoke({\"query\": query})\n",
        "    return response"
      ],
      "metadata": {
        "id": "GHom9vO30V3k"
      },
      "execution_count": 65,
      "outputs": []
    },
    {
      "cell_type": "code",
      "source": [],
      "metadata": {
        "id": "UhhytVcnzRH4"
      },
      "execution_count": null,
      "outputs": []
    },
    {
      "cell_type": "markdown",
      "source": [
        "# Example query for testing"
      ],
      "metadata": {
        "id": "zOrgSuhv-nfl"
      }
    },
    {
      "cell_type": "code",
      "source": [
        "# Query with a specified document type\n",
        "query_with_category = \"What are the guidelines on prevention and control of spread of COVID-19 in tea plantations?\"\n",
        "document_type = \"GUIDELINE\"\n",
        "response_with_category = query_documents(query_with_category, document_type=document_type)\n"
      ],
      "metadata": {
        "id": "6uX3HcCm-qOx"
      },
      "execution_count": 66,
      "outputs": []
    },
    {
      "cell_type": "code",
      "source": [
        "# Display results for query with a specific category\n",
        "print(\"Response for query with specified category:\")\n",
        "print(response_with_category[\"result\"])\n",
        "print(\"=====================================================================================================================================================================================================================================================================================================================================================================================================================================================================\")\n",
        "print(\"\\nSource Documents:\")\n",
        "for doc in response_with_category[\"source_documents\"]:\n",
        "    print(f\"Document Source: {doc.metadata.get('source', 'No source available')}\")\n",
        "    print(f\"Document Content Snippet: {doc.page_content[:500]}\")"
      ],
      "metadata": {
        "collapsed": true,
        "id": "7Z3vHwGXzX6k",
        "outputId": "5f9dc60f-fe0a-4b55-9c98-69ef56536548",
        "colab": {
          "base_uri": "https://localhost:8080/"
        }
      },
      "execution_count": 67,
      "outputs": [
        {
          "output_type": "stream",
          "name": "stdout",
          "text": [
            "Response for query with specified category:\n",
            "According to the guidelines issued by the Tea Research Institute of Sri Lanka in May 2020 (Guideline No: 02/2020), the following are the guidelines on prevention and control of spread of COVID-19 in tea plantations:\n",
            "\n",
            "**General Guidelines**\n",
            "\n",
            "1. Identifying a suitable focal point (a responsible officer) to coordinate, monitor and control activities implemented against COVID-19 infection and provides necessary guidance.\n",
            "2. Formulating a task force in each estate representing the management, field, factory, medical and welfare staff, and safety officer/s and community members as deemed necessary.\n",
            "3. Formulating vigilance committee within the plantation community to ensure proper coordination, feedback flow of information and decision taking etc. by the individual estate.\n",
            "4. Continuing awareness on COVID-19 spread and encouraging stay at home and line room.\n",
            "5. Maintaining records and census of all resident individuals, visitors, influx personnel from other regions and countries, workers with reduced immunity and suffering from diabetes, heart, kidney, liver, asthma and lung diseases, age over 40 years.\n",
            "6. Advising staff to minimize direct verbal communication between co-workers and use alternative methods (Public address system, intercom etc.) to provide instructions to workers and staff members.\n",
            "7. Discouraging workers from the use of other workers’ baskets, sacks, knives, mobile phones, pens and common telephones, desks and equipment etc. If any object has been shared, it must be cleaned with soap and water or with minimum 70% v/v alcohol-based sanitizer.\n",
            "8. Conducting review meetings periodically to monitor, obtain feedback and improve systems.\n",
            "9. In the event of detecting a suspected case at workplace, seeking assistance from hotline 1390 and following the instructions given or alternatively transferring the worker to the nearest government hospital, by ambulance. Suwasariya ambulance service can be contacted by dialing 1990.\n",
            "10. Deploying workers with less risk: persons with reduced immunity and suffering from diabetes, heart, kidney, liver, asthma and lung diseases, and age over 40 years are vulnerable.\n",
            "\n",
            "**Field Guidelines**\n",
            "\n",
            "1. Limiting agricultural practices to essential operations such as plucking, weeding, fertilizing, pruning and nursery upkeep. Additionally, shade lopping and blister blight control in plantations receiving monsoon rain.\n",
            "2. Avoiding gatherings at musters, weighing sheds, tea break, transport etc. and always maintaining one meter minimum distance between workers while working and moving.\n",
            "3. Allocating tea rows in such a way to ensure always minimum of one-meter distance.\n",
            "4. Deploying workers on alternate basis to maintain social distance and avoid continuous exposure.\n",
            "5. Ensuring proper use of suitable masks by all staff and workers and gloves only on occasions, if necessary.\n",
            "6. Promoting good hand hygiene among workers at all critical points by providing appropriate Alcohol-based hand sanitizing mixtures/soap and washing areas.\n",
            "7. Discouraging sharing of farm implements at work and sharing food, tea, beetle leaf and smoking and other items viz. masks, bags, level sticks etc.\n",
            "8. Offering tea breaks batch-wise in a manner to gather at few locations than one location.\n",
            "9. Encouraging TRI shear, harvesting and pruning machines to minimize worker involvement.\n",
            "10. Disinfecting all field equipment, machinery, uniforms, vehicles and other personal objects.\n",
            "\n",
            "**Factory Guidelines**\n",
            "\n",
            "1. Deploying workers on rotation basis to minimize personal contacts.\n",
            "2. Maintaining social distancing at least with a 1 meter at all times.\n",
            "3. Practicing hand hygiene at critical points by providing washing facilities with sanitizers, cough etiquette and wearing masks.\n",
            "4. Avoiding gatherings at unloading and weighing points, and tea break etc.\n",
            "5. Ensuring sufficient ventilation in the processing areas.\n",
            "6. Restricting worker movements from one area to another as far as possible.\n",
            "7. Discouraging sharing of food, beetle and common utensils.\n",
            "8. Encouraging measures to minimize worker involvement.\n",
            "9. Encouraging completing work at one stretch.\n",
            "10. Providing tea breaks batch-wise or section by section.\n",
            "11. Disinfecting all equipment, machinery, uniforms and vehicles.\n",
            "12. Cleaning/disinfecting door handles, railings and toilets regularly.\n",
            "13. Ensuring persons involved in transportation bought leaf, refuse tea and firewood etc. practice hand hygiene, cough etiquette and wearing masks, and limiting number of external vehicles.\n",
            "14. Dispatching teas to Colombo with extreme care, and providing lorry driver and helper with personal hygiene guidance, sanitizers and masks for disinfecting and regular use in transportation.\n",
            "15. Complying with food hygiene standards by implementing stringent measures during transportation, handling, auctions, sampling for tests, processing, packaging and warehousing for shipping with traceability records.\n",
            "\n",
            "**Estate Office Premises Guidelines**\n",
            "\n",
            "1. Ensuring practice of hand hygiene at the entry to office by providing washing facilities with sanitizers, cough etiquette and wearing masks, and promoting regular hand washings.\n",
            "2. Rearranging office to ensure social distancing at work and avoid direct contacts within and outsiders, and may establish a barrier/shield for cashier counter.\n",
            "3. Establishing alternate days and/or extra shifts reducing total number of employees in the workplace and personal contacts.\n",
            "4. Avoiding unnecessary gatherings and meetings with both internal and external persons. Arranging tea and lunch breaks batch-wise to prevent crowding the meal room.\n",
            "5. Maintaining routine cleaning and disinfecting surfaces, office equipment, door handles and toilets etc.\n",
            "6. Adopting waste management and garbage disposal, cleaning and disinfecting protocols.\n",
            "7. Discouraging staff use others desks/work stations, common telephones, fax machines, pens, calculators, and also sharing food, tea, chewing beetle leaf etc.\n",
            "8. Keeping doors and windows open in order to improve ventilation and avoid regular handling.\n",
            "9. Advising staff to minimize verbal and written communication among co-workers and promoting use of alternative methods (public address system, intercom etc.) for internal communication.\n",
            "10. Minimizing cash handling and formalizing the distribution of food materials, etc. and introducing alternate means to avoid personal contacts.\n",
            "=====================================================================================================================================================================================================================================================================================================================================================================================================================================================================\n",
            "\n",
            "Source Documents:\n",
            "Document Source: /content/drive/MyDrive/Omdena_Challenge/new_LK_tea_dataset/Guideline/guidelines_on_covid-19_in_tea_plantations_eng_pdf.txt\n",
            "Document Content Snippet: 1 \n",
            " TEA RESEARCH INSTITUTE OF SRI LANKA  \n",
            " \n",
            "Issued In: May 2020        Guideline No: 02/2020  \n",
            " \n",
            "GUIDELINES  ON PRE VENTION AND CONTROL OF SPREAD OF C OVID -19 IN \n",
            "TEA PLA NTATION S \n",
            " \n",
            "Entire world has been  affected by the pandemic caused by the novel coronavirus, commonly \n",
            "known as COVID -19. Sri Lanka is also currently experiencing COVID -19 threat.  Globally,  \n",
            "COVID -19 pandemic w ill create significant impact s on economies and Sri Lanka is not \n",
            "exempted being an  upper middle -income  cou\n",
            "Document Source: /content/drive/MyDrive/Omdena_Challenge/new_LK_tea_dataset/Guideline/guidelines_on_covid-19_in_tea_plantations_eng_pdf.txt\n",
            "Document Content Snippet: 1 \n",
            " TEA RESEARCH INSTITUTE OF SRI LANKA  \n",
            " \n",
            "Issued In: May 2020        Guideline No: 02/2020  \n",
            " \n",
            "GUIDELINES  ON PRE VENTION AND CONTROL OF SPREAD OF C OVID -19 IN \n",
            "TEA PLA NTATION S \n",
            " \n",
            "Entire world has been  affected by the pandemic caused by the novel coronavirus, commonly \n",
            "known as COVID -19. Sri Lanka is also currently experiencing COVID -19 threat.  Globally,  \n",
            "COVID -19 pandemic w ill create significant impact s on economies and Sri Lanka is not \n",
            "exempted being an  upper middle -income  cou\n",
            "Document Source: /content/drive/MyDrive/Omdena_Challenge/new_LK_tea_dataset/Guideline/guidelines_on_covid-19_in_tea_plantations_eng_pdf.txt\n",
            "Document Content Snippet: 2. Those who have had contact with suspected or confirmed case of COVID -19 for the last \n",
            "14 days  \n",
            "3. Those  who are quarantined for COVID -19. \n",
            " 2 \n",
            " 4. Those who are occupying premises and/or housing schemes declared as self - quarantine \n",
            "areas for suspected cases of COVID -19. \n",
            " \n",
            "A large number of people are frequently  gathered at the workplaces, it is a collective \n",
            "responsibility of persons to keep workplaces safe  and healthy . The lead responsibility for the \n",
            "implementation of this guide \n",
            "Document Source: /content/drive/MyDrive/Omdena_Challenge/new_LK_tea_dataset/Guideline/TRISL_Guideline_02_2021e_Aug2021Intercropping.txt\n",
            "Document Content Snippet: 3.5 Spacing  \n",
            "1.0 x 0 .6 m (3.5 x 2.0 ft) - For cultivars  with erect growth habit , eg. TRI 2043,  TRI 4049 , S 106, \n",
            "DG 7 and  DG 39 . \n",
            " \n",
            "1.2 x 0.6 m (4.0  x 2.0 ft) - For other cultivars  with spreading growth habit . \n",
            " \n",
            "3.6 Planting holes/trenches  \n",
            "Holes:  45 cm (18 inches) deep with a top diameter of 30 cm (12 inches) and  bottom diameter of \n",
            "22.5 cm (9 inches) . \n",
            " \n",
            "Trenches: 45 cm (18 inches) deep and 30 cm (1 2 inches) wide . \n",
            " \n",
            "3.7 Time of planting , and Pest control  \n",
            "Planting of tea s\n"
          ]
        }
      ]
    },
    {
      "cell_type": "code",
      "source": [
        "# Query with a specified document type\n",
        "query_with_category = \"What are the cause of Red Rust disease?\"\n",
        "document_type = \"CIRCULAR\"\n",
        "response_with_category = query_documents(query_with_category, document_type=document_type)\n"
      ],
      "metadata": {
        "id": "5_F-FUHZT85_"
      },
      "execution_count": 68,
      "outputs": []
    },
    {
      "cell_type": "code",
      "source": [
        "# Display results for query with a specific category\n",
        "print(\"Response for query with specified category:\")\n",
        "print(response_with_category[\"result\"])\n",
        "print(\"=====================================================================================================================================================================================================================================================================================================================================================================================================================================================================\")\n",
        "print(\"\\nSource Documents:\")\n",
        "for doc in response_with_category[\"source_documents\"]:\n",
        "    print(f\"Document Source: {doc.metadata.get('source', 'No source available')}\")\n",
        "    print(f\"Document Content Snippet: {doc.page_content[:500]}\")"
      ],
      "metadata": {
        "colab": {
          "base_uri": "https://localhost:8080/"
        },
        "id": "t5EbV3d-ULfm",
        "outputId": "04185eb7-54e8-4a63-e4d7-b58427b9d15c"
      },
      "execution_count": 69,
      "outputs": [
        {
          "output_type": "stream",
          "name": "stdout",
          "text": [
            "Response for query with specified category:\n",
            "The provided text does not explicitly mention the causes of Red Rust disease. It only discusses the management and control methods for the disease. However, it is implied that the disease is more serious on weak plants, suggesting that the underlying cause may be related to the plant's health or environmental conditions.\n",
            "=====================================================================================================================================================================================================================================================================================================================================================================================================================================================================\n",
            "\n",
            "Source Documents:\n",
            "Document Source: /content/drive/MyDrive/Omdena_Challenge/new_LK_tea_dataset/Circulers/Advisory_Circular_DM4e_2024.txt\n",
            "Document Content Snippet: 3. Management of Red Rust\n",
            "3.1 Cultural Methods\n",
            "\n",
            "As Red Rust is more often serious only on weak plants, strengthening the host by good agricultural\n",
            "practices should help minimize the damage caused by the disease. This could be achieved by one or\n",
            "more of the following approaches.\n",
            "\n",
            "a. By improving soil condition: If drainage is the main limiting factor, improve drainage to promote\n",
            "deeper rooting. If the conditions are limited due to an underlying hard pan, deep forking will\n",
            "\fhelp breaking it for th\n",
            "Document Source: /content/drive/MyDrive/Omdena_Challenge/new_LK_tea_dataset/Circulers/Advisory_Circular_DM4e_2024.txt\n",
            "Document Content Snippet: 3. Management of Red Rust\n",
            "3.1 Cultural Methods\n",
            "\n",
            "As Red Rust is more often serious only on weak plants, strengthening the host by good agricultural\n",
            "practices should help minimize the damage caused by the disease. This could be achieved by one or\n",
            "more of the following approaches.\n",
            "\n",
            "a. By improving soil condition: If drainage is the main limiting factor, improve drainage to promote\n",
            "deeper rooting. If the conditions are limited due to an underlying hard pan, deep forking will\n",
            "\fhelp breaking it for th\n",
            "Document Source: /content/drive/MyDrive/Omdena_Challenge/new_LK_tea_dataset/Circulers/Advisory_Circular_DM4e_2024.txt\n",
            "Document Content Snippet: 3. Management of Red Rust\n",
            "3.1 Cultural Methods\n",
            "\n",
            "As Red Rust is more often serious only on weak plants, strengthening the host by good agricultural\n",
            "practices should help minimize the damage caused by the disease. This could be achieved by one or\n",
            "more of the following approaches.\n",
            "\n",
            "a. By improving soil condition: If drainage is the main limiting factor, improve drainage to promote\n",
            "deeper rooting. If the conditions are limited due to an underlying hard pan, deep forking will\n",
            "\fhelp breaking it for th\n",
            "Document Source: /content/drive/MyDrive/Omdena_Challenge/new_LK_tea_dataset/Circulers/Advisory_Circular_DM4e_2024.txt\n",
            "Document Content Snippet: 3. Management of Red Rust\n",
            "3.1 Cultural Methods\n",
            "\n",
            "As Red Rust is more often serious only on weak plants, strengthening the host by good agricultural\n",
            "practices should help minimize the damage caused by the disease. This could be achieved by one or\n",
            "more of the following approaches.\n",
            "\n",
            "a. By improving soil condition: If drainage is the main limiting factor, improve drainage to promote\n",
            "deeper rooting. If the conditions are limited due to an underlying hard pan, deep forking will\n",
            "\fhelp breaking it for th\n"
          ]
        }
      ]
    },
    {
      "cell_type": "code",
      "source": [
        "# Query without specifying document type (searches across all categories)\n",
        "query_without_category = \"What is the process for implementing new regulations in the tea industry?\"\n",
        "response_without_category = query_documents(query_without_category)"
      ],
      "metadata": {
        "id": "pKyhvLO1D7fn"
      },
      "execution_count": 70,
      "outputs": []
    },
    {
      "cell_type": "code",
      "source": [
        "# Display results for query without specifying a category\n",
        "print(\"\\n\\nResponse for query without specified category:\")\n",
        "print(response_without_category[\"result\"])\n",
        "print(\"\\nSource Documents:\")\n",
        "for doc in response_without_category[\"source_documents\"]:\n",
        "    print(f\"Document Source: {doc.metadata.get('source', 'No source available')}\")\n",
        "    print(f\"Document Content Snippet: {doc.page_content[:500]}\")"
      ],
      "metadata": {
        "colab": {
          "base_uri": "https://localhost:8080/"
        },
        "id": "_DlTcWGkD9iH",
        "outputId": "7216a705-346c-44ec-ee0f-b5ae2e328334"
      },
      "execution_count": 71,
      "outputs": [
        {
          "output_type": "stream",
          "name": "stdout",
          "text": [
            "\n",
            "\n",
            "Response for query without specified category:\n",
            "Based on the provided context, the process for implementing new regulations in the tea industry appears to be as follows:\n",
            "\n",
            "1. The Minister may issue directions to the Board from time to time, which the Board shall be subject to and act in accordance with (Section 5(1)).\n",
            "2. However, in relation to matters which fall under paragraphs (a), (b), (f), and (i) of sub-section (2) of section 4, the Board shall be subject to and act in accordance with directions issued by the Minister of Agriculture (Section 5(2)).\n",
            "\n",
            "This suggests that the Minister has the authority to issue directions to the Board, and the Board must comply with these directions. However, in specific areas related to paragraphs (a), (b), (f), and (i), the Minister of Agriculture has the authority to issue directions to the Board.\n",
            "\n",
            "It is not explicitly stated in the provided context how new regulations are proposed, drafted, or approved. However, it can be inferred that the Minister or the Minister of Agriculture would be responsible for proposing and drafting new regulations, and the Board would be responsible for implementing and enforcing these regulations.\n",
            "\n",
            "It is also worth noting that the Board has various functions and powers related to the tea industry, including regulating the establishment and operation of tea factories, regulating the sale of tea, and conducting research into the economic state of the tea industry (Section 4). The Board may use these powers to implement new regulations or policies in the tea industry.\n",
            "\n",
            "Source Documents:\n",
            "Document Source: /content/drive/MyDrive/Omdena_Challenge/new_LK_tea_dataset/ACT/ACT_27.txt\n",
            "Document Content Snippet: |\n",
            "|\n",
            "(b) to regulate the establishment and operation of tea factories including factories for the manufacture of instant tea;\n",
            "|\n",
            "|\n",
            "(c) to regulate the sale of tea including the conduct of tea auctions;\n",
            "|\n",
            "|\n",
            "(d) to regulate the export of tea and arrangements relating to its shipping and freight;\n",
            "|\n",
            "|\n",
            "(e) to assist and encourage the marketing of tea in and outside Ceylon and to promote the demand for tea in the world markets;\n",
            "|\n",
            "|\n",
            "(f) to conduct, assist and encourage scientific and technological resear\n",
            "Document Source: /content/drive/MyDrive/Omdena_Challenge/new_LK_tea_dataset/ACT/ACT_27.txt\n",
            "Document Content Snippet: |\n",
            "|\n",
            "(b) to regulate the establishment and operation of tea factories including factories for the manufacture of instant tea;\n",
            "|\n",
            "|\n",
            "(c) to regulate the sale of tea including the conduct of tea auctions;\n",
            "|\n",
            "|\n",
            "(d) to regulate the export of tea and arrangements relating to its shipping and freight;\n",
            "|\n",
            "|\n",
            "(e) to assist and encourage the marketing of tea in and outside Ceylon and to promote the demand for tea in the world markets;\n",
            "|\n",
            "|\n",
            "(f) to conduct, assist and encourage scientific and technological resear\n",
            "Document Source: /content/drive/MyDrive/Omdena_Challenge/new_LK_tea_dataset/ACT/ACT_27.txt\n",
            "Document Content Snippet: |\n",
            "|\n",
            "(b) to regulate the establishment and operation of tea factories including factories for the manufacture of instant tea;\n",
            "|\n",
            "|\n",
            "(c) to regulate the sale of tea including the conduct of tea auctions;\n",
            "|\n",
            "|\n",
            "(d) to regulate the export of tea and arrangements relating to its shipping and freight;\n",
            "|\n",
            "|\n",
            "(e) to assist and encourage the marketing of tea in and outside Ceylon and to promote the demand for tea in the world markets;\n",
            "|\n",
            "|\n",
            "(f) to conduct, assist and encourage scientific and technological resear\n",
            "Document Source: /content/drive/MyDrive/Omdena_Challenge/new_LK_tea_dataset/ACT/ACT_27.txt\n",
            "Document Content Snippet: |\n",
            "|\n",
            "(b) to regulate the establishment and operation of tea factories including factories for the manufacture of instant tea;\n",
            "|\n",
            "|\n",
            "(c) to regulate the sale of tea including the conduct of tea auctions;\n",
            "|\n",
            "|\n",
            "(d) to regulate the export of tea and arrangements relating to its shipping and freight;\n",
            "|\n",
            "|\n",
            "(e) to assist and encourage the marketing of tea in and outside Ceylon and to promote the demand for tea in the world markets;\n",
            "|\n",
            "|\n",
            "(f) to conduct, assist and encourage scientific and technological resear\n"
          ]
        }
      ]
    },
    {
      "cell_type": "code",
      "source": [
        "# Query without specifying document type (searches across all categories)\n",
        "query_without_category = \"What is the capital city of Japan\"\n",
        "response_without_category = query_documents(query_without_category)"
      ],
      "metadata": {
        "id": "bcBGH4PkP3R3"
      },
      "execution_count": 72,
      "outputs": []
    },
    {
      "cell_type": "code",
      "source": [
        "# Display results for query without specifying a category\n",
        "print(\"\\n\\nResponse for query without specified category:\")\n",
        "print(response_without_category[\"result\"])\n",
        "print(\"\\nSource Documents:\")\n",
        "for doc in response_without_category[\"source_documents\"]:\n",
        "    print(f\"Document Source: {doc.metadata.get('source', 'No source available')}\")\n",
        "    print(f\"Document Content Snippet: {doc.page_content[:500]}\")"
      ],
      "metadata": {
        "collapsed": true,
        "id": "LuEXLYRHr6nk",
        "outputId": "f7ca7e76-a20a-4040-cbe9-f44d1681d97f",
        "colab": {
          "base_uri": "https://localhost:8080/"
        }
      },
      "execution_count": 73,
      "outputs": [
        {
          "output_type": "stream",
          "name": "stdout",
          "text": [
            "\n",
            "\n",
            "Response for query without specified category:\n",
            "I don't see any information about Japan in the provided context. The context appears to be related to a law or legislation in a country with a rupee currency, possibly India, but it doesn't mention Japan.\n",
            "\n",
            "Source Documents:\n",
            "Document Source: /content/drive/MyDrive/Omdena_Challenge/new_LK_tea_dataset/ACT/ACT_25.txt\n",
            "Document Content Snippet: |\n",
            "24. Every person who is guilty of an offence under this Act shall, on conviction after summary trial before a Magistrate, be a liable to a fine not exceeding fifty thousand rupees or to imprisonment of either description for a period not exceeding one year, or to both such fine and imprisonment, notwithstanding that ‘the fine exceeds the amount of fine which a Magistrate may impose in the exercise of his ordinary jurisdiction.”.\n",
            "|\n",
            "|\n",
            "Amendment of section 31 of the principal enactment.\n",
            "|\n",
            "5. Sect\n",
            "Document Source: /content/drive/MyDrive/Omdena_Challenge/new_LK_tea_dataset/ACT/ACT_25.txt\n",
            "Document Content Snippet: |\n",
            "24. Every person who is guilty of an offence under this Act shall, on conviction after summary trial before a Magistrate, be a liable to a fine not exceeding fifty thousand rupees or to imprisonment of either description for a period not exceeding one year, or to both such fine and imprisonment, notwithstanding that ‘the fine exceeds the amount of fine which a Magistrate may impose in the exercise of his ordinary jurisdiction.”.\n",
            "|\n",
            "|\n",
            "Amendment of section 31 of the principal enactment.\n",
            "|\n",
            "5. Sect\n",
            "Document Source: /content/drive/MyDrive/Omdena_Challenge/new_LK_tea_dataset/ACT/ACT_25.txt\n",
            "Document Content Snippet: |\n",
            "24. Every person who is guilty of an offence under this Act shall, on conviction after summary trial before a Magistrate, be a liable to a fine not exceeding fifty thousand rupees or to imprisonment of either description for a period not exceeding one year, or to both such fine and imprisonment, notwithstanding that ‘the fine exceeds the amount of fine which a Magistrate may impose in the exercise of his ordinary jurisdiction.”.\n",
            "|\n",
            "|\n",
            "Amendment of section 31 of the principal enactment.\n",
            "|\n",
            "5. Sect\n",
            "Document Source: /content/drive/MyDrive/Omdena_Challenge/new_LK_tea_dataset/ACT/ACT_25.txt\n",
            "Document Content Snippet: |\n",
            "24. Every person who is guilty of an offence under this Act shall, on conviction after summary trial before a Magistrate, be a liable to a fine not exceeding fifty thousand rupees or to imprisonment of either description for a period not exceeding one year, or to both such fine and imprisonment, notwithstanding that ‘the fine exceeds the amount of fine which a Magistrate may impose in the exercise of his ordinary jurisdiction.”.\n",
            "|\n",
            "|\n",
            "Amendment of section 31 of the principal enactment.\n",
            "|\n",
            "5. Sect\n"
          ]
        }
      ]
    },
    {
      "cell_type": "code",
      "source": [],
      "metadata": {
        "id": "OxiEnOI2x_zB"
      },
      "execution_count": null,
      "outputs": []
    }
  ]
}